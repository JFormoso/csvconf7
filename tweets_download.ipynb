{
 "cells": [
  {
   "cell_type": "code",
   "execution_count": 1,
   "id": "9bf29ebf-3f44-432b-a822-5a82970af8d5",
   "metadata": {
    "tags": []
   },
   "outputs": [],
   "source": [
    "import os\n",
    "import tweepy\n",
    "from dotenv import load_dotenv"
   ]
  },
  {
   "cell_type": "code",
   "execution_count": 2,
   "id": "fa161c4f-821c-4e42-804a-43b793273c83",
   "metadata": {
    "tags": []
   },
   "outputs": [],
   "source": [
    "consumer_key = \"jImzW1n0jduxa4G1YbKNohTbV\"\n",
    "consumer_secret = \"8eCgNHfwFB9hMhVzmsQopx6RSxKALH0hq8WiCtbY5zQD0vtgR1\"\n",
    "access_token = \"2276200944-c5h6TW13kx3FGKibfzbOJiJYiHaDB2orR8zlEDI\"\n",
    "access_token_secret = \"UHCriOErbd7mjtZ6qEuhI8M0v5ywzpjLUPTdi8CEVw2HA\"\n",
    "\n",
    "# bearer_token = \"AAAAAAAAAAAAAAAAAAAAAF3HlgEAAAAA09K2to%2F%2BIJbW9q3ab%2Bxq5M%2BP9zE%3D9oFKy7bP5yMkNk3ISr7kMiAOPKY5cPfd1FLZ45rwynKz1uM6It\"\n",
    "\n",
    "auth = tweepy.OAuth1UserHandler(\n",
    "  consumer_key, \n",
    "  consumer_secret, \n",
    "  access_token, \n",
    "  access_token_secret\n",
    ")\n",
    "\n",
    "api = tweepy.API(auth)"
   ]
  },
  {
   "cell_type": "code",
   "execution_count": 8,
   "id": "168db758-143f-4380-830b-3f5620baa764",
   "metadata": {
    "tags": []
   },
   "outputs": [
    {
     "name": "stdout",
     "output_type": "stream",
     "text": [
      "configuroweb: Chat en #python (comparto el #código)\n",
      "\n",
      "https://t.co/2rGlmDvXL5\n",
      "\n",
      "#desarrolloweb #software #configuroweb #opensource\n",
      "[{'domain': {'id': '46', 'name': 'Business Taxonomy', 'description': 'Categories within Brand Verticals that narrow down the scope of Brands'}, 'entity': {'id': '1557697333571112960', 'name': 'Technology Business', 'description': 'Brands, companies, advertisers and every non-person handle with the profit intent related to softwares, apps, communication equipments, hardwares'}}, {'domain': {'id': '30', 'name': 'Entities [Entity Service]', 'description': 'Entity Service top level domain, every item that is in Entity Service should be in this domain'}, 'entity': {'id': '848920371311001600', 'name': 'Technology', 'description': 'Technology and computing'}}, {'domain': {'id': '66', 'name': 'Interests and Hobbies Category', 'description': 'A grouping of interests and hobbies entities, like Novelty Food or Destinations'}, 'entity': {'id': '848921413196984320', 'name': 'Computer programming', 'description': 'Computer programming'}}, {'domain': {'id': '66', 'name': 'Interests and Hobbies Category', 'description': 'A grouping of interests and hobbies entities, like Novelty Food or Destinations'}, 'entity': {'id': '898673391980261376', 'name': 'Web development', 'description': 'Web Development'}}, {'domain': {'id': '30', 'name': 'Entities [Entity Service]', 'description': 'Entity Service top level domain, every item that is in Entity Service should be in this domain'}, 'entity': {'id': '930484568305541120', 'name': 'Data science', 'description': 'Data Science'}}, {'domain': {'id': '131', 'name': 'Unified Twitter Taxonomy', 'description': 'A taxonomy of user interests. '}, 'entity': {'id': '848921413196984320', 'name': 'Computer programming', 'description': 'Computer programming'}}, {'domain': {'id': '131', 'name': 'Unified Twitter Taxonomy', 'description': 'A taxonomy of user interests. '}, 'entity': {'id': '898673391980261376', 'name': 'Web development', 'description': 'Web Development'}}, {'domain': {'id': '30', 'name': 'Entities [Entity Service]', 'description': 'Entity Service top level domain, every item that is in Entity Service should be in this domain'}, 'entity': {'id': '848920371311001600', 'name': 'Technology', 'description': 'Technology and computing'}}, {'domain': {'id': '66', 'name': 'Interests and Hobbies Category', 'description': 'A grouping of interests and hobbies entities, like Novelty Food or Destinations'}, 'entity': {'id': '848921413196984320', 'name': 'Computer programming', 'description': 'Computer programming'}}, {'domain': {'id': '66', 'name': 'Interests and Hobbies Category', 'description': 'A grouping of interests and hobbies entities, like Novelty Food or Destinations'}, 'entity': {'id': '849075430715936768', 'name': 'Open source', 'description': 'Open source'}}, {'domain': {'id': '131', 'name': 'Unified Twitter Taxonomy', 'description': 'A taxonomy of user interests. '}, 'entity': {'id': '849075430715936768', 'name': 'Open source', 'description': 'Open source'}}]\n",
      "Chat en #python (comparto el #código)\n",
      "\n",
      "https://t.co/eR35W3DZlz\n",
      "\n",
      "#desarrolloweb #software #configuroweb #opensource\n",
      "[{'domain': {'id': '46', 'name': 'Business Taxonomy', 'description': 'Categories within Brand Verticals that narrow down the scope of Brands'}, 'entity': {'id': '1557697333571112960', 'name': 'Technology Business', 'description': 'Brands, companies, advertisers and every non-person handle with the profit intent related to softwares, apps, communication equipments, hardwares'}}, {'domain': {'id': '30', 'name': 'Entities [Entity Service]', 'description': 'Entity Service top level domain, every item that is in Entity Service should be in this domain'}, 'entity': {'id': '848920371311001600', 'name': 'Technology', 'description': 'Technology and computing'}}, {'domain': {'id': '66', 'name': 'Interests and Hobbies Category', 'description': 'A grouping of interests and hobbies entities, like Novelty Food or Destinations'}, 'entity': {'id': '848921413196984320', 'name': 'Computer programming', 'description': 'Computer programming'}}, {'domain': {'id': '66', 'name': 'Interests and Hobbies Category', 'description': 'A grouping of interests and hobbies entities, like Novelty Food or Destinations'}, 'entity': {'id': '898673391980261376', 'name': 'Web development', 'description': 'Web Development'}}, {'domain': {'id': '30', 'name': 'Entities [Entity Service]', 'description': 'Entity Service top level domain, every item that is in Entity Service should be in this domain'}, 'entity': {'id': '930484568305541120', 'name': 'Data science', 'description': 'Data Science'}}, {'domain': {'id': '131', 'name': 'Unified Twitter Taxonomy', 'description': 'A taxonomy of user interests. '}, 'entity': {'id': '848921413196984320', 'name': 'Computer programming', 'description': 'Computer programming'}}, {'domain': {'id': '131', 'name': 'Unified Twitter Taxonomy', 'description': 'A taxonomy of user interests. '}, 'entity': {'id': '898673391980261376', 'name': 'Web development', 'description': 'Web Development'}}, {'domain': {'id': '30', 'name': 'Entities [Entity Service]', 'description': 'Entity Service top level domain, every item that is in Entity Service should be in this domain'}, 'entity': {'id': '848920371311001600', 'name': 'Technology', 'description': 'Technology and computing'}}, {'domain': {'id': '66', 'name': 'Interests and Hobbies Category', 'description': 'A grouping of interests and hobbies entities, like Novelty Food or Destinations'}, 'entity': {'id': '848921413196984320', 'name': 'Computer programming', 'description': 'Computer programming'}}, {'domain': {'id': '66', 'name': 'Interests and Hobbies Category', 'description': 'A grouping of interests and hobbies entities, like Novelty Food or Destinations'}, 'entity': {'id': '849075430715936768', 'name': 'Open source', 'description': 'Open source'}}, {'domain': {'id': '131', 'name': 'Unified Twitter Taxonomy', 'description': 'A taxonomy of user interests. '}, 'entity': {'id': '849075430715936768', 'name': 'Open source', 'description': 'Open source'}}]\n",
      "RT @rednetworkmx: Traenos tu equipo viejo y le damos una nueva vida con Linux, le instalamos la versión mas adecuada para que lo puedas uti…\n",
      "[{'domain': {'id': '46', 'name': 'Business Taxonomy', 'description': 'Categories within Brand Verticals that narrow down the scope of Brands'}, 'entity': {'id': '1557697333571112960', 'name': 'Technology Business', 'description': 'Brands, companies, advertisers and every non-person handle with the profit intent related to softwares, apps, communication equipments, hardwares'}}, {'domain': {'id': '30', 'name': 'Entities [Entity Service]', 'description': 'Entity Service top level domain, every item that is in Entity Service should be in this domain'}, 'entity': {'id': '848920371311001600', 'name': 'Technology', 'description': 'Technology and computing'}}, {'domain': {'id': '66', 'name': 'Interests and Hobbies Category', 'description': 'A grouping of interests and hobbies entities, like Novelty Food or Destinations'}, 'entity': {'id': '848959431836487680', 'name': 'Linux', 'description': 'Linux'}}, {'domain': {'id': '131', 'name': 'Unified Twitter Taxonomy', 'description': 'A taxonomy of user interests. '}, 'entity': {'id': '848959431836487680', 'name': 'Linux', 'description': 'Linux'}}]\n",
      "Traenos tu equipo viejo y le damos una nueva vida con Linux, le instalamos la versión mas adecuada para que lo puedas utilizar, completamente gratis #linux #opensource #archlinux #manjarolinux #ubuntulinux #linuxmint #fedoralinux #mageialinux https://t.co/h8DaTPf0fu\n",
      "[{'domain': {'id': '46', 'name': 'Business Taxonomy', 'description': 'Categories within Brand Verticals that narrow down the scope of Brands'}, 'entity': {'id': '1557697333571112960', 'name': 'Technology Business', 'description': 'Brands, companies, advertisers and every non-person handle with the profit intent related to softwares, apps, communication equipments, hardwares'}}, {'domain': {'id': '30', 'name': 'Entities [Entity Service]', 'description': 'Entity Service top level domain, every item that is in Entity Service should be in this domain'}, 'entity': {'id': '848920371311001600', 'name': 'Technology', 'description': 'Technology and computing'}}, {'domain': {'id': '66', 'name': 'Interests and Hobbies Category', 'description': 'A grouping of interests and hobbies entities, like Novelty Food or Destinations'}, 'entity': {'id': '848921413196984320', 'name': 'Computer programming', 'description': 'Computer programming'}}, {'domain': {'id': '66', 'name': 'Interests and Hobbies Category', 'description': 'A grouping of interests and hobbies entities, like Novelty Food or Destinations'}, 'entity': {'id': '848959431836487680', 'name': 'Linux', 'description': 'Linux'}}, {'domain': {'id': '66', 'name': 'Interests and Hobbies Category', 'description': 'A grouping of interests and hobbies entities, like Novelty Food or Destinations'}, 'entity': {'id': '849075430715936768', 'name': 'Open source', 'description': 'Open source'}}, {'domain': {'id': '131', 'name': 'Unified Twitter Taxonomy', 'description': 'A taxonomy of user interests. '}, 'entity': {'id': '848959431836487680', 'name': 'Linux', 'description': 'Linux'}}, {'domain': {'id': '131', 'name': 'Unified Twitter Taxonomy', 'description': 'A taxonomy of user interests. '}, 'entity': {'id': '849075430715936768', 'name': 'Open source', 'description': 'Open source'}}]\n",
      "Traenos tu equipo viejo y le damos una nueva vida con Linux, le instalamos la versión mas adecuada para que lo puedas utilizar, completamente gratis #linux #opensource #archlinux #manjarolinux #ubuntulinux #linuxmint #fedoralinux #mageialinux https://t.co/HPcFovlLnX\n",
      "[{'domain': {'id': '46', 'name': 'Business Taxonomy', 'description': 'Categories within Brand Verticals that narrow down the scope of Brands'}, 'entity': {'id': '1557697333571112960', 'name': 'Technology Business', 'description': 'Brands, companies, advertisers and every non-person handle with the profit intent related to softwares, apps, communication equipments, hardwares'}}, {'domain': {'id': '30', 'name': 'Entities [Entity Service]', 'description': 'Entity Service top level domain, every item that is in Entity Service should be in this domain'}, 'entity': {'id': '848920371311001600', 'name': 'Technology', 'description': 'Technology and computing'}}, {'domain': {'id': '66', 'name': 'Interests and Hobbies Category', 'description': 'A grouping of interests and hobbies entities, like Novelty Food or Destinations'}, 'entity': {'id': '848921413196984320', 'name': 'Computer programming', 'description': 'Computer programming'}}, {'domain': {'id': '66', 'name': 'Interests and Hobbies Category', 'description': 'A grouping of interests and hobbies entities, like Novelty Food or Destinations'}, 'entity': {'id': '848959431836487680', 'name': 'Linux', 'description': 'Linux'}}, {'domain': {'id': '66', 'name': 'Interests and Hobbies Category', 'description': 'A grouping of interests and hobbies entities, like Novelty Food or Destinations'}, 'entity': {'id': '849075430715936768', 'name': 'Open source', 'description': 'Open source'}}, {'domain': {'id': '131', 'name': 'Unified Twitter Taxonomy', 'description': 'A taxonomy of user interests. '}, 'entity': {'id': '848959431836487680', 'name': 'Linux', 'description': 'Linux'}}, {'domain': {'id': '131', 'name': 'Unified Twitter Taxonomy', 'description': 'A taxonomy of user interests. '}, 'entity': {'id': '849075430715936768', 'name': 'Open source', 'description': 'Open source'}}]\n",
      "RT @carlestenorio: Muestra de la sesion de hoy. Modelar un avión de juguete para texturizarlo con Atlas de Color. Para darle al Asset un Lo…\n",
      "RT @msdevlatam: Aumenta tu background profesional y descubre cómo el #OpenSource te ayuda a potenciar el desarrollo de tus apps al acelerar…\n",
      "[{'domain': {'id': '46', 'name': 'Business Taxonomy', 'description': 'Categories within Brand Verticals that narrow down the scope of Brands'}, 'entity': {'id': '1557697333571112960', 'name': 'Technology Business', 'description': 'Brands, companies, advertisers and every non-person handle with the profit intent related to softwares, apps, communication equipments, hardwares'}}, {'domain': {'id': '30', 'name': 'Entities [Entity Service]', 'description': 'Entity Service top level domain, every item that is in Entity Service should be in this domain'}, 'entity': {'id': '848920371311001600', 'name': 'Technology', 'description': 'Technology and computing'}}, {'domain': {'id': '66', 'name': 'Interests and Hobbies Category', 'description': 'A grouping of interests and hobbies entities, like Novelty Food or Destinations'}, 'entity': {'id': '848921413196984320', 'name': 'Computer programming', 'description': 'Computer programming'}}, {'domain': {'id': '66', 'name': 'Interests and Hobbies Category', 'description': 'A grouping of interests and hobbies entities, like Novelty Food or Destinations'}, 'entity': {'id': '849075430715936768', 'name': 'Open source', 'description': 'Open source'}}, {'domain': {'id': '131', 'name': 'Unified Twitter Taxonomy', 'description': 'A taxonomy of user interests. '}, 'entity': {'id': '849075430715936768', 'name': 'Open source', 'description': 'Open source'}}]\n",
      "RT @botdmtktwo: [2023] Descuento Domestika - Hasta 75% Menos + 10% Extra https://t.co/Z5U0rkkMFT \n",
      "\n",
      "#Domestika\n",
      "#Plus\n",
      "#Oferta\n",
      "#Cursos\n",
      "#Formac…\n",
      "[2023] Descuento Domestika - Hasta 75% Menos + 10% Extra \n",
      "https://t.co/Z5U0rkkMFT \n",
      " \n",
      "#domestika #plus #oferta #cursos #formacionOnline #skillshare #udemy #opensource #cursosOnline #cursosGratis #paypal #comunidade #manager #java #motiondesign #cupon #coupon #cupom #descuento\n",
      "[{'domain': {'id': '46', 'name': 'Business Taxonomy', 'description': 'Categories within Brand Verticals that narrow down the scope of Brands'}, 'entity': {'id': '1552291412820893697', 'name': 'Education Business', 'description': 'Brands, companies, advertisers and every non-person handle with the profit intent related to education such as colleges, school material, schools'}}, {'domain': {'id': '46', 'name': 'Business Taxonomy', 'description': 'Categories within Brand Verticals that narrow down the scope of Brands'}, 'entity': {'id': '1557696802391859201', 'name': 'Entertainment & Leisure Business', 'description': 'Brands, companies, advertisers and every non-person handle with the profit intent related to movies, music, television, franchises, venues, theme parks, toys, tourism, hotels'}}, {'domain': {'id': '46', 'name': 'Business Taxonomy', 'description': 'Categories within Brand Verticals that narrow down the scope of Brands'}, 'entity': {'id': '1557697333571112960', 'name': 'Technology Business', 'description': 'Brands, companies, advertisers and every non-person handle with the profit intent related to softwares, apps, communication equipments, hardwares'}}, {'domain': {'id': '47', 'name': 'Brand', 'description': 'Brands and Companies'}, 'entity': {'id': '10041046258', 'name': 'PayPal'}}, {'domain': {'id': '30', 'name': 'Entities [Entity Service]', 'description': 'Entity Service top level domain, every item that is in Entity Service should be in this domain'}, 'entity': {'id': '848920371311001600', 'name': 'Technology', 'description': 'Technology and computing'}}, {'domain': {'id': '66', 'name': 'Interests and Hobbies Category', 'description': 'A grouping of interests and hobbies entities, like Novelty Food or Destinations'}, 'entity': {'id': '848921413196984320', 'name': 'Computer programming', 'description': 'Computer programming'}}, {'domain': {'id': '131', 'name': 'Unified Twitter Taxonomy', 'description': 'A taxonomy of user interests. '}, 'entity': {'id': '10041046258', 'name': 'PayPal'}}, {'domain': {'id': '131', 'name': 'Unified Twitter Taxonomy', 'description': 'A taxonomy of user interests. '}, 'entity': {'id': '848921413196984320', 'name': 'Computer programming', 'description': 'Computer programming'}}, {'domain': {'id': '131', 'name': 'Unified Twitter Taxonomy', 'description': 'A taxonomy of user interests. '}, 'entity': {'id': '864154902926196737', 'name': 'S&P 500', 'description': 'S&P 500'}}, {'domain': {'id': '131', 'name': 'Unified Twitter Taxonomy', 'description': 'A taxonomy of user interests. '}, 'entity': {'id': '1276514328007467008', 'name': 'Movies & TV'}}, {'domain': {'id': '131', 'name': 'Unified Twitter Taxonomy', 'description': 'A taxonomy of user interests. '}, 'entity': {'id': '1285702479426945024', 'name': 'Special effects'}}, {'domain': {'id': '30', 'name': 'Entities [Entity Service]', 'description': 'Entity Service top level domain, every item that is in Entity Service should be in this domain'}, 'entity': {'id': '848920371311001600', 'name': 'Technology', 'description': 'Technology and computing'}}, {'domain': {'id': '66', 'name': 'Interests and Hobbies Category', 'description': 'A grouping of interests and hobbies entities, like Novelty Food or Destinations'}, 'entity': {'id': '848921413196984320', 'name': 'Computer programming', 'description': 'Computer programming'}}, {'domain': {'id': '66', 'name': 'Interests and Hobbies Category', 'description': 'A grouping of interests and hobbies entities, like Novelty Food or Destinations'}, 'entity': {'id': '849075430715936768', 'name': 'Open source', 'description': 'Open source'}}, {'domain': {'id': '131', 'name': 'Unified Twitter Taxonomy', 'description': 'A taxonomy of user interests. '}, 'entity': {'id': '849075430715936768', 'name': 'Open source', 'description': 'Open source'}}]\n",
      "[2023] Descuento Domestika - Hasta 75% Menos + 10% Extra https://t.co/Z5U0rkkMFT \n",
      "\n",
      "#Domestika\n",
      "#Plus\n",
      "#Oferta\n",
      "#Cursos\n",
      "#FormacionOnline\n",
      "#Skillshare\n",
      "#Udemy\n",
      "#OpenSource\n",
      "#CursosOnline\n",
      "#CursosGratis\n",
      "#Java\n",
      "#MotionDesign\n",
      "#Arte\n",
      "#Cupon\n",
      "#Coupon\n",
      "#Cupom\n",
      "#Descuento\n",
      "[{'domain': {'id': '46', 'name': 'Business Taxonomy', 'description': 'Categories within Brand Verticals that narrow down the scope of Brands'}, 'entity': {'id': '1552291412820893697', 'name': 'Education Business', 'description': 'Brands, companies, advertisers and every non-person handle with the profit intent related to education such as colleges, school material, schools'}}, {'domain': {'id': '46', 'name': 'Business Taxonomy', 'description': 'Categories within Brand Verticals that narrow down the scope of Brands'}, 'entity': {'id': '1557696802391859201', 'name': 'Entertainment & Leisure Business', 'description': 'Brands, companies, advertisers and every non-person handle with the profit intent related to movies, music, television, franchises, venues, theme parks, toys, tourism, hotels'}}, {'domain': {'id': '46', 'name': 'Business Taxonomy', 'description': 'Categories within Brand Verticals that narrow down the scope of Brands'}, 'entity': {'id': '1557697333571112960', 'name': 'Technology Business', 'description': 'Brands, companies, advertisers and every non-person handle with the profit intent related to softwares, apps, communication equipments, hardwares'}}, {'domain': {'id': '30', 'name': 'Entities [Entity Service]', 'description': 'Entity Service top level domain, every item that is in Entity Service should be in this domain'}, 'entity': {'id': '848920371311001600', 'name': 'Technology', 'description': 'Technology and computing'}}, {'domain': {'id': '66', 'name': 'Interests and Hobbies Category', 'description': 'A grouping of interests and hobbies entities, like Novelty Food or Destinations'}, 'entity': {'id': '848921413196984320', 'name': 'Computer programming', 'description': 'Computer programming'}}, {'domain': {'id': '131', 'name': 'Unified Twitter Taxonomy', 'description': 'A taxonomy of user interests. '}, 'entity': {'id': '848921413196984320', 'name': 'Computer programming', 'description': 'Computer programming'}}, {'domain': {'id': '131', 'name': 'Unified Twitter Taxonomy', 'description': 'A taxonomy of user interests. '}, 'entity': {'id': '1276514328007467008', 'name': 'Movies & TV'}}, {'domain': {'id': '131', 'name': 'Unified Twitter Taxonomy', 'description': 'A taxonomy of user interests. '}, 'entity': {'id': '1285702479426945024', 'name': 'Special effects'}}, {'domain': {'id': '30', 'name': 'Entities [Entity Service]', 'description': 'Entity Service top level domain, every item that is in Entity Service should be in this domain'}, 'entity': {'id': '848920371311001600', 'name': 'Technology', 'description': 'Technology and computing'}}, {'domain': {'id': '66', 'name': 'Interests and Hobbies Category', 'description': 'A grouping of interests and hobbies entities, like Novelty Food or Destinations'}, 'entity': {'id': '848921413196984320', 'name': 'Computer programming', 'description': 'Computer programming'}}, {'domain': {'id': '66', 'name': 'Interests and Hobbies Category', 'description': 'A grouping of interests and hobbies entities, like Novelty Food or Destinations'}, 'entity': {'id': '849075430715936768', 'name': 'Open source', 'description': 'Open source'}}, {'domain': {'id': '131', 'name': 'Unified Twitter Taxonomy', 'description': 'A taxonomy of user interests. '}, 'entity': {'id': '849075430715936768', 'name': 'Open source', 'description': 'Open source'}}]\n"
     ]
    }
   ],
   "source": [
    "# OAuth2.0 Version \n",
    "import tweepy\n",
    "\n",
    "#Put your Bearer Token in the parenthesis below\n",
    "client = tweepy.Client(bearer_token='AAAAAAAAAAAAAAAAAAAAAF3HlgEAAAAA09K2to%2F%2BIJbW9q3ab%2Bxq5M%2BP9zE%3D9oFKy7bP5yMkNk3ISr7kMiAOPKY5cPfd1FLZ45rwynKz1uM6It')\n",
    "\n",
    "\"\"\"\n",
    "If you don't understand search queries, there is an excellent introduction to it here: \n",
    "https://github.com/twitterdev/getting-started-with-the-twitter-api-v2-for-academic-research/blob/main/modules/5-how-to-write-search-queries.md\n",
    "\"\"\"\n",
    "\n",
    "# Get tweets that contain the hashtag #petday\n",
    "# -is:retweet means I don't want retweets\n",
    "# lang:en is asking for the tweets to be in english\n",
    "\n",
    "palabra_de_busqueda = 'opensource'\n",
    "\n",
    "query = palabra_de_busqueda+' lang:es'\n",
    "\n",
    "#t = ['attachments','author_id','context_annotations','conversation_id','created_at','edit_controls','edit_history_tweet_ids','entities','geo','id','in_reply_to_user_id','lang','non_public_metrics','organic_metrics','possibly_sensitive','promoted_metrics','public_metrics','referenced_tweets','reply_settings','source','text','withheld']\n",
    "t = ['public_metrics','attachments','author_id','context_annotations','conversation_id','created_at','edit_controls','edit_history_tweet_ids','entities','geo','id','in_reply_to_user_id','lang','possibly_sensitive','referenced_tweets','reply_settings','source','text','withheld']\n",
    "\n",
    "\n",
    "#tweets = client.search_recent_tweets(query=query, tweet_fields=['text', 'context_annotations','created_at','lang','public_metrics'], max_results=10)\n",
    "tweets = client.search_recent_tweets(query=query, tweet_fields=t, end_time='2023-03-10T00:00:00Z' ,max_results=10)\n",
    "\n",
    "\"\"\"\n",
    "What context_annotations are: \n",
    "https://developer.twitter.com/en/docs/twitter-api/annotations/overview\n",
    "\"\"\"\n",
    "for tweet in tweets.data:\n",
    "    #print(type(tweet))\n",
    "    print(tweet.text)\n",
    "    if len(tweet.context_annotations) > 0:\n",
    "        print(tweet.context_annotations)"
   ]
  },
  {
   "cell_type": "code",
   "execution_count": null,
   "id": "4ed544a4-9d0a-4714-9743-f322e01ebdaa",
   "metadata": {},
   "outputs": [],
   "source": []
  },
  {
   "cell_type": "code",
   "execution_count": null,
   "id": "00359eee-6b53-412c-bb84-89756b552bf5",
   "metadata": {},
   "outputs": [],
   "source": []
  },
  {
   "cell_type": "code",
   "execution_count": null,
   "id": "6608d497-5604-44d8-be4d-9f4ef46aafc6",
   "metadata": {},
   "outputs": [],
   "source": []
  },
  {
   "cell_type": "code",
   "execution_count": null,
   "id": "3d0b5967-22a9-416e-a6e9-a3008e78fd68",
   "metadata": {},
   "outputs": [],
   "source": []
  },
  {
   "cell_type": "code",
   "execution_count": null,
   "id": "fa5f8d8e-9eed-4abe-afd3-076f95b0ce47",
   "metadata": {},
   "outputs": [],
   "source": []
  },
  {
   "cell_type": "code",
   "execution_count": null,
   "id": "e1f22f25-45f2-4a5c-b90c-28856cac2cd5",
   "metadata": {},
   "outputs": [],
   "source": []
  },
  {
   "cell_type": "code",
   "execution_count": null,
   "id": "65ec894d-55bc-4bd6-af04-101a6fe48cc4",
   "metadata": {},
   "outputs": [],
   "source": []
  },
  {
   "cell_type": "code",
   "execution_count": 9,
   "id": "fbea7680-94f3-42a8-b19b-ba65560804a1",
   "metadata": {
    "tags": []
   },
   "outputs": [
    {
     "name": "stdout",
     "output_type": "stream",
     "text": [
      "[2023] Descuento Domestika - Hasta 75% Menos + 10% Extra https://t.co/Z5U0rkkMFT \n",
      "\n",
      "#Domestika\n",
      "#Plus\n",
      "#Oferta\n",
      "#Cursos\n",
      "#FormacionOnline\n",
      "#Skillshare\n",
      "#Udemy\n",
      "#OpenSource\n",
      "#CursosOnline\n",
      "#CursosGratis\n",
      "#Java\n",
      "#MotionDesign\n",
      "#Arte\n",
      "#Cupon\n",
      "#Coupon\n",
      "#Cupom\n",
      "#Descuento\n"
     ]
    }
   ],
   "source": [
    "if len(tweet.text) > 0:\n",
    "    print(tweet.text)"
   ]
  },
  {
   "cell_type": "code",
   "execution_count": 10,
   "id": "4edca0df-6fc1-4dd7-85cb-7b53e3087971",
   "metadata": {
    "tags": []
   },
   "outputs": [],
   "source": [
    "lista_de_palabras = ['scipyLatam','scipy Latam','scipy LA',  'meetup', 'software libre', 'free software', 'reproducibilidad', 'reproducibility', 'Women in Bioinformatics Data Science LA', 'WBDSLA','WBDS LA','FLISOL','SoftwareLibre', 'ComunidadTecnológica']\n",
    "\n",
    "\n",
    "#'Women in Bioinformatics and Data Science Latin America'"
   ]
  },
  {
   "cell_type": "code",
   "execution_count": 11,
   "id": "43b61835-0a50-485b-8452-6332b0e9b50c",
   "metadata": {
    "tags": []
   },
   "outputs": [
    {
     "name": "stdout",
     "output_type": "stream",
     "text": [
      "scipyLatam lang:es\n",
      "Response(data=None, includes={}, errors=[], meta={'result_count': 0})\n",
      "scipy Latam lang:es\n",
      "Response(data=None, includes={}, errors=[], meta={'result_count': 0})\n",
      "scipy LA lang:es\n",
      "Response(data=None, includes={}, errors=[], meta={'result_count': 0})\n",
      "meetup lang:es\n",
      "Response(data=[<Tweet id=1636375456592310278 text='RT @SomosColledge: 📢 Estimada Comunidad de Chile 🇨🇱! El próximo 21/03 estaremos presentes en el Meetup: #Web3 en Chile ¿Qué está pasando? O…'>, <Tweet id=1636375057407840259 text='📢 Estimada Comunidad de Chile 🇨🇱! El próximo 21/03 estaremos presentes en el Meetup: #Web3 en Chile ¿Qué está pasando? Organizado por nuestros amigos de @Arch_Finance_ES \\n\\nℹ️ Registro gratis en (Cupos limitados) https://t.co/ssii0H0tSy'>, <Tweet id=1636374481882193920 text='Está guay que pregunte para quedar. Me da que va a tener bastante tiempo libre pronto. Pero yo que sé, un Meetup había valido. https://t.co/fQjRTmXmrA'>, <Tweet id=1636374423472328717 text='III Ciclo de Conferencias #ACOCANIC 2023   \\nTema: Chivoterapia. 🐐\\n Expositora: Sra.: Yadira Margarita Álvarez, Administradora de empresa con énfasis en agropecuaria.\\n\\n☑ Únete  a la conferencia a través de este enlace 👉 https://t.co/w8obaBvSeh https://t.co/pkipocLtQ9'>, <Tweet id=1636374191116263425 text='Darío Macchi es Senior Software Engineer &amp; Dev Advocate en @hurrayforhowdy. 👨🏻\\u200d💻\\n\\nEn esta #TRIBUTalk nos hablará de la importancia de crear una marca personal y los beneficios de aprender en público, utilizando el poder del aprendizaje para avanzar en https://t.co/bYxO29ljl3… https://t.co/c4oWOUYWoL https://t.co/fspPFECkZf'>, <Tweet id=1636372925891878913 text='RT @Registrador_es: Hoy a las 16,30 h. celebraremos el Seminario 99 de la Fundación Coloquio Jurídico Europeo\\n\\nPonentes: @SarasolaIgnacio,…'>, <Tweet id=1636372820212195330 text='En dos semanas vamos con este #meetup de #datascience en #Córdoba: https://t.co/gl4TzEmcew \\n\\nLike, retuit y esas cosas!'>, <Tweet id=1636372395580706816 text='RT @indagandoTV: Ahora en directo , un lujo de panel para analizar claves #geopoliticas detras de las #crisis #emergencias #desastres  @Fra…'>, <Tweet id=1636371112933175297 text='RT @diegobc28: Gm raza.  Hoy es jueves de meetup, así que ya se la saben, si andan en Monterrey cáiganle a cotorrear. It’s gonna be lit 🔥'>, <Tweet id=1636368592089518080 text='AHORA | Presentación del Índice de Confianza del Consumidor, correspondiente a febrero 2023.\\n#ICCpy\\n\\nSeguí la transmisión vía Teams:\\nhttps://t.co/IcFvhsNqra https://t.co/Dk2oedMAgJ'>, <Tweet id=1636367464094220288 text='Cada día falta menos para que Fran nos cuente sobre qué reglas deben cumplir nuestras jerarquías de herencia para que sean eficaces y sostenibles!!!\\n\\n¿Estas listo? Reserva tu plaza!\\nhttps://t.co/9LdgVT9oWO'>, <Tweet id=1636367135047053312 text='RT @master_fisi_uva: 🧠 RECUERDA ‼️‼️\\n📢ℹ️ Sesión informativa de @NUSGREM, @sedoptica, @SedopticaAJ, @red_cofis, @RSEF_ESP para los estudiant…'>, <Tweet id=1636367132974804992 text='RT @ISSSTE_mx: Dinámica Vivencial para Mujeres. ¿Cómo luchamos las mujeres junto a otras mujeres por nuestros derechos y libertades?\\n#8M\\n#D…'>, <Tweet id=1636366958584102912 text='Atención gente en Valencia! Que sí, que estáis de Fallas pero es que estamos felices porque  los amigos de @VlcSwCraft nos han invitado y vamos a estar hablando de technical coaching en  Les Naus, así que nos vemos en persona en unos días en \"la terreta\"😍https://t.co/Ga6vNW2MjZ'>, <Tweet id=1636365995672584192 text='RT @MarlonDiazyDiaz: Ya estamos en la #BarraAcadémica de la @DefensoriaCol hablando sobre la Psicología del testimonio: EL TESTIMONIO A PRU…'>, <Tweet id=1636364812346363911 text='RT @FlutterMalaga: Añadimos una presentación más para el próximo evento presencial de Flutter Málaga !! 🙌💙🐦\\n\\n@ikicode nos hablará sobre Tes…'>, <Tweet id=1636364216914378753 text='🗣️ 🧪 @adamonzon informa sobre el cambio climático para sensibilizar a la población, la salud y la seguridad. También hablará de cómo podemos impulsar la respuesta ciudadana. Regístrate en nuestro próximo meet up @sagradoedu 🔗🎟️ https://t.co/zHShUlbLPh https://t.co/zmRAFPVrsZ'>, <Tweet id=1636363826063917060 text='RT @Punkyval: Twitcherican que me escucha: si vas a ir a @PRCOMICCON, que día seria cool para hacer un meetup de la comunidad de Twitch bor…'>, <Tweet id=1636363058883821568 text='✔️Agéndate con la Escuela de @CAEI_EAFIT y los desafíos de la ingeniería de transporte 🔧🚄🚘 y su campo de aplicación en las ciudades. \\n\\n🗓️38, 101\\n🕟HOY 16 de marzo, 5:00 p.m. \\n\\n🧐¿No nos puedes acompañar presencialmente?🤔¡Conéctate! 👇\\nhttps://t.co/pKbekYcHw3 https://t.co/WvA22eR35H'>, <Tweet id=1636362820261486592 text='Gm raza.  Hoy es jueves de meetup, así que ya se la saben, si andan en Monterrey cáiganle a cotorrear. It’s gonna be lit 🔥 https://t.co/IaZ0Qc3PvH'>, <Tweet id=1636362756055089153 text='RT @MarlonDiazyDiaz: Ya estamos en la #BarraAcadémica de la @DefensoriaCol hablando sobre la Psicología del testimonio: EL TESTIMONIO A PRU…'>, <Tweet id=1636362572629786624 text='RT @Registrador_es: Hoy a las 16,30 h. celebraremos el Seminario 99 de la Fundación Coloquio Jurídico Europeo\\n\\nPonentes: @SarasolaIgnacio,…'>, <Tweet id=1636362320292052992 text='Hoy a las 1️⃣0️⃣ a.m. en #CapacitacionesBibliotecasUSB abordaremos el tema “Gestión de las emociones” 🤪🤯🥴🧠🫀👀🫂✨❄️ Ingreso al encuentro 👉 https://t.co/aUE1J5pedn\\n#CapacitacionesBibliotecasUSB https://t.co/IT5LcQhotR'>, <Tweet id=1636360869528436737 text='🚨 Si tienes dudas, puedes participar de las charlas informativas en este link: https://t.co/JHUG0JN1ck\\n1° Charla: 16 de marzo - 12:00 hrs.\\n2° Charla: 22 de marzo - 12:00 hrs.\\n\\n👉 Todas las postulaciones deben realizarse a través del Portal de Empleo https://t.co/vkrMS91VLj https://t.co/ZpSKV6gtQd'>, <Tweet id=1636360210817351680 text='RT @Blockchain_Col: Si no pudieron asistir al Meetup \"Mi primer Bear Market\" con @juanencripto @LOReBitcoin @BtcAndres @maurotov @cristpere…'>, <Tweet id=1636357133489917952 text='RT @CLUSTER_DVLPMT: ¡Recuerda nuestra cita de hoy! \\nA las 10 am conoceremos la experiencia de Cataluña sobre las acciones e instrumentos qu…'>, <Tweet id=1636357000664629251 text='RT @CLUSTER_DVLPMT: ¡Recuerda nuestra cita de hoy! \\nA las 10 am conoceremos la experiencia de Cataluña sobre las acciones e instrumentos qu…'>, <Tweet id=1636356382713626624 text='RT @MarlonDiazyDiaz: Ya estamos en la #BarraAcadémica de la @DefensoriaCol hablando sobre la Psicología del testimonio: EL TESTIMONIO A PRU…'>, <Tweet id=1636354846436491265 text='RT @Registrador_es: Hoy a las 16,30 h. celebraremos el Seminario 99 de la Fundación Coloquio Jurídico Europeo\\n\\nPonentes: @SarasolaIgnacio,…'>, <Tweet id=1636353631229296640 text='RT @Blockchain_Col: Si no pudieron asistir al Meetup \"Mi primer Bear Market\" con @juanencripto @LOReBitcoin @BtcAndres @maurotov @cristpere…'>, <Tweet id=1636353403264565248 text='RT @Blockchain_Col: Si no pudieron asistir al Meetup \"Mi primer Bear Market\" con @juanencripto @LOReBitcoin @BtcAndres @maurotov @cristpere…'>, <Tweet id=1636352838287740928 text='RT @MarlonDiazyDiaz: Ya estamos en la #BarraAcadémica de la @DefensoriaCol hablando sobre la Psicología del testimonio: EL TESTIMONIO A PRU…'>, <Tweet id=1636352585119531010 text='RT @CLUSTER_DVLPMT: ¡Recuerda nuestra cita de hoy! \\nA las 10 am conoceremos la experiencia de Cataluña sobre las acciones e instrumentos qu…'>, <Tweet id=1636352518690045953 text='¡Recuerda nuestra cita de hoy! \\nA las 10 am conoceremos la experiencia de Cataluña sobre las acciones e instrumentos que un cluster puede usar para potenciar la internacionalización de sus empresas, con @accio_catel y @Railgrup\\nIngresa haciendo clic aquí: https://t.co/DIlidpidcT https://t.co/zJtljT8apq'>, <Tweet id=1636351623629791232 text='HOY 👉 Soy developer y quiero emprender, ¿Cómo lo logro? 🚀\\n\\nStiven Suárez, emprendedor con 10 años de experiencia, nos contará todo sobre sus aprendizajes como emprendedor y dev al mismo tiempo en esta edición de #TRIBUTalks ⚡️\\n\\n¡Sumate! 👉 https://t.co/4mDoz8J2Iy https://t.co/VdvGjLvYfu'>, <Tweet id=1636347899473715200 text='Por fin llegó el día!! #Malaga #Web3 #tokenización y #Metaverso  @PoloDigitalMLG  @manolomadearq @Xperiendtoken @niko22283 @tutellus @BorjaCandau @zeemcoin @EricSanchez11  @Reental_co @v3rsing @almanftorg \\n\\nEntrada gratuita \\n\\nhttps://t.co/LlWILQxzpW https://t.co/AEO4GUYl2b'>, <Tweet id=1636344562741575681 text='Si no pudieron asistir al Meetup \"Mi primer Bear Market\" con @juanencripto @LOReBitcoin @BtcAndres @maurotov @cristpereirag y @juanbiter , pueden ver la grabación en este enlace: https://t.co/8F1qhvOxOx https://t.co/Z2ryU3WAsR'>, <Tweet id=1636344123572592640 text='Os recordamos que esta tarde a las 17:00 Lene Saile estará en el MeetUp de @11tymeetup con su charla \"How to keep your Eleventy config file organized\". \\xa0\\n\\nhttps://t.co/0CGKBELLBV'>, <Tweet id=1636343848988291074 text='RT @MarlonDiazyDiaz: Ya estamos en la #BarraAcadémica de la @DefensoriaCol hablando sobre la Psicología del testimonio: EL TESTIMONIO A PRU…'>, <Tweet id=1636342830208540673 text='Ya estamos en la #BarraAcadémica de la @DefensoriaCol hablando sobre la Psicología del testimonio: EL TESTIMONIO A PRUEBA, con la Dra. Adriana Espinosa Becerra, Psicóloga Jurídica y Forense y Docente Investigadora. ¡D&amp;D en acción! 👉 https://t.co/azUza4bhDL https://t.co/xRF5fiosnr https://t.co/ULBwwomXpw'>, <Tweet id=1636336525410697216 text='Hoy a las 16,30 h. celebraremos el Seminario 99 de la Fundación Coloquio Jurídico Europeo\\n\\nPonentes: @SarasolaIgnacio, catedrático DC @uniovi_info e @IvanaFrasquet, profesora HMC @UV_EG\\nModera: Francisco José Bastida, catedrático y Patrono FCJE\\n \\nConexión: https://t.co/pYPTNK3Ct7 https://t.co/0U8gRrf93D'>, <Tweet id=1636336523741368320 text='Dinámica Vivencial para Mujeres. ¿Cómo luchamos las mujeres junto a otras mujeres por nuestros derechos y libertades?\\n#8M\\n#DiaInternacionalDeLaMujer\\n🔗 https://t.co/6wuWcc61rj https://t.co/LmtYzojYcz'>, <Tweet id=1636334575541534720 text='RT @LaDAO_Club: ¡Nuestros amigos @0xcuau y @jrobbl311 fundadores de @0xsuarmi van a estar en este meetup! \\n\\nUno de los temas a tratar es co…'>, <Tweet id=1636332737106780160 text='RT @RLadiesSantiago: ✨️¡Estamos de vuelta!✨️\\n\\nDamos inicio a la temporada 2023 con un taller de introducción a Tidymodels a cargo de @sarya…'>, <Tweet id=1636330864383520769 text='RT @PKF_INNCOME: 📢 Arrancamos con nuestro #Webinar \"#NEOTEC_2023: novedades y claves para presentar una propuesta exitosa\" que celebramos j…'>, <Tweet id=1636327109458108416 text='RT @REMED_20: Comienza el #EncuentroREMED de Perspectiva de género y feminismos tecnológicos en museos\" con @aalvarel Angela Cervellera @wi…'>, <Tweet id=1636325586800111621 text='RT @GDGBurgos: 📢¿Quieres descubrir las últimas novedades sobre #Flutter y aprender a programar desde cero tu primera aplicación?\\nTe esperam…'>, <Tweet id=1636323549995515906 text='RT @Jarvis_MXN: Un Meetup con el equipo de @0xsuarmi, el off/on ramp de $jMXN en México 🇲🇽'>, <Tweet id=1636321413215956993 text='Y llego el dia, quiere saber qué es y cómo funciona #ddev ? Unete a nuestra charla con nuestro experto @nireneko de @escueladrupal  #symfony #Drupal #DevOps \\nhttps://t.co/exgOJFXQiy'>, <Tweet id=1636320524107120644 text='RT @LOReBitcoin: Ya en @platzi para el meetup \"Mi primer bear market\" con @juanencripto @juanbiter @BtcAndres @cristpereirag y @maurotov \\nS…'>, <Tweet id=1636320445908545536 text='Acompáñame a TOUR A PIE MADRID II REPÚBLICA y Guerra Civil https://t.co/pob6Y2OVAB'>, <Tweet id=1636320351322791936 text='RT @BNBCHAIN: Comunidad de Medellín🇨🇴\\nForma parte del siguiente evento de BNB Chain en la ciudad.\\nConecta con los proyectos más importantes…'>, <Tweet id=1636320065673994240 text='RT @BNBCHAIN: Comunidad de Bogotá🇨🇴\\n\\nForma parte del siguiente evento de BNB Chain en la ciudad.\\n\\nConecta con los proyectos más importantes…'>, <Tweet id=1636318496505184258 text='Elementor: de 0 a 100 en PageSpeed https://t.co/JAmMtaTKer #Meetup a través de @Meetup'>, <Tweet id=1636317286343507969 text='RT @BNBCHAIN: Comunidad de Bogotá🇨🇴\\n\\nForma parte del siguiente evento de BNB Chain en la ciudad.\\n\\nConecta con los proyectos más importantes…'>, <Tweet id=1636311360928612354 text='Aprender #WordPress no es difícil… ¡si sabes cómo! Y a eso te enseñaremos mañana viernes en la Facultad de Bellas Artes a las 19:00 👉 https://t.co/AoNcLTzASy #WPPontevedra'>, <Tweet id=1636311189444517888 text='RT @BNBCHAIN: 🇻🇪 Venezuela: \\n\\n🔸Caracas: @enlaucab https://t.co/gxaYRSUxf6\\n\\n🔸 Barquisimeto: https://t.co/TQDzNMSx7x'>, <Tweet id=1636310209776828417 text='RT @Jarvis_MXN: Un Meetup con el equipo de @0xsuarmi, el off/on ramp de $jMXN en México 🇲🇽'>, <Tweet id=1636310106638884864 text='Aprender #WordPress no es difícil… ¡si sabes cómo! Y a eso te enseñaremos mañana viernes en la Facultad de Bellas Artes a las 19:00 👉 https://t.co/0qEvxRnPJq #WPPontevedra'>, <Tweet id=1636308525570768896 text='📢 Arrancamos con nuestro #Webinar \"#NEOTEC_2023: novedades y claves para presentar una propuesta exitosa\" que celebramos junto a La Nave\\n\\n👉Puedes acceder directamente en este enlace: https://t.co/q3HWjltETB\\n\\n#webinargratuito #subvenciones #startup #tecnología #innovation https://t.co/LBJir34vd2'>, <Tweet id=1636307481679876096 text='RT @BNBCHAIN: 🇨🇱Comunidad de Chile🇨🇱\\nForma parte del primer evento presencial de BNB Chain en la ciudad.\\nConecta con los proyectos más impo…'>, <Tweet id=1636306462354862081 text='Hoy nos volvemos cuánticos y estamos en 2 sitios a la vez:\\n- Málaga, evento cripto organizado por @territoriobtc https://t.co/kIJjmOggii\\n- Barcelona, presentando mi libro y hablando de Web3 https://t.co/mBjSs646xn\\n¡Nos vemos!'>, <Tweet id=1636306089967796225 text='RT @codurance_ES: Estamos preparando cosas muy bonitas para este año: eventos presenciales, workshops gestión de equipos, katas... Y mucho…'>, <Tweet id=1636305963559813120 text='RT @BNBCHAIN: 🇻🇪 Venezuela: \\n\\n🔸Caracas: @enlaucab https://t.co/gxaYRSUxf6\\n\\n🔸 Barquisimeto: https://t.co/TQDzNMSx7x'>, <Tweet id=1636305534490902528 text='RT @ilopmar: Nuestro compañero @abelsromero viene desde Barcelona en 2 semanas para hablarnos sobre @springframework @graalvm y @kubernetes…'>, <Tweet id=1636303556742455297 text='RT @BNBCHAIN: 🇨🇴Comunidad de Bogotá🇨🇴\\nForma parte del primer evento presencial de BNB Chain en la ciudad.\\nConecta con los proyectos más imp…'>, <Tweet id=1636303520767827969 text='RT @BNBCHAIN: Forma parte del priomer evento de BNB Chain en la ciudad.\\n\\nConecta con los proyectos más importantes de la región y forma par…'>, <Tweet id=1636302284006240256 text='Ya estamos maquinando algunos eventillos para estos próximos meses...🗣️Estén pendientes porque venimos con algunas sorpresas🚀 https://t.co/ejDHb0fxm8'>, <Tweet id=1636300852787855360 text='Nuestro compañero @abelsromero viene desde Barcelona en 2 semanas para hablarnos sobre @springframework @graalvm y @kubernetesio en un nuevo meetup de @MadridGUG y @MadridJUG 👇\\n\\n¡Te esperamos! https://t.co/CsNshUpRc8'>, <Tweet id=1636292278783209472 text='RT @Jarvis_MXN: Un Meetup con el equipo de @0xsuarmi, el off/on ramp de $jMXN en México 🇲🇽'>, <Tweet id=1636287339444989953 text='RT @MadridGUG: 🚨 Nuevo meetup 🚨\\n\\n⭐ Spring + Native + Kubernetes = Sí se puede!\\n🗣️ Abel Salgado Romero @abelsromero \\n📆 28 Mar 19:00\\n📍Spaces…'>, <Tweet id=1636286738967429120 text='Si os perdisteis la primera #SesiónInformativa de la @UVa_es para Movilidades #ErasmusPlus del @SepieGob en el Curso 23/24 recordad que la sesión la tenéis grabada en este enlace para que podáis verla.\\n\\nℹ️ https://t.co/14qVICir87 https://t.co/UF1bCsRUWf'>, <Tweet id=1636284572303335426 text='RT @Jarvis_MXN: Un Meetup con el equipo de @0xsuarmi, el off/on ramp de $jMXN en México 🇲🇽'>, <Tweet id=1636284502421954560 text='RT @python_malaga: Tenemos nuevo evento!! 🙀🙀  El martes 21 de marzo @minoriade1solo nos contará como hacer Mutation testing (o como testear…'>, <Tweet id=1636283305518571520 text='🚨 Nuevo meetup 🚨\\n\\n⭐ Spring + Native + Kubernetes = Sí se puede!\\n🗣️ Abel Salgado Romero @abelsromero \\n📆 28 Mar 19:00\\n📍Spaces Río (Gracias @malt_Espana)\\n\\n▶️ https://t.co/B8FSRkfD8W'>, <Tweet id=1636282118585085953 text='RT @PoloDigitalMLG: ¡Aún estás a tiempo!\\n\\nNo te pierdas esta tarde la charla que han organizado desde @territoriobtc para hablar de #web3,…'>, <Tweet id=1636281704980660225 text='⚠️ Si no pudiste asistir a la sesión presencial de ayer sobre los programas de prácticas #CampusRural y #ErasmusrURal, conéctate esta mañana a la sesión on-line 👇\\n\\n🕛\\xa011 horas\\n💻 https://t.co/l1vCXRDE9O\\n\\n➕ https://t.co/H47AUaOgQn https://t.co/WfQVtS0wPt'>, <Tweet id=1636281030108749826 text='RT @minoriade1solo: Mi charla sobre Mutation Testing el próximo martes en el meetup de @python_malaga, con la  colaboración de  @CodeSpaceA…'>, <Tweet id=1636280292926185480 text='¡Aún estás a tiempo!\\n\\nNo te pierdas esta tarde la charla que han organizado desde @territoriobtc para hablar de #web3, #tokenización y #metaverso.\\n\\n¡A partir de las 6 de la tarde!\\n\\n➡️ https://t.co/JLeaMlLHvZ https://t.co/9o5wLZPJQj'>, <Tweet id=1636278099976306688 text='RT @minoriade1solo: Mi charla sobre Mutation Testing el próximo martes en el meetup de @python_malaga, con la  colaboración de  @CodeSpaceA…'>, <Tweet id=1636277458025562113 text='Vuelvo al ruedo con la que, muy posiblemente, sea mi última charla de desarrollo front: https://t.co/Hr1o9a9C4j\\nLa próxima que dé espero que sea ya de infraestructuras cloud que es donde ahora estoy dirigiendo mi carrera'>, <Tweet id=1636274945238921216 text='RT @python_malaga: El martes que viene puedes puedes venirte al meetup en el que @minoriade1solo  nos explicará cómo testear nuestros tests…'>, <Tweet id=1636271870075961344 text='RT @FundacionPTS: 📣👋 ¡Hola! Te invitamos al InfoDay para conocer más sobre la Aceleradora #AcexHealth 2023 🚀\\n\\nUn nuevo #MeetUp, en formato…'>, <Tweet id=1636270716281552896 text='RT @GraziellaAlm: Ahora en directo , un lujo de panel para analizar claves #geopoliticas detras de las #crisis #emergencias #desastres @Fra…'>, <Tweet id=1636266634506563584 text='RT @FlutterMalaga: Añadimos una presentación más para el próximo evento presencial de Flutter Málaga !! 🙌💙🐦\\n\\n@ikicode nos hablará sobre Tes…'>, <Tweet id=1636266355920969728 text='RT @minoriade1solo: Mi charla sobre Mutation Testing el próximo martes en el meetup de @python_malaga, con la  colaboración de  @CodeSpaceA…'>, <Tweet id=1636253381252579330 text='RT @FivVicalvaro: 🚨¡Ya estamos en directo!\\n\\n💻Únete y conoce todas las posibilidades de colaboración entre los centros públicos de investiga…'>, <Tweet id=1636248556829917186 text='RT @Xperiendtoken: Mañana a estas horas estaremos a punto de arrancar 🚀\\nEl evento que organiza nuestros amigos de Blockchain Málaga y al qu…'>, <Tweet id=1636231334673920000 text='$ 15 - Prácticas de Español/Escucha, conversa y mejora tu pronunciación. https://t.co/jcie06L9w6 https://t.co/BFAIOi4vJF'>, <Tweet id=1636229612614082561 text='RT @ComercioserviMS: #SabiasQue ¿El 17de marzo la Mesa Sectorial de Artesanías🧑\\u200d🎨conmemora el Día Internacional del Artesano?No te pierdas…'>, <Tweet id=1636227994749480960 text='RT @EthereumHN: Compartimos algunas fotos de nuestro Meetup de ayer 🔝🇭🇳 Conversamos sobre las oportunidades y expectativas del @ethlatam en…'>, <Tweet id=1636210683963404290 text='RT @RLadiesSantiago: ✨️¡Estamos de vuelta!✨️\\n\\nDamos inicio a la temporada 2023 con un taller de introducción a Tidymodels a cargo de @sarya…'>, <Tweet id=1636208983613554689 text='RT @SecSocialBoyaca: 🗣️Participa de la socialización del Fondo de Incentivo para las Mujeres de Boyacá, dónde podrás conocer términos y con…'>, <Tweet id=1636207014949814272 text='RT @cobraenbitcoin: El sábado 25 de marzo a las 17h si estás por Figueres (Girona) ven al 1er Bitcoin Walk de Figueres. Andaremos poco pero…'>, <Tweet id=1636206936608653312 text='RT @cobraenbitcoin: El sábado 25 de marzo a las 17h si estás por Figueres (Girona) ven al 1er Bitcoin Walk de Figueres. Andaremos poco pero…'>, <Tweet id=1636202773631860737 text='RT @dennyperez18: 📢 Acompaña a @ALAColombia con este tutorial, donde podrás empezar a dominar esta potente herramienta en menos de 15 minut…'>, <Tweet id=1636202679671345152 text='el primer meetup entre Q mexa y Q gringo NO ENTIENDO NADAAA https://t.co/c3xgF8jCuH'>, <Tweet id=1636195471256440836 text='RT @cccucuta: ¿Tienes dudas sobre el proceso de renovación del Registro Nacional de Turismo (RNT)? \\nConéctate a la capacitación virtual don…'>, <Tweet id=1636194898004017152 text='RT @camcoelectronic: Vita Wallet presenta los Vita Dates 2023, un espacio orientado al aprendizaje y la innovación a través de conversacion…'>, <Tweet id=1636191437887766529 text='RT @0xRoschain: Últimos días, no te olvides de registrarte😎\\n\\nEste sábado 18 de Marzo, de 9:30 am - 15 hs, el primer meetup presencial del a…'>], includes={}, errors=[], meta={'newest_id': '1636375456592310278', 'oldest_id': '1636191437887766529', 'result_count': 100, 'next_token': 'b26v89c19zqg8o3fqka1f2pguazust2cfirl0316ashh9'})\n"
     ]
    },
    {
     "name": "stdout",
     "output_type": "stream",
     "text": [
      "software libre lang:es\n",
      "Response(data=[<Tweet id=1636380092506214401 text='RT @araguafsr: Richard Matthew Stallman nace el 16 de marzo de 1953, es un físico, programador, activista y fundador del movimiento del sof…'>, <Tweet id=1636380012084592641 text='🚨Atención🚨\\n\\n🚀Únete a nosotras en el #Flisol Guayaquil. Estamos buscando ponentes para compartir sus experiencias en el mundo del software libre\\n\\nForma parte de la comunidad y haz que la tecnología sea más libre: https://t.co/jnLp40nyqv https://t.co/vvP88PkiPJ'>, <Tweet id=1636379976894418946 text='RT @CATERINAV: #16Mar #TalDiaComoHoy | En 1953, nace Richard Stallman, activista, físico y programador estadounidense, fundador del movimie…'>, <Tweet id=1636379573402337285 text='@XtecnoMundo @yoyo308 No obstante, activad la verificación en dos pasos, siempre que podías y os lo permita cualquier servicio o aplicación. Podéis usar andOTP que es software libre por ejemplo y permite exportar e importar las claves y acceso ya metidos.'>, <Tweet id=1636377052717907968 text='RT @PascualinoFull: #16Mar Un día como hoy en 1953, nace Richard Stallman, activista, físico y programador estadounidense, fundador del mov…'>, <Tweet id=1636376978231291905 text='RT @araguafsr: Richard Matthew Stallman nace el 16 de marzo de 1953, es un físico, programador, activista y fundador del movimiento del sof…'>, <Tweet id=1636375875980787712 text='RT @araguafsr: Richard Matthew Stallman nace el 16 de marzo de 1953, es un físico, programador, activista y fundador del movimiento del sof…'>, <Tweet id=1636375850995294209 text='RT @JaimeObregon: Aquí va una respetuosa propuesta, alcaldesa @GemaIgual y concejal @JavierCeruti: ¡dejadme que haga yo un nuevo visor para…'>, <Tweet id=1636375687534870530 text='RT @araguafsr: Richard Matthew Stallman nace el 16 de marzo de 1953, es un físico, programador, activista y fundador del movimiento del sof…'>, <Tweet id=1636375282616766470 text='RT @JaimeObregon: Aquí va una respetuosa propuesta, alcaldesa @GemaIgual y concejal @JavierCeruti: ¡dejadme que haga yo un nuevo visor para…'>, <Tweet id=1636374270103425025 text='⏳  #UnDíaComoHoy, pero de 1953 | Nace el fundador del movimiento del software libre, Richard Stellman 🖥️⌨️ \\nFue el responsable de crear la definición del método de Copyleft, busca licenciar software de uso libre para la comunidad.\\n📅 #EfeméridesSquenda 💜 #Efemérides https://t.co/F1s2vQzID8'>, <Tweet id=1636373727763116039 text='RT @araguafsr: Richard Matthew Stallman nace el 16 de marzo de 1953, es un físico, programador, activista y fundador del movimiento del sof…'>, <Tweet id=1636373632422391809 text='RT @araguafsr: Richard Matthew Stallman nace el 16 de marzo de 1953, es un físico, programador, activista y fundador del movimiento del sof…'>, <Tweet id=1636372376580415489 text='RT @araguafsr: Richard Matthew Stallman nace el 16 de marzo de 1953, es un físico, programador, activista y fundador del movimiento del sof…'>, <Tweet id=1636372315591131136 text='RT @JaimeObregon: Aquí va una respetuosa propuesta, alcaldesa @GemaIgual y concejal @JavierCeruti: ¡dejadme que haga yo un nuevo visor para…'>, <Tweet id=1636370807952662529 text='RT @araguafsr: Richard Matthew Stallman nace el 16 de marzo de 1953, es un físico, programador, activista y fundador del movimiento del sof…'>, <Tweet id=1636369439171158022 text='RT @araguafsr: Richard Matthew Stallman nace el 16 de marzo de 1953, es un físico, programador, activista y fundador del movimiento del sof…'>, <Tweet id=1636369431696662528 text='RT @araguafsr: Richard Matthew Stallman nace el 16 de marzo de 1953, es un físico, programador, activista y fundador del movimiento del sof…'>, <Tweet id=1636369333847719936 text='RT @araguafsr: Richard Matthew Stallman nace el 16 de marzo de 1953, es un físico, programador, activista y fundador del movimiento del sof…'>, <Tweet id=1636369194441748481 text='RT @araguafsr: Richard Matthew Stallman nace el 16 de marzo de 1953, es un físico, programador, activista y fundador del movimiento del sof…'>, <Tweet id=1636368496505556995 text='RT @antonio10071990: Nace Richard Stallman (1953). Activista, físico y programador estadounidense, fundador del movimiento del software lib…'>, <Tweet id=1636367419689037826 text='RT @Conatel: #Efemérides #16Mar Un día como hoy en 1953, nace Richard Stallman, activista, físico y programador estadounidense, fundador de…'>, <Tweet id=1636367351900676096 text='RT @antonio10071990: Nace Richard Stallman (1953). Activista, físico y programador estadounidense, fundador del movimiento del software lib…'>, <Tweet id=1636367128122077187 text='RT @antonio10071990: Nace Richard Stallman (1953). Activista, físico y programador estadounidense, fundador del movimiento del software lib…'>, <Tweet id=1636367083977027585 text='RT @araguafsr: Richard Matthew Stallman nace el 16 de marzo de 1953, es un físico, programador, activista y fundador del movimiento del sof…'>, <Tweet id=1636366719580094465 text='¿Te gusta la idea de la comunidad de software libre? Linux es desarrollado y mantenido por una comunidad global de desarrolladores. #Linux #opensource #andromeda'>, <Tweet id=1636365972763299842 text='RT @araguafsr: Richard Matthew Stallman nace el 16 de marzo de 1953, es un físico, programador, activista y fundador del movimiento del sof…'>, <Tweet id=1636365925392830465 text='RT @antonio10071990: Nace Richard Stallman (1953). Activista, físico y programador estadounidense, fundador del movimiento del software lib…'>, <Tweet id=1636365864277532672 text='Nace Richard Stallman (1953). Activista, físico y programador estadounidense, fundador del movimiento del software libre, del sistema operativo GNU y de la Fundación para el Software Libre. Curiosidades del Sistema Operativo Linux.\\n#ElBloqueoEsCriminal'>, <Tweet id=1636365802155696129 text='RT @JaimeObregon: Aquí va una respetuosa propuesta, alcaldesa @GemaIgual y concejal @JavierCeruti: ¡dejadme que haga yo un nuevo visor para…'>, <Tweet id=1636365282511044614 text='Un día como hoy nació el fundador del movimiento software libre https://t.co/fumxPmFoUk https://t.co/Tg2bv8RRQ7'>, <Tweet id=1636365212445032448 text='RT @araguafsr: Richard Matthew Stallman nace el 16 de marzo de 1953, es un físico, programador, activista y fundador del movimiento del sof…'>, <Tweet id=1636365139472531462 text='RT @JaimeObregon: Aquí va una respetuosa propuesta, alcaldesa @GemaIgual y concejal @JavierCeruti: ¡dejadme que haga yo un nuevo visor para…'>, <Tweet id=1636365131847286784 text='RT @JaimeObregon: Aquí va una respetuosa propuesta, alcaldesa @GemaIgual y concejal @JavierCeruti: ¡dejadme que haga yo un nuevo visor para…'>, <Tweet id=1636365060271480833 text='Richard Matthew Stallman nace el 16 de marzo de 1953, es un físico, programador, activista y fundador del movimiento del software libre, del sistema operativo GNU y de la Free Software Foundation (Fundación para el Software Libre). #ChavezHechoMillones https://t.co/TZAP5elIhR'>, <Tweet id=1636363962206900224 text='RT @JaimeObregon: Aquí va una respetuosa propuesta, alcaldesa @GemaIgual y concejal @JavierCeruti: ¡dejadme que haga yo un nuevo visor para…'>, <Tweet id=1636361894079365120 text='RT @JaimeObregon: Aquí va una respetuosa propuesta, alcaldesa @GemaIgual y concejal @JavierCeruti: ¡dejadme que haga yo un nuevo visor para…'>, <Tweet id=1636358914840092673 text='RT @oncti_mppct: #16Mar #TalDíaComoHoy en 1953 (EE.UU.), nace Richard Stallman, activista, físico y programador estadounidense, impulsor de…'>, <Tweet id=1636358031213576194 text='RT @PascualinoFull: #16Mar Un día como hoy en 1953, nace Richard Stallman, activista, físico y programador estadounidense, fundador del mov…'>, <Tweet id=1636357377019502592 text='RT @PascualinoFull: #16Mar Un día como hoy en 1953, nace Richard Stallman, activista, físico y programador estadounidense, fundador del mov…'>, <Tweet id=1636357350817927168 text='RT @oncti_mppct: #16Mar #TalDíaComoHoy en 1953 (EE.UU.), nace Richard Stallman, activista, físico y programador estadounidense, impulsor de…'>, <Tweet id=1636357233368809478 text='RT @Conatel: #Efemérides #16Mar Un día como hoy en 1953, nace Richard Stallman, activista, físico y programador estadounidense, fundador de…'>, <Tweet id=1636357228507590657 text='RT @oncti_mppct: #16Mar #TalDíaComoHoy en 1953 (EE.UU.), nace Richard Stallman, activista, físico y programador estadounidense, impulsor de…'>, <Tweet id=1636357017202827269 text='RT @Conatel: #Efemérides #16Mar Un día como hoy en 1953, nace Richard Stallman, activista, físico y programador estadounidense, fundador de…'>, <Tweet id=1636356340074393602 text='RT @Conatel: #Efemérides #16Mar Un día como hoy en 1953, nace Richard Stallman, activista, físico y programador estadounidense, fundador de…'>, <Tweet id=1636355882849058816 text='RT @oncti_mppct: #16Mar #TalDíaComoHoy en 1953 (EE.UU.), nace Richard Stallman, activista, físico y programador estadounidense, impulsor de…'>, <Tweet id=1636355445542600711 text='RT @JaimeObregon: Aquí va una respetuosa propuesta, alcaldesa @GemaIgual y concejal @JavierCeruti: ¡dejadme que haga yo un nuevo visor para…'>, <Tweet id=1636354119362379776 text='RT @oncti_mppct: #16Mar #TalDíaComoHoy en 1953 (EE.UU.), nace Richard Stallman, activista, físico y programador estadounidense, impulsor de…'>, <Tweet id=1636353869847330821 text='RT @Conatel: #Efemérides #16Mar Un día como hoy en 1953, nace Richard Stallman, activista, físico y programador estadounidense, fundador de…'>, <Tweet id=1636353248138260480 text='RT @CoopUruguayo: ✅Conocer al software libre y al cooperativismo de plataformas como herramientas que servirán para potenciar sus negocios…'>, <Tweet id=1636352586142941188 text='RT @JaimeObregon: Aquí va una respetuosa propuesta, alcaldesa @GemaIgual y concejal @JavierCeruti: ¡dejadme que haga yo un nuevo visor para…'>, <Tweet id=1636352113893572610 text='RT @Conatel: #Efemérides #16Mar Un día como hoy en 1953, nace Richard Stallman, activista, físico y programador estadounidense, fundador de…'>, <Tweet id=1636351573012955137 text='RT @Conatel: #Efemérides #16Mar Un día como hoy en 1953, nace Richard Stallman, activista, físico y programador estadounidense, fundador de…'>, <Tweet id=1636351127179411458 text='RT @Dggonzalez2015: Lo repito.\\nNo había absolutamente nada que impidiera que Firefox o LibreOffice integraran IA antes que el software priv…'>, <Tweet id=1636350672210739200 text='RT @Conatel: #Efemérides #16Mar Un día como hoy en 1953, nace Richard Stallman, activista, físico y programador estadounidense, fundador de…'>, <Tweet id=1636350662278619136 text='RT @Conatel: #Efemérides #16Mar Un día como hoy en 1953, nace Richard Stallman, activista, físico y programador estadounidense, fundador de…'>, <Tweet id=1636349909736513538 text='RT @Conatel: #Efemérides #16Mar Un día como hoy en 1953, nace Richard Stallman, activista, físico y programador estadounidense, fundador de…'>, <Tweet id=1636349716165193729 text='RT @JaimeObregon: Aquí va una respetuosa propuesta, alcaldesa @GemaIgual y concejal @JavierCeruti: ¡dejadme que haga yo un nuevo visor para…'>, <Tweet id=1636349187871612928 text='RT @JaimeObregon: Aquí va una respetuosa propuesta, alcaldesa @GemaIgual y concejal @JavierCeruti: ¡dejadme que haga yo un nuevo visor para…'>, <Tweet id=1636348848896352259 text='RT @Conatel: #Efemérides #16Mar Un día como hoy en 1953, nace Richard Stallman, activista, físico y programador estadounidense, fundador de…'>, <Tweet id=1636348750342811653 text='RT @CATERINAV: #16Mar #TalDiaComoHoy | En 1953, nace Richard Stallman, activista, físico y programador estadounidense, fundador del movimie…'>, <Tweet id=1636348578485477379 text='¡El último Docentes TICs y Software libre! https://t.co/m1EuXxn95T Gracias a @educacion3_0 #noticias #yosoyfp'>, <Tweet id=1636348393139077120 text='RT @oncti_mppct: #16Mar #TalDíaComoHoy en 1953 (EE.UU.), nace Richard Stallman, activista, físico y programador estadounidense, impulsor de…'>, <Tweet id=1636348025034473472 text='RT @Conatel: #Efemérides #16Mar Un día como hoy en 1953, nace Richard Stallman, activista, físico y programador estadounidense, fundador de…'>, <Tweet id=1636347650780938243 text='RT @Conatel: #Efemérides #16Mar Un día como hoy en 1953, nace Richard Stallman, activista, físico y programador estadounidense, fundador de…'>, <Tweet id=1636345719895347203 text='RT @Conatel: #Efemérides #16Mar Un día como hoy en 1953, nace Richard Stallman, activista, físico y programador estadounidense, fundador de…'>, <Tweet id=1636344719075680259 text='RT @PascualinoFull: #16Mar Un día como hoy en 1953, nace Richard Stallman, activista, físico y programador estadounidense, fundador del mov…'>, <Tweet id=1636344660669988864 text='RT @oncti_mppct: #16Mar #TalDíaComoHoy en 1953 (EE.UU.), nace Richard Stallman, activista, físico y programador estadounidense, impulsor de…'>, <Tweet id=1636343800275652608 text='La gestión de la Energía que queda en el dispositivo es fundamental para maximizar la disponibilidad del servicio informático cuando #sinluz\\n\\nUbuntu 23.04 tiene formas de administrar los electrones que te quedan\\n\\nApagon Software Libre Maracaibo Lecheria Electricidad Blackout https://t.co/CXGwiVFuiJ https://t.co/ISZHfIkNl3'>, <Tweet id=1636343426647048195 text='RT @Conatel: #Efemérides #16Mar Un día como hoy en 1953, nace Richard Stallman, activista, físico y programador estadounidense, fundador de…'>, <Tweet id=1636342720481378305 text='RT @oncti_mppct: #16Mar #TalDíaComoHoy en 1953 (EE.UU.), nace Richard Stallman, activista, físico y programador estadounidense, impulsor de…'>, <Tweet id=1636342581666758656 text='#16Mar Un día como hoy en 1953, nace Richard Stallman, activista, físico y programador estadounidense, fundador del movimiento software libre y creador del sistema operativo GNU Linux.\\n#ElBloqueoEsCriminal\\n.@Salser077 .@Preferida1021 .@LaOrientalVe .@lubrio \\n.@VTVcanal8 https://t.co/axWFPGfrdg'>, <Tweet id=1636342369384529921 text='RT @JoseACastillo21: #Destacables del #16DeMarzo:\\n\\n-Día del Oso Panda.\\n\\nFernando de Magallanes, descubre las Islas Filipinas (1521).\\nNace R…'>, <Tweet id=1636342363797831680 text='RT @JaimeObregon: Aquí va una respetuosa propuesta, alcaldesa @GemaIgual y concejal @JavierCeruti: ¡dejadme que haga yo un nuevo visor para…'>, <Tweet id=1636342266594832384 text='RT @oncti_mppct: #16Mar #TalDíaComoHoy en 1953 (EE.UU.), nace Richard Stallman, activista, físico y programador estadounidense, impulsor de…'>, <Tweet id=1636341528040710144 text='RT @oncti_mppct: #16Mar #TalDíaComoHoy en 1953 (EE.UU.), nace Richard Stallman, activista, físico y programador estadounidense, impulsor de…'>, <Tweet id=1636340964988993537 text='RT @Conatel: #Efemérides #16Mar Un día como hoy en 1953, nace Richard Stallman, activista, físico y programador estadounidense, fundador de…'>, <Tweet id=1636340707509039104 text='RT @Conatel: #Efemérides #16Mar Un día como hoy en 1953, nace Richard Stallman, activista, físico y programador estadounidense, fundador de…'>, <Tweet id=1636340319158509568 text='RT @Conatel: #Efemérides #16Mar Un día como hoy en 1953, nace Richard Stallman, activista, físico y programador estadounidense, fundador de…'>, <Tweet id=1636339776163815426 text='RT @Conatel: #Efemérides #16Mar Un día como hoy en 1953, nace Richard Stallman, activista, físico y programador estadounidense, fundador de…'>, <Tweet id=1636339371623235585 text='RT @Conatel: #Efemérides #16Mar Un día como hoy en 1953, nace Richard Stallman, activista, físico y programador estadounidense, fundador de…'>, <Tweet id=1636339025744199681 text='RT @oncti_mppct: #16Mar #TalDíaComoHoy en 1953 (EE.UU.), nace Richard Stallman, activista, físico y programador estadounidense, impulsor de…'>, <Tweet id=1636338982337273862 text='RT @Conatel: #Efemérides #16Mar Un día como hoy en 1953, nace Richard Stallman, activista, físico y programador estadounidense, fundador de…'>, <Tweet id=1636338742972620803 text='RT @Conatel: #Efemérides #16Mar Un día como hoy en 1953, nace Richard Stallman, activista, físico y programador estadounidense, fundador de…'>, <Tweet id=1636338629428625409 text='RT @Conatel: #Efemérides #16Mar Un día como hoy en 1953, nace Richard Stallman, activista, físico y programador estadounidense, fundador de…'>, <Tweet id=1636338572851552256 text='RT @JaimeObregon: Aquí va una respetuosa propuesta, alcaldesa @GemaIgual y concejal @JavierCeruti: ¡dejadme que haga yo un nuevo visor para…'>, <Tweet id=1636338486306324487 text='Día dos tratando de contactar a @migueldeicaza para participar en Festival Latinoamericano de Instalación de Software Libre FLISOL 2023... https://t.co/wY1hZcqwKM'>, <Tweet id=1636338450432512001 text='RT @CATERINAV: #16Mar #TalDiaComoHoy | En 1953, nace Richard Stallman, activista, físico y programador estadounidense, fundador del movimie…'>, <Tweet id=1636338315967299584 text='RT @Conatel: #Efemérides #16Mar Un día como hoy en 1953, nace Richard Stallman, activista, físico y programador estadounidense, fundador de…'>, <Tweet id=1636337962043449350 text='RT @Conatel: #Efemérides #16Mar Un día como hoy en 1953, nace Richard Stallman, activista, físico y programador estadounidense, fundador de…'>, <Tweet id=1636337852282806272 text='RT @oncti_mppct: #16Mar #TalDíaComoHoy en 1953 (EE.UU.), nace Richard Stallman, activista, físico y programador estadounidense, impulsor de…'>, <Tweet id=1636337772641353728 text='RT @OpenlabEc: ¡Únete a la diversión en el #FLISOLQuito2023! \\n\\nYa sea como ponente, organizador o ayudando en el #InstallFest, ¡tu particip…'>, <Tweet id=1636337069558583298 text='RT @Conatel: #Efemérides #16Mar Un día como hoy en 1953, nace Richard Stallman, activista, físico y programador estadounidense, fundador de…'>, <Tweet id=1636337039015591938 text='RT @JaimeObregon: Aquí va una respetuosa propuesta, alcaldesa @GemaIgual y concejal @JavierCeruti: ¡dejadme que haga yo un nuevo visor para…'>, <Tweet id=1636336857389596673 text='#TalDíaComoHoy en 1953, nace en Manhattan, Nueva York, Richard Matthew Stallman, con frecuencia abreviado como «rms».\\n\\nStallman es el fundador del \"Movimiento por el Software Libre\" en el mundo.'>, <Tweet id=1636336435614580738 text='#Destacables del #16DeMarzo:\\n\\n-Día del Oso Panda.\\n\\nFernando de Magallanes, descubre las Islas Filipinas (1521).\\nNace Richard Stallman (1953), físico y programador estadounidense,fundador del movimiento del software libre.\\nSe realiza el primer Concierto Paz sin Fronteras (2008). https://t.co/gMUnIJbChX'>, <Tweet id=1636336403083587584 text='RT @Conatel: #Efemérides #16Mar Un día como hoy en 1953, nace Richard Stallman, activista, físico y programador estadounidense, fundador de…'>, <Tweet id=1636336231544963074 text='RT @Conatel: #Efemérides #16Mar Un día como hoy en 1953, nace Richard Stallman, activista, físico y programador estadounidense, fundador de…'>, <Tweet id=1636335966519545857 text='RT @Conatel: #Efemérides #16Mar Un día como hoy en 1953, nace Richard Stallman, activista, físico y programador estadounidense, fundador de…'>, <Tweet id=1636335895946117120 text='#Efemérides #16Mar Un día como hoy en 1953, nace Richard Stallman, activista, físico y programador estadounidense, fundador del movimiento software libre y creador del sistema operativo GNU Linux.\\n\\n#ElBloqueoEsCriminal https://t.co/MUeSNndN29'>], includes={}, errors=[], meta={'newest_id': '1636380092506214401', 'oldest_id': '1636335895946117120', 'result_count': 100, 'next_token': 'b26v89c19zqg8o3fqka1f6x4ki0mnevcvsnvbj8byx0u5'})\n"
     ]
    },
    {
     "name": "stdout",
     "output_type": "stream",
     "text": [
      "free software lang:es\n",
      "Response(data=[<Tweet id=1636380092506214401 text='RT @araguafsr: Richard Matthew Stallman nace el 16 de marzo de 1953, es un físico, programador, activista y fundador del movimiento del sof…'>, <Tweet id=1636376978231291905 text='RT @araguafsr: Richard Matthew Stallman nace el 16 de marzo de 1953, es un físico, programador, activista y fundador del movimiento del sof…'>, <Tweet id=1636375875980787712 text='RT @araguafsr: Richard Matthew Stallman nace el 16 de marzo de 1953, es un físico, programador, activista y fundador del movimiento del sof…'>, <Tweet id=1636375687534870530 text='RT @araguafsr: Richard Matthew Stallman nace el 16 de marzo de 1953, es un físico, programador, activista y fundador del movimiento del sof…'>, <Tweet id=1636373727763116039 text='RT @araguafsr: Richard Matthew Stallman nace el 16 de marzo de 1953, es un físico, programador, activista y fundador del movimiento del sof…'>, <Tweet id=1636373632422391809 text='RT @araguafsr: Richard Matthew Stallman nace el 16 de marzo de 1953, es un físico, programador, activista y fundador del movimiento del sof…'>, <Tweet id=1636372376580415489 text='RT @araguafsr: Richard Matthew Stallman nace el 16 de marzo de 1953, es un físico, programador, activista y fundador del movimiento del sof…'>, <Tweet id=1636370807952662529 text='RT @araguafsr: Richard Matthew Stallman nace el 16 de marzo de 1953, es un físico, programador, activista y fundador del movimiento del sof…'>, <Tweet id=1636369439171158022 text='RT @araguafsr: Richard Matthew Stallman nace el 16 de marzo de 1953, es un físico, programador, activista y fundador del movimiento del sof…'>, <Tweet id=1636369431696662528 text='RT @araguafsr: Richard Matthew Stallman nace el 16 de marzo de 1953, es un físico, programador, activista y fundador del movimiento del sof…'>, <Tweet id=1636369333847719936 text='RT @araguafsr: Richard Matthew Stallman nace el 16 de marzo de 1953, es un físico, programador, activista y fundador del movimiento del sof…'>, <Tweet id=1636369194441748481 text='RT @araguafsr: Richard Matthew Stallman nace el 16 de marzo de 1953, es un físico, programador, activista y fundador del movimiento del sof…'>, <Tweet id=1636367083977027585 text='RT @araguafsr: Richard Matthew Stallman nace el 16 de marzo de 1953, es un físico, programador, activista y fundador del movimiento del sof…'>, <Tweet id=1636365972763299842 text='RT @araguafsr: Richard Matthew Stallman nace el 16 de marzo de 1953, es un físico, programador, activista y fundador del movimiento del sof…'>, <Tweet id=1636365212445032448 text='RT @araguafsr: Richard Matthew Stallman nace el 16 de marzo de 1953, es un físico, programador, activista y fundador del movimiento del sof…'>, <Tweet id=1636365060271480833 text='Richard Matthew Stallman nace el 16 de marzo de 1953, es un físico, programador, activista y fundador del movimiento del software libre, del sistema operativo GNU y de la Free Software Foundation (Fundación para el Software Libre). #ChavezHechoMillones https://t.co/TZAP5elIhR'>, <Tweet id=1636346765015130115 text='RT @kpopradiopy: 🙌🏻❤️\\u200d🔥 El concepto va dividido en dos miradas, por un lado se encuentra la “versión software” que representa el interior d…'>, <Tweet id=1636329648740081666 text='🎊 ... de 1953: Es el aniversario Nº70 del programador estadounidense Richard Stallman. Fue el creador del editor de texto #Emacs y fundador de la #FSF (Free Software Foundation).\\n🔗 Más en: https://t.co/dlZUTLPCAk https://t.co/z0jY6imEM5'>, <Tweet id=1636313786859630596 text='Richard Matthew Stallman (conocido como RMS) nació el 16 de marzo de 1953 en New York, EEUU. Fundó la\\xa0Free Software Foundation\\xa0como bastión filosófico y organizativo para desarrollar su proyecto. En 1989\\xa0creó el concepto de\\xa0copyleft, contrario al\\xa0copyright. https://t.co/o7XEwfppMG'>, <Tweet id=1636190507167621121 text='🙌🏻❤️\\u200d🔥 El concepto va dividido en dos miradas, por un lado se encuentra la “versión software” que representa el interior del artista y luego la “versión hardware”, que es el exterior.\\n\\n🐋🫶🏻 ARMY, ¿Cómo estas esperando Set Me Free Pt.2?\\n👉🏻💌 Te leemos! https://t.co/1E09arh7LC'>, <Tweet id=1636150849561821185 text='Es la canción del software libre de Richard Mathew Stallman: https://t.co/TyopXBwASW\\n\\nYo pensé que el Iván la iba a presentar pero como que anda en otras ondas. \\n\\nLa puse en el jamendo de mi banda nomás porque ya lo tenía y, pues...'>, <Tweet id=1635980460068159491 text='RT @JiminLatinoFB: @PopBase Guapo hermoso divino Jimin esta demasiado hermoso. Pre single Jimin 17 de marzo Set Me Free Pt.2 \\n\\n#지민 #Jimin #…'>, <Tweet id=1635813114238103554 text='@angatupyrytau Tal vez es para innovar con free software y tener en cuenta lo que enfatizaba RMS: \"Free as a free speech, not as a free beer\" https://t.co/4U9MHM7Al8'>, <Tweet id=1635796071656857601 text='Yo jurando que Set Me Free Pt. 2 sería software ver'>, <Tweet id=1635723400353120271 text='Lanzada la tercera actualización de 5.27 edición ‘KDE 💖 Free Software’ https://t.co/gujs4Jsn8I'>, <Tweet id=1635708500503347202 text='RT @NYSDOLenEspanol: ¿La idea de presentar sus impuestos lo estresa?\\n\\nCon el software Free File de @NYSTaxDept, puede preparar y presentar…'>, <Tweet id=1635708488000184320 text='Lanzada la tercera actualización de 5.27 edición ‘KDE � Free Software’ #kde https://t.co/DqLBXWcEfV'>, <Tweet id=1635704522407387140 text='entonces set me free será la hardware versión y like crazy software?'>, <Tweet id=1635703605146550291 text='¿La idea de presentar sus impuestos lo estresa?\\n\\nCon el software Free File de @NYSTaxDept, puede preparar y presentar sus declaraciones de impuestos federales y estatales en línea; ¡La mejor parte es que es gratis!\\n\\nTrátelo hoy ➡️ https://t.co/ycdMctSlQz https://t.co/hZoUNoyvif'>, <Tweet id=1635693332583133199 text='Lanzada la tercera actualización de 5.27 edición ‘KDE 💖 Free Software’\\n\\nSiguiendo el calendario de lanzamiento de los desarrolladores, la Comunidad KDE han comunicado que ha sido lanzada la tercera actualización de Plasma 5.27. Una noticia que aunque… https://t.co/2EHYrPnj9V'>, <Tweet id=1635690434356817933 text='Y si like crazy es la versión software, porque set me free pt.2 es la hardware https://t.co/7XTikp3xxm'>, <Tweet id=1635685359630659592 text='Lanzada la tercera actualización de 5.27 edición ‘KDE 💖 Free Software’ https://t.co/OkQsCxi3Cf #KDE'>, <Tweet id=1635677433776013312 text='Para rematar el ridículo, me comunican que ahora las \"Free Team organizations\", el requisito que pedían para inscribirse como software libre, pasará a ser de pago.\\n\\nAsí que ahora por haber seguido los pasos que indicaban, o pago, o pierdo directamente la cuenta...'>, <Tweet id=1635672038881763333 text='Si set me free pt.2 tiene el concepto de hardware, entonces like crazy tendrá el concepto de software? 👁️'>, <Tweet id=1635667865352241153 text='entonces set me free pt. 2 es la versión hardware y like crazy es la versión software'>, <Tweet id=1635663601955381248 text='Se dan cuenta que SET ME FREE PT2, va ser el Hardware ver, y Track Tittle será Software ver, sabemos bien que las baladas como Track Tittle no funcionan bien, entonces demos todo con SMTPart2\\n\\nJIMIN JIMIN \\nSET ME FREE PT2 TEASER\\n#SetMeFree_Pt2\\n#SetMeFree_Pt2_Teaser https://t.co/8HVnnEhOlu'>, <Tweet id=1635661978889859072 text='Set me free pt2 va ser hardware y like crazy va ser software (creo) ojalá igual agradecida con dos mvs'>, <Tweet id=1635661004846530560 text='paren loco si en set me free tiene el outfit de la hardware ver entonces el otro mv va a ser como la software ver?? no entiendo NADA'>, <Tweet id=1635660967085326336 text='hermanas esto realmente está pasando tenemos el teaser del mv de set me free pt2 que sale el viernes, tenemos las fotos del software y del hardware, tambien tenemos el tracklist del álbum y todo lo que nos falta todavía https://t.co/lILBgxLBR0'>, <Tweet id=1635658931736399876 text='RT @goldttaegguk: probablemente \"set me free pt2\" estará ligado al hardware y \"like crazy\" al software\\n\\nfuente: de los deseos'>, <Tweet id=1635658245695057923 text='probablemente \"set me free pt2\" estará ligado al hardware y \"like crazy\" al software\\n\\nfuente: de los deseos'>, <Tweet id=1635658180691734530 text='Sin duda sentimientos seet me  free pt.2 es la versión hardware y like crazy es la versión software!!!\\n\\nSET ME FREE PT2 TEASER\\n#SetMeFree_Pt2\\n#SetMeFree_Pt2_Teaser https://t.co/euCbd4dL9g'>, <Tweet id=1635648622217003009 text='Les dejo los horarios para el primer teaser de LET ME FREE PT2 ,tengan listo sus cuentas de YouTube \\n\\n🗓️: Marzo 14, 2023\\n09:00 AM 🇨🇷🇬🇹🇸🇻🇳🇮🇭🇳🇲🇽\\n10:00 AM 🇵🇪🇨🇴🇪🇨🇵🇦🇨🇺\\n11:00 AM 🇩🇴🇧🇴🇵🇷🇻🇪\\n12:00 PM 🇦🇷🇺🇾🇧🇷🇨🇱🇵🇾\\n04:00 PM 🇪🇸\\n\\n#Jimin_Hardware_Ver #Jimin_Software_Ver #Jimin_FACE_IsComing'>, <Tweet id=1635646379237203971 text='@pjmidolls Mi vídeo fav últimamente es el de Software de Face, uno de los que subió a su IG.\\n#SetMeFree_Pt2\\n#SetMeFree_Pt2_Teaser\\n#Jimin_FACE_Is_Coming\\nSET ME FREE PT2 TEASER\\nFACE PRERELEASE MV TEASER'>, <Tweet id=1635583968614465537 text='RT @OptomaES: Prueba el software educativo Mozabook de manera GRATUITA\\n\\n1) Descarga el software MozaBook: https://t.co/R0yN853s7N\\n\\n2) Utili…'>, <Tweet id=1635583852625240064 text='Prueba el software educativo Mozabook de manera GRATUITA\\n\\n1) Descarga el software MozaBook: https://t.co/R0yN853s7N\\n\\n2) Utiliza la siguiente clave para registrarte: MOZ-MC-FREE-MOZA-DEMO-OPTO-IFPD-202303\\n\\nLa prueba gratuita expira el 31 de marzo de 2023. https://t.co/30UCp7iCWD'>, <Tweet id=1635460932049485826 text='RT @JiminLatinoFB: @PopBase Guapo hermoso divino Jimin esta demasiado hermoso. Pre single Jimin 17 de marzo Set Me Free Pt.2 \\n\\n#지민 #Jimin #…'>, <Tweet id=1635443495245692928 text='RT @JiminLatinoFB: @PopBase Guapo hermoso divino Jimin esta demasiado hermoso. Pre single Jimin 17 de marzo Set Me Free Pt.2 \\n\\n#지민 #Jimin #…'>, <Tweet id=1635416026903896073 text='Copyfish Free OCR Software permite sacar el texto de una imagen mediante técnica OCR ...\\n\\nhttps://t.co/J2DOzHyP1R\\n#NoSinMisExtensionesChrome\\n\\nTodas las extensiones en https://t.co/PN1tCBlTlh https://t.co/uShZ73diR2'>, <Tweet id=1635332892137254912 text='¡Amantes de los souls. Acabaros esta obra de arte de 48k!\\nAbu Simbel Profanation : Dinamic Software : Free Download, Borrow, and Streaming : Internet Archive https://t.co/iilX0JTeVn a través de @internetarchive'>, <Tweet id=1635220971312369665 text='Lumion Pro. Software de Visualización Arquitectónica. | Free Udemy Course  https://t.co/YSCQOsAN08 #design, #3d-and-animation , #Lumion\\n\\nFollow @programmingBuddy\\n#Development #WebDevelopment #BigData #Analytics #AI #IoT #IIoT #Python #RStats #TensorFlow #Java #JavaScript #React…'>, <Tweet id=1635065103933648896 text='@Lautiip7 @DamMarquez @lebruceditscher En las escuelas técnicas no te instalan software de pago, trabajan con software free. Al menos en la escuela de mí hijo, y en la de mí sobrino también.'>, <Tweet id=1635061233471860737 text='RT @fsf: El Free Software Supporter está disponible en español. Para ver la versión en español haz click aqui: https://t.co/qEv9P0UP9p'>, <Tweet id=1635053443869179906 text='RT @fsf: El Free Software Supporter está disponible en español. Para ver la versión en español haz click aqui: https://t.co/qEv9P0UP9p'>, <Tweet id=1635053121763418116 text='RT @fsf: El Free Software Supporter está disponible en español. Para ver la versión en español haz click aqui: https://t.co/qEv9P0UP9p'>, <Tweet id=1635053061415800832 text='El Free Software Supporter está disponible en español. Para ver la versión en español haz click aqui: https://t.co/qEv9P0UP9p'>, <Tweet id=1635001327406428160 text='RT @DulcZone: Yo ya estaba emocionada desde que #JIMIN_FACE   era PJM1 y ahora\\nnombres de las canciones\\nversión Hardware\\nversión Software\\nf…'>, <Tweet id=1634994197647491072 text='RT @DulcZone: Yo ya estaba emocionada desde que #JIMIN_FACE   era PJM1 y ahora\\nnombres de las canciones\\nversión Hardware\\nversión Software\\nf…'>, <Tweet id=1634986163068080130 text='Yo ya estaba emocionada desde que #JIMIN_FACE   era PJM1 y ahora\\nnombres de las canciones\\nversión Hardware\\nversión Software\\nfotos conceptuales\\nSET ME FREE PT2 POSTER\\n#SetMeFree_Pt2_Is_Coming \\n\\nahora estoy súper emocionada, necesito que ya sea 17, ¡now!, ¡please!'>, <Tweet id=1634862857811525633 text='Las novedades de Wayland en Plasma 5.27 edición ‘KDE 💖 Free Software’\\n\\nFinalizo el repaso de la gran actualización del último entorno de trabajo de la Comunidad KDE. La inicié con la presentación con el nuevo asistente de bienvenida, continué con el … https://t.co/qmvnjJuDoq'>, <Tweet id=1634747157449408512 text='— ARMY, ya tenemos las metas oficiales para el pre-lanzamiento: \"Set Me Free Pt. 2\" &amp; la canción principal: \"Like Crazy\" del álbum FACE, de #JIMIN.\\n#JiminFACEGoals #Jimin_Software_Ver #Jimin_Hardware_Ver #Jimin_FACE #Jimin_FACE_Is_Coming https://t.co/aHDmPxrAe1'>, <Tweet id=1634655470890672130 text='RT @El_Pop: la Free Software Foundation creo esta infografía y guía sobre como defender tu privacidad en el e-mail:\\n\\nhttps://t.co/skWnFi7nh…'>, <Tweet id=1634647368896315393 text='RT @JiminLatinoFB: @PopBase Guapo hermoso divino Jimin esta demasiado hermoso. Pre single Jimin 17 de marzo Set Me Free Pt.2 \\n\\n#지민 #Jimin #…'>, <Tweet id=1634645666164097025 text='Si ganó $73,000 o menos en 2022, puede hacer sus impuestos ahora con Free File en https://t.co/UeTL0bFvP7. El software enviará sus impuestos una vez que el #IRS comience oficialmente la temporada de presentación el 23 de enero. https://t.co/bSWVJmCNUA https://t.co/47yDBuYzs1'>, <Tweet id=1634565331287932930 text='RT @JiminLatinoFB: @PopBase Guapo hermoso divino Jimin esta demasiado hermoso. Pre single Jimin 17 de marzo Set Me Free Pt.2 \\n\\n#지민 #Jimin #…'>, <Tweet id=1634556294865600514 text='RT @El_Pop: la Free Software Foundation creo esta infografía y guía sobre como defender tu privacidad en el e-mail:\\n\\nhttps://t.co/skWnFi7nh…'>, <Tweet id=1634506304768344066 text='RT @bzavaleta032: ¡He conseguido mis datos perdidos de  nuevo! Gracias por EaseUS : https://t.co/oHTZVS2sNM'>, <Tweet id=1634468178364383238 text='RT @InakiJM: Copyfish Free OCR Software permite sacar el texto de una imagen mediante técnica OCR ...\\n\\nhttps://t.co/J2DOzHyP1R\\n#NoSinMisExt…'>, <Tweet id=1634464532486668288 text='RT @JiminLatinoFB: @PopBase Guapo hermoso divino Jimin esta demasiado hermoso. Pre single Jimin 17 de marzo Set Me Free Pt.2 \\n\\n#지민 #Jimin #…'>, <Tweet id=1634464320103886850 text='Copyfish Free OCR Software permite sacar el texto de una imagen mediante técnica OCR ...\\n\\nhttps://t.co/J2DOzHyP1R\\n#NoSinMisExtensionesChrome\\n\\nTodas las extensiones en https://t.co/PN1tCBlTlh https://t.co/4sC8Pz8PWz'>, <Tweet id=1634448608626987008 text='RT @El_Pop: la Free Software Foundation creo esta infografía y guía sobre como defender tu privacidad en el e-mail:\\n\\nhttps://t.co/skWnFi7nh…'>, <Tweet id=1634374119407128576 text='RT @El_Pop: la Free Software Foundation creo esta infografía y guía sobre como defender tu privacidad en el e-mail:\\n\\nhttps://t.co/skWnFi7nh…'>, <Tweet id=1634370503900012544 text='RT @El_Pop: la Free Software Foundation creo esta infografía y guía sobre como defender tu privacidad en el e-mail:\\n\\nhttps://t.co/skWnFi7nh…'>, <Tweet id=1634369834480746496 text='RT @El_Pop: la Free Software Foundation creo esta infografía y guía sobre como defender tu privacidad en el e-mail:\\n\\nhttps://t.co/skWnFi7nh…'>, <Tweet id=1634341737530290179 text='@Misifu72 (2) son realmente? Hay navegadores,todo en uno VPN + Proxy, y algún software más FOSS(Free Open Source Software) con monitor d procesos,y éstos han notificado un aumento preocupante d ellos,desvíos a direcciones ip extrañas,d naturaleza desconocida... En varias redes sociales'>, <Tweet id=1634334584115453959 text='RT @JiminLatinoFB: @PopBase Guapo hermoso divino Jimin esta demasiado hermoso. Pre single Jimin 17 de marzo Set Me Free Pt.2 \\n\\n#지민 #Jimin #…'>, <Tweet id=1634317328950394880 text='RT @JKmoon0497: Y si set me free tiene coreografía contemporánea y like crazy una ruda ?!!! Los conceptos de las fotos son diferentes y tie…'>, <Tweet id=1634314415146147842 text='RT @JKmoon0497: Y si set me free tiene coreografía contemporánea y like crazy una ruda ?!!! Los conceptos de las fotos son diferentes y tie…'>, <Tweet id=1634305966098268162 text='RT @JKmoon0497: Y si set me free tiene coreografía contemporánea y like crazy una ruda ?!!! Los conceptos de las fotos son diferentes y tie…'>, <Tweet id=1634305834690961408 text='RT @JiminLatinoFB: @PopBase Guapo hermoso divino Jimin esta demasiado hermoso. Pre single Jimin 17 de marzo Set Me Free Pt.2 \\n\\n#지민 #Jimin #…'>, <Tweet id=1634305481693966336 text='RT @El_Pop: la Free Software Foundation creo esta infografía y guía sobre como defender tu privacidad en el e-mail:\\n\\nhttps://t.co/skWnFi7nh…'>, <Tweet id=1634303317873422337 text='RT @El_Pop: la Free Software Foundation creo esta infografía y guía sobre como defender tu privacidad en el e-mail:\\n\\nhttps://t.co/skWnFi7nh…'>, <Tweet id=1634279839829053480 text='RT @JKmoon0497: Y si set me free tiene coreografía contemporánea y like crazy una ruda ?!!! Los conceptos de las fotos son diferentes y tie…'>, <Tweet id=1634279001123422208 text='RT @JiminLatinoFB: @PopBase Guapo hermoso divino Jimin esta demasiado hermoso. Pre single Jimin 17 de marzo Set Me Free Pt.2 \\n\\n#지민 #Jimin #…'>, <Tweet id=1634272404246495232 text='RT @El_Pop: la Free Software Foundation creo esta infografía y guía sobre como defender tu privacidad en el e-mail:\\n\\nhttps://t.co/skWnFi7nh…'>, <Tweet id=1634265924751749120 text='RT @JiminLatinoFB: @PopBase Guapo hermoso divino Jimin esta demasiado hermoso. Pre single Jimin 17 de marzo Set Me Free Pt.2 \\n\\n#지민 #Jimin #…'>, <Tweet id=1634258089724583937 text='RT @JiminLatinoFB: @PopBase Guapo hermoso divino Jimin esta demasiado hermoso. Pre single Jimin 17 de marzo Set Me Free Pt.2 \\n\\n#지민 #Jimin #…'>, <Tweet id=1634253949476696065 text='RT @JiminLatinoFB: @PopBase Guapo hermoso divino Jimin esta demasiado hermoso. Pre single Jimin 17 de marzo Set Me Free Pt.2 \\n\\n#지민 #Jimin #…'>, <Tweet id=1634253165003456514 text='RT @JKmoon0497: Y si set me free tiene coreografía contemporánea y like crazy una ruda ?!!! Los conceptos de las fotos son diferentes y tie…'>, <Tweet id=1634251895651835905 text='RT @JiminLatinoFB: @PopBase Guapo hermoso divino Jimin esta demasiado hermoso. Pre single Jimin 17 de marzo Set Me Free Pt.2 \\n\\n#지민 #Jimin #…'>, <Tweet id=1634251225385545729 text='RT @JiminLatinoFB: @PopBase Guapo hermoso divino Jimin esta demasiado hermoso. Pre single Jimin 17 de marzo Set Me Free Pt.2 \\n\\n#지민 #Jimin #…'>, <Tweet id=1634250455059427330 text='RT @JKmoon0497: Y si set me free tiene coreografía contemporánea y like crazy una ruda ?!!! Los conceptos de las fotos son diferentes y tie…'>, <Tweet id=1634246634149228544 text='RT @JKmoon0497: Y si set me free tiene coreografía contemporánea y like crazy una ruda ?!!! Los conceptos de las fotos son diferentes y tie…'>, <Tweet id=1634246114994954245 text='RT @JiminLatinoFB: @PopBase Guapo hermoso divino Jimin esta demasiado hermoso. Pre single Jimin 17 de marzo Set Me Free Pt.2 \\n\\n#지민 #Jimin #…'>, <Tweet id=1634245802280230920 text='RT @JiminLatinoFB: @PopBase Guapo hermoso divino Jimin esta demasiado hermoso. Pre single Jimin 17 de marzo Set Me Free Pt.2 \\n\\n#지민 #Jimin #…'>, <Tweet id=1634245488890224646 text='RT @JiminLatinoFB: @PopBase Guapo hermoso divino Jimin esta demasiado hermoso. Pre single Jimin 17 de marzo Set Me Free Pt.2 \\n\\n#지민 #Jimin #…'>, <Tweet id=1634245105702903808 text='RT @JiminLatinoFB: @PopBase Guapo hermoso divino Jimin esta demasiado hermoso. Pre single Jimin 17 de marzo Set Me Free Pt.2 \\n\\n#지민 #Jimin #…'>, <Tweet id=1634244731717730310 text='RT @JiminLatinoFB: @PopBase Guapo hermoso divino Jimin esta demasiado hermoso. Pre single Jimin 17 de marzo Set Me Free Pt.2 \\n\\n#지민 #Jimin #…'>, <Tweet id=1634243974390005770 text='RT @JiminLatinoFB: @PopBase Guapo hermoso divino Jimin esta demasiado hermoso. Pre single Jimin 17 de marzo Set Me Free Pt.2 \\n\\n#지민 #Jimin #…'>, <Tweet id=1634241425062674456 text='RT @JKmoon0497: Y si set me free tiene coreografía contemporánea y like crazy una ruda ?!!! Los conceptos de las fotos son diferentes y tie…'>], includes={}, errors=[], meta={'newest_id': '1636380092506214401', 'oldest_id': '1634241425062674456', 'result_count': 100, 'next_token': 'b26v89c19zqg8o3fqka0ktkt7e2zr5zsfno6wf3079njx'})\n"
     ]
    },
    {
     "name": "stdout",
     "output_type": "stream",
     "text": [
      "reproducibilidad lang:es\n",
      "Response(data=[<Tweet id=1636087485972316163 text='RT @Mikelo_V: \"La obra de arte en la época de su reproducibilidad técnica\" https://t.co/7Q7W2yWq6s'>, <Tweet id=1636054905579249665 text='\"La obra de arte en la época de su reproducibilidad técnica\" https://t.co/7Q7W2yWq6s'>, <Tweet id=1635981286727622656 text='RT @manugrapevine: La #cienciaabierta fomenta la #reproducibilidad y la #colaboración, reforzando la credibilidad de la investigación y ace…'>, <Tweet id=1635943928317739010 text='Granada: PLN en diagnóstico por Imagen. José Luis Martín Rodríguez. Jefe de Servicio de Radiodiagnóstico. Hospital Universitario Clínico de Granada. Trabajos PLN en radiología. Casos de uso en Covid. Tipos de estudio y reproducibilidad. Estudios retrospectivos modelos in silico https://t.co/8M3iLf4ShS'>, <Tweet id=1635928176466743297 text='RT @manugrapevine: La #cienciaabierta fomenta la #reproducibilidad y la #colaboración, reforzando la credibilidad de la investigación y ace…'>, <Tweet id=1635925309064183818 text='La #cienciaabierta fomenta la #reproducibilidad y la #colaboración, reforzando la credibilidad de la investigación y acelerando los #descubrimientos científicos, si estás interesado en como realizar #investigación #abierta,no dudes en asistir! Te esperamos en el @iaa_csic ! https://t.co/UsmVqnJSEK'>, <Tweet id=1635768363740803073 text='RT @aepccolposcopia: 👉🏻 mayor objetividad y reproducibilidad \\n👉🏻 más coste-efectivo \\n👉🏻 posibilidad de autotoma por parte de la mujer \\n👉🏻 m…'>, <Tweet id=1635688933987168295 text='RT @aepccolposcopia: 👉🏻 mayor objetividad y reproducibilidad \\n👉🏻 más coste-efectivo \\n👉🏻 posibilidad de autotoma por parte de la mujer \\n👉🏻 m…'>, <Tweet id=1635664418817056768 text='👉🏻 mayor objetividad y reproducibilidad \\n👉🏻 más coste-efectivo \\n👉🏻 posibilidad de autotoma por parte de la mujer \\n👉🏻 mayor detección de adenocarcinoma \\n(2/2)\\n#cribado #VPH #infopacientes #ocupatedelvph'>, <Tweet id=1635596722641465345 text='La aparición de picos fantasma, contaminaciones, la pérdida de sensibilidad o incluso la falta de reproducibilidad son problemas frecuentes en los laboratorios analíticos y suponen una pérdida importante de tiempo. ¿Sabíais que en muchas ocasiones estos p…https://t.co/3XkcfWnUVL'>, <Tweet id=1635353227377123328 text='@DaniSbert @JavierO66080535 ¿Sabes que además de criterios temporales y plausibilidad biológica hay que tener en cuenta especificidad, tamaño del efecto y reproducibilidad, entre otros, como criterios de causalidad? ¿Y que, por lo menos, para tener algo de rigor, habría que hacer un e. de casos y controles?'>, <Tweet id=1635346308038029312 text='@WaterFront8 @jrosell @joscani conda está guay en entornos puros de ciencia de datos si quieres pasar de Docker y mantener reproducibilidad, porque empaqueta todo y no solo las librerías. Pero hay paquetes que no están en conda-forge y sí en PyPI, y es más pesado que pip'>, <Tweet id=1634939019200184326 text='Por contraste, es importante la defensa de la heterosexualidad, porque es la cultura que garantiza la reproducibilidad de la especie.\\nTodo acto sexual que no garantice esa reproducibilidad es parte de un gusto sexual heterodoxo, no es parte del acto de reproducción de la especie.'>, <Tweet id=1634732300113166336 text='Para garantizar la reproducibilidad y fomentar la colaboración, en nuestros análisis de datos utilizamos sólo código y seguimos principios de diseño que hacen que el código sea mantenible y escalable. #DataScience #DataOps'>, <Tweet id=1634596837368774657 text='la creciente tensión entre veracidad y reproducibilidad'>], includes={}, errors=[], meta={'newest_id': '1636087485972316163', 'oldest_id': '1634596837368774657', 'result_count': 15})\n",
      "reproducibility lang:es\n",
      "Response(data=[<Tweet id=1636046657342021633 text='@lastpositivist reproducibility crisis https://t.co/NjPLLQ03V0'>, <Tweet id=1633934139484254211 text='@karmakosmische So, no reproducibility?'>], includes={}, errors=[], meta={'newest_id': '1636046657342021633', 'oldest_id': '1633934139484254211', 'result_count': 2})\n",
      "Women in Bioinformatics Data Science LA lang:es\n",
      "Response(data=None, includes={}, errors=[], meta={'result_count': 0})\n",
      "WBDSLA lang:es\n",
      "Response(data=[<Tweet id=1635361086756245504 text='@Bioinfo_Peru @ISCB_RSGPeru @CleidyOsorio @krmsalazar @Les_gsp @Hamutay_Ciencia @cientificospe @rsgcolombia @RSGArgentina @WBDSLA @RSG_Venezuela Felicitaciones Haruna!'>, <Tweet id=1635347635585548290 text='@AB3C_oficial @WBDSLA ¡Gran iniciativa! Gracias por informarnos :)'>, <Tweet id=1634950307989041152 text='@carmonation @rill_aina @ISBSIB @Ludwig_Cancer @OncoUNILCHUV @unil @syis_ecr @WBDSLA @FondationIsrec @RLadiesGlobal Grupo de apoyo y información para pacientes con Linfoma folícular y profesionales sanitarios\\nhttps://t.co/p2VYCrjOJs'>, <Tweet id=1634750533712879616 text='@mex_evo @WBDSLA Hoy también celebramos el día de la bioinformática. Más información en https://t.co/C0Hmj0unP7'>, <Tweet id=1633998349564014595 text='RT @natayadev: ¿Comunidades favoritas a donde pueden sumarse a colaborar y a conocer a otras personas de IT? ✨\\n\\n@ComunidadMIT @SomosCodear…'>], includes={}, errors=[], meta={'newest_id': '1635361086756245504', 'oldest_id': '1633998349564014595', 'result_count': 5})\n",
      "WBDS LA lang:es\n",
      "Response(data=[<Tweet id=1636272522038575107 text='No porque las mujeres no lo hagan, porque también hay mujeres de mrd que la kgan solo que al parecer son más inteligentes y hasta cierto punto ocultan sus wbds mejor que los hombres de mrd.'>, <Tweet id=1636219553234427905 text='@sonrieelfutbol Casi iba a sacarle la csm a Raffo por dejar hacer estas wbds'>, <Tweet id=1636215857968816131 text='@ZorronGrone @carlosalfaroal Carlitos Tetitas Alfaro es un niño todavía, mucha japa con tetonas en Twitch le hace poner wbds, es la edad.'>, <Tweet id=1636182905314582529 text='@50DKMT @bufongames @LeandroSuparo @cabezonnnnnnnn @ErrorArbitralTR Jajajajajajajjajajajaja este csmr habla wbds .. metes fecha a fecha la mitad de Matute y dices que lo llenarías? 😂😂🥱🐔🤏🏻'>, <Tweet id=1636179522121859075 text='@kenini_peruana Esa canción se la robó @keniaos, no digas wbds y por último ni siquiera tienen similitud\\nhttps://t.co/5KcA6NanPQ'>, <Tweet id=1636175277448626177 text='RT @gvodalys: Que asco que exista gente que sea infiel, y mas asco da la gente que se mete en una relación, no soportan ser “segunda opción…'>, <Tweet id=1636174285935988736 text='cómo le digo a mi mamá q m gasté la mitad de mi sueldo en literalmente wbds y q solo m queda pa comprarme mis zapatillas'>, <Tweet id=1636172002636574721 text='Sin wbds hoy dia a la vez estuve todoooooo el día en el hospital! Toooooodooooo el dia!'>, <Tweet id=1636165863698055169 text='Que asco que exista gente que sea infiel, y mas asco da la gente que se mete en una relación, no soportan ser “segunda opción” y van de ardid*s ventilando las wbds que hacen sin importarles el daño que están causando, gente así ni deberían de existir. https://t.co/dTZtzTq7tN'>, <Tweet id=1636159519272124416 text='@LoganMois Ay, Logan, déjate de wbds.\\nSi mañana sales con alguien o te amarras con una pelada, y viene un man y empieza de la nada a hablarle mrd de ti, para que se aleje, y ella te lo cuenta, ya dices que no te va a kbrear.\\nChévere que no te vas a amargar, pero de ley te va a incomodar.'>, <Tweet id=1636134785960628224 text='@socialholico La verdad es que tu hablas WBDS...'>, <Tweet id=1636113525125926914 text='@DiegoMontalvo4 Quien te va adular, con ese nivel. Hay niveles mi pana. Tienes un problema de autoestima necesitas llamar la atención así sea hablando wbds.'>, <Tweet id=1636103339938050049 text='Siempre que le preguntamos libros guías o donde podemos encontrar info buena que él crea nos dice TODO ESTÁ EN INTERNET, ptmmmm ¿usted sabe cuánta info hay en internet y la variabilidad de la misma ? Déjese de wbds .'>, <Tweet id=1636078184683786240 text='JAJAJAJAJAJ Melany hace que la gente crea wbds de mi JAJAJAJJAJSSJAJ pero igual entre las dos nos entendemos'>, <Tweet id=1636065576337514496 text='@DiegoMontalvo4 Éste sí que es chistoso! Cuándo has visto a un tuitero correista apoyar a Lasso? Te llenas la boca diciendo wbds!'>, <Tweet id=1636026011090386945 text='@hectorivan_u @miavitaviolenta @CarrionDenisse @Uncafecommie Amigo se que todos tus videos que buscas en la noche a costas de tu pareja inician de esa forma pero no es la realidad porfa deja de mirar wbds que te está haciendo daño.'>, <Tweet id=1636000429241782273 text='Por qué son tan traumadas las ex? Brother yo me entero que mi ex tiene novia y no voy a hacerme amiga de la pelada? Correcto no? No es como que quiera saber si también le gusta el pito del man o mil wbds'>, <Tweet id=1635899222112305153 text='La gente si habla wbds a veces'>, <Tweet id=1635875775004983296 text='@FUNDAMEDIOS @etorrescobo @carlosrojasec por eso es que Correa les encamaba wbds cuando era gobierno.... en ese tiempo eran y ahora siguen siendo una entidad que defiende intereses privados. Solo en su imaginario creen que defienden \"la libertad de expresión\". Entiendan que no tienen corona, valedores.'>, <Tweet id=1635853802510196736 text='Pero al final no los culpo por ser tan ignorantes. \\nLa historia que les enseñan a ustedes fue escrita desde su punto de vista. \\n\\nAl menos no vengan a publicar wbds solo porque CREEN que están en lo correcto. Entiendo que twt es libre, pero hay cosas que son mejor guardarselas.'>, <Tweet id=1635816517282455552 text='@Mancuer91 Esto de los penaltis se fue de las manos desde antes del mundial se cobran wbds, a veces parece que no es, pero por un contacto ni tan fuerte ( donde la cámara lenta hace que se vea muy fuerte) lo cobran'>, <Tweet id=1635805044191768579 text='@dabugattas16 @DinaBoluarte_ @MEF_Peru Ya cámbiate de pañal que la kk te esta subiendo al cerebro y te hace escribir wbds tio...'>, <Tweet id=1635797323715424256 text='@eluniversocom Ya pues @AsambleaEcuador déjense de wbds mierda, dale y dale buscando cómo sacar a Lasso de la presidencia, trabajen por hacer las leyes para mejorar el país, que es su culpa como estamos, malditos vagos'>, <Tweet id=1635783115212746753 text='@chriscriskriz Bajenle la cuenta a esta cuenta. Habla muchas wbds xd'>, <Tweet id=1635774657516441600 text='@quintingrone Jajaja me llega al pincho estas cosas pero como dice la frase “ siempre hay uno más pndj q tu”, si sabes como es tw te metes con cualquier y te expones a estos tipos de wbns, y no excusó esas wbds pero así es la vaina'>, <Tweet id=1635771627068862464 text='@Iron_Xtian @Sudamericana @Universitario Y quién dijo que eso para mi es un logro máximo? Ajjajajajajajaa pobrecito.\\nLa falta de argumentos te hace inventar wbds.'>, <Tweet id=1635728850423517184 text='RT @Jhon_Gonz01: @ErrorArbitralTR Ala firme fuera de wbds, me alegra que al menos los tres grandes agoten la mayoria de veces sus entradas…'>, <Tweet id=1635680028980654189 text='RT @Jhon_Gonz01: @ErrorArbitralTR Ala firme fuera de wbds, me alegra que al menos los tres grandes agoten la mayoria de veces sus entradas…'>, <Tweet id=1635676973438476288 text='@ErrorArbitralTR Ala firme fuera de wbds, me alegra que al menos los tres grandes agoten la mayoria de veces sus entradas independiente de como le va a su equipo, espero que crezca mas el fuchibol peruano https://t.co/3ZWet20llq'>, <Tweet id=1635661894940852232 text='@ProfHoax__ @VaronesUnidos Yo no sé xq la gente pregunta wbds si estuvo bien o no q quería q los maten ....'>, <Tweet id=1635642004045529093 text='@Politica_Inco @MashiRafael Ya basta de odio CHCH 🤔 eso quieren estás Ratas nos dividen y hacen wbds 🙈 todos no vale la pena uno este es el peor porque ni siquiera se pone los pantalones y todo el mundo le ve la cara yo le di el voto ...pero ojo no hay uno no porque pelear'>, <Tweet id=1635598147312406529 text='@KY_phoria @aldabc_ @fckoffbtch__ @chartdata @BTS_twt @BLACKPINK @psy_oppa calla pava, si vas a escribir wbds minimo informate, las chicas si han escrito y sí su empresa es una mrd, pero lo mejor de todo es que la siguen rompiendo con tan poco esfuerzo de su empresa'>, <Tweet id=1635492330198167553 text='RT @gourmetlucia: @RocioGozzy La Popis hablando wbds!\\nSinverguenza!'>, <Tweet id=1635463956734128131 text='A la firme que capitulo de mrd wbds haces giyo, se parece a luz de luna que se paraban hablando con muertos #AFHS'>, <Tweet id=1635441505337847808 text='@RocioGozzy La Popis hablando wbds!\\nSinverguenza!'>, <Tweet id=1635418035883495425 text='@ALBERTOACOSTAB Juro que trato de ser respetuoso con el economista... pero que hp manera de decir wbds de este man. Economía dolarizada y trilema económico estimado economista. Por Dios, haga una actualización de conocimientos, pero que sea en otra universidad porque la anterior le ha robado!'>, <Tweet id=1635375807857319936 text='@AlbertoSativa Este chibolo pulpin publicando wbds, cuando terminaban las obras, Fujimori iba a chequearlas y mandaba a comprar decenas de pollos a la brasa para los obreros. Hay gente que roba, pero ninguno como la izquierda, pero qué vas a saber tú si solo repites como wbn: Fujimori nunca más'>, <Tweet id=1635364520033144832 text='@Stupid_Head_ No sé porque siento que en realidad quería publicarlo pensando (en el año que publicaron wbds) que iban a hacerle más temporadas (osea,quizás es programado,antes de la death de Aquino) y...\\n\\nJuro que no estoy loco-\\nD:'>, <Tweet id=1635357136996925440 text='RT @Hectormoran54: @DejemosM @CJudicaturaEc Cada día más más wbds seguimos hundiendo nos en la m....a'>, <Tweet id=1635356883321245696 text='Con esa boca con la que le dabas besitos a mi cosita \\nCon esa misma boca ahora hablas wbds de mi 🥺 que poca madre JAJAJAJA'>, <Tweet id=1635355214839681025 text='@DejemosM @CJudicaturaEc Cada día más más wbds seguimos hundiendo nos en la m....a'>, <Tweet id=1635351031025639426 text='@willaxtv Wbds hablan\\nPresentan wbds \\nUds piensan que la gente no ve noticias internacionales??\\nNo saben de México??\\nMuy pronto se acabará su payasada'>, <Tweet id=1635350176960491520 text='@jcarreraandrade Que niño no q vgs a mí no me vengan con wbds, por estar siempre solapando pues estas son las consecuencias.. \\nAsí es q \"Muerto el perro Muerta la rabia\"\\nFin del comunicado https://t.co/N7uYaQYerV'>, <Tweet id=1635301201628762112 text='Me salió un tweet de un vídeo de Franco Escamilla diciendo cosas horribles de la mujer y que los hombres no les gusta cuando preguntas mucho y wbds así y luego otro de un man diciendo que no se pondría una polera que le haga su flaca'>, <Tweet id=1635157408552198144 text='@Elizabe51697834 @valienteguerre1 Tus angelitos venezolanos la mataron de 36 tiros y todo por negarse a pagar cupo. En todo lado hay lacras así que deja de comentar wbds y si a estos 8 venezolanos los envenenaron a propósito ya pagaran. Tus compatriotas no son santos muchos vinieron a matar, descuartizar y robar https://t.co/fwAGTMSQMj'>, <Tweet id=1635157131027697666 text='@RLpez19 @valienteguerre1 Tus angelitos venezolanos la mataron de 36 tiros y todo por negarse a pagar cupo. En todo lado hay lacras así que deja de comentar wbds y si a estos 8 venezolanos los envenenaron a propósito que paguen. Tus compatriotas no son santos muchos vinieron a matar, descuartizar y robar https://t.co/Vxcfiv0ZvX'>, <Tweet id=1635147160248532993 text='@danzets3 Mas muerto que la ptmr ese grupo, por eso andan mandando wbds p xd'>, <Tweet id=1635130572136939521 text='@Abellcymeg el por el chavo fin muchas wbds  pregunta por que en méxico odian tanto el chavo es con la serie o con el tipo que la ase'>, <Tweet id=1635102502948573184 text='@lucidezoe Jaja, los de Hablando Wbds no le llegan ni a la rodilla a Franco'>, <Tweet id=1635097274555707392 text='RT @DavisitoSilva: @diegoordonezg Un Ministro de Estado publicando un vídeo claramente editado, completando la frase hablando de moral! Ver…'>, <Tweet id=1635097118502457345 text='@diegoordonezg Un Ministro de Estado publicando un vídeo claramente editado, completando la frase hablando de moral! Vergüenza ajena hpta. Éstas wbds de representantes que nos han clavado. 😖😖😖'>, <Tweet id=1635083178154295296 text='@martinseguras @presidenciaperu Avísenle a la vieja dictadora de Dina que, en lugar de estar comprando bombas lacrimógenas para atacar a su pueblo, y ayude de verdad. @congresoperu dejen de esta gastando la plata de los peruanos en wbds y ayuden, porquerías!'>, <Tweet id=1635074430509666304 text='RT @Sheep_p: siento q debe haber una complicidad al momento de comentar una pela o quizá estoy sonando pretenciosa, no sé, pero es bonito c…'>, <Tweet id=1635072675591892994 text='@BSCervecero ?.. 🤦🏻\\u200d♂️🤔\\nNo hables wbds tara o.\\nLa cgd de alcedo se regaló. No supo marcar y le dejó centrar tan fácil.'>, <Tweet id=1635042919705894912 text='@juniorrr6263 @uni1934 Como ya comenté, tenía entendido que los “fundadores” de Embajadur iban a cobrar último sus deudas, así estaba previsto. \\nAhí está la diferencia con tu ejemplo, que por cierto, no “hablo wbds”, dijo lo que es, que le deben y que le tendrán que pagar sea como sea'>, <Tweet id=1634985049664933888 text='siento q debe haber una complicidad al momento de comentar una pela o quizá estoy sonando pretenciosa, no sé, pero es bonito comentar “oye te has dado cuenta de esto ” y la otra persona complemente el comentario y no se quede todo en un “chevere la pela” o estoy hablando wbds'>, <Tweet id=1634942520978296833 text='@PolloFarsantePe @PoliciaPeru @FiscaliaPeru @BrujaBlanqiRoja Oe pedófilo,  esa weona cómo ha llegado a Tacna y el equipo de la UCV no puede llegar a Arequipa? Déjense de wbds ps.'>, <Tweet id=1634940699086061568 text='QUE HABLAS??!! QUÍTATE EL PITO DE LA BOCA PARA QUE DEJES DE HABLAR TANTAS WBDS. https://t.co/8AbJjKR21X'>, <Tweet id=1634937256225165313 text='@Roberthcorro @Fchzk Jajajaja no comentes wbds, los. Chimús fueron aliados de los españoles como consecuencia de la invasión, masacre e incendio de Chan Chan, ocasionado por los Incas'>, <Tweet id=1634834120885805057 text='RT @miss_favor: me van a terminar bloqueando la cuenta de por vida si sigo citando wbds jajsjsjd'>, <Tweet id=1634748317618913281 text='@Stupid_Head_ yo me lo habia imaginado mas para al final de wbds x mc si me gusta la teoria de que duxo dejo tieso a aquino'>, <Tweet id=1634747525096677376 text='necesito a alguien para llamar en la noche y quedarnos hablando de wbds hasta el amanecer'>, <Tweet id=1634718759544913920 text='@lilpump27002 que se dejen de wbds la csm'>, <Tweet id=1634702857420128256 text='@PabloHernadez34 @Roggiado @InfoFreestyle2 Jajsja mentiras para descalificar esas wbds. No les ha quedado una rima de la batalla que ha tirado rapder'>, <Tweet id=1634696463077744640 text='Qué mierda le pasa a twkttwr que cagada me salen wbds de la nada'>, <Tweet id=1634688982322757634 text='@socialholico En vez de estar inventando wbds por qué no inventan una medicina para curar el cáncer, la diabetes, etc.  \\nAh, ya, porque esas enfermedades son un negocio multimillonario para las farmacéuticas.'>, <Tweet id=1634688888106020864 text='@PoliciaPeru @Latina_Noticias @noticiAmerica @PTV_Noticias @noticias_tvperu @atv_noticias @exitosape @RPPNoticias @Agencia_Andina @RadioNacionalFM @larepublica_pe Díganme q es cuenta fake esta, porque si es la oficial, estos se pasaron de inútiles 🤣🤣🤣🤣 oee @PoliciaPeru deja de publicar wbds'>, <Tweet id=1634655366318374914 text='RT @readyforthiss: están pidiendo q las busquen en las canciones escritas por teddy donde dice lit wbds \"muchos wannabes quieren ser yo\" \"b…'>, <Tweet id=1634651901676462082 text='Ahora que tendre plata hasta en la u me da miedo gastarmela todo en wbds csn'>, <Tweet id=1634649620604125188 text='Ya sin wbds de la que me salve porque justamente ayer estuve a nada de salir en la noche pero me dio pereza y me quedé y pasó todo eso 💀💀'>, <Tweet id=1634617205395521537 text='Lo más chevere de warda es q, esa plata de la wardas no figura en tu yape ni bcp, o swa así quieras gastarla no puedes, tienes que sacarla y es una wbds hacerlo.\\nY digo \"wuardados\" pq la app se llamara \"warda\" no pq no sepa cómo se escribe'>, <Tweet id=1634611482758463495 text='@Yomi95ga @Maferitavargas Primero regresa a la escuela para que termines de aprender a escribir....segundo, deja de escribir wbds 😁'>, <Tweet id=1634563377350557700 text='@CarlosSP_GICV @Sudamericana @Universitario No hijito, yo si me informo antes de comentar wbds como tú.\\nPara empezar la 34 fué de Alianza Lima'>, <Tweet id=1634556919842062339 text='RT @zorroiberiano: @GabrielBoric firma DECRETO PRESIDENCIAL Y LISTO @GiorgioJackson @KarolCariola @camila_vallejo @gonzalowinter @diputadon…'>, <Tweet id=1634532677909921792 text='RT @zorroiberiano: @GabrielBoric firma DECRETO PRESIDENCIAL Y LISTO @GiorgioJackson @KarolCariola @camila_vallejo @gonzalowinter @diputadon…'>, <Tweet id=1634504005735858180 text='@GabrielBoric firma DECRETO PRESIDENCIAL Y LISTO @GiorgioJackson @KarolCariola @camila_vallejo @gonzalowinter @diputadonaranjo #Traidoresalpueblo esta es la verdadera razón de la baja de pensiones, q andan hablando wbds mintiendo le a la gente con REFORMA? #SextoRetiro @PamJiles https://t.co/iNcuqwqyQc'>, <Tweet id=1634461243875393542 text='Prefiero ser a propósito el malo de la película antes que tener que aguantar más wbds'>, <Tweet id=1634408616353513472 text='suelta a matthew pedazo d enferma, q culpa tiene él d ser talentoso, lindo, tierno y de estar en el top y el nugu d tu pick no. replantéate la vida antes de usar el nombre de matthew para estas wbds. https://t.co/VuletzvDHe'>, <Tweet id=1634328476621602818 text='RT @CCWBDS: 👑 GANADOR WBDS X MC\\n\\nde que quieren sea la siguiente? https://t.co/pMlQOPQ8ra'>, <Tweet id=1634317705292443648 text='RT @CCWBDS: 👑 GANADOR WBDS X MC\\n\\nde que quieren sea la siguiente? https://t.co/pMlQOPQ8ra'>, <Tweet id=1634299403019190272 text='Seamos un poco más conscientes y digamos que ambos hicimos wbds y que lo nuestro no funcionaba por qué de ambas partes la cagábamos.'>, <Tweet id=1634296827984977924 text='si es así, no hay que venir aquí a hacernos las víctimas e decir \" yo no hice nada\" \"la otra persona era la/el culpable\", cuando bien claro sabemos que nosotros también hicimos wbds, + https://t.co/jwBr6lTGXj'>, <Tweet id=1634274998717239308 text='RT @CCWBDS: 👑 GANADOR WBDS X MC\\n\\nde que quieren sea la siguiente? https://t.co/pMlQOPQ8ra'>, <Tweet id=1634239956229996566 text='@Mauriciomulder Estos delincuentes echándose la culpa entre ellos d sus wbds d gobiernos 🤭 Todos los gobiernos han sido wbds d gobiernos nidos d delincuentes y corruptos... Todos! Así q da lo mismo si señalas a uno u otro... Uds, y todo el resto de gobiernos en la historia fueron la misma mrd..'>, <Tweet id=1634213025082142722 text='RT @CCWBDS: 👑 GANADOR WBDS X MC\\n\\nde que quieren sea la siguiente? https://t.co/pMlQOPQ8ra'>, <Tweet id=1634197902246436865 text='RT @CCWBDS: 👑 GANADOR WBDS X MC\\n\\nde que quieren sea la siguiente? https://t.co/pMlQOPQ8ra'>, <Tweet id=1634194041507139584 text='RT @CCWBDS: 👑 GANADOR WBDS X MC\\n\\nde que quieren sea la siguiente? https://t.co/pMlQOPQ8ra'>, <Tweet id=1634191823416467459 text='RT @CCWBDS: 👑 GANADOR WBDS X MC\\n\\nde que quieren sea la siguiente? https://t.co/pMlQOPQ8ra'>, <Tweet id=1634190364239175680 text='👑 GANADOR WBDS X MC\\n\\nde que quieren sea la siguiente? https://t.co/pMlQOPQ8ra https://t.co/CyIdeIt4rE'>, <Tweet id=1634057293913370624 text='RT @readyforthiss: están pidiendo q las busquen en las canciones escritas por teddy donde dice lit wbds \"muchos wannabes quieren ser yo\" \"b…'>, <Tweet id=1634031668678803457 text='están pidiendo q las busquen en las canciones escritas por teddy donde dice lit wbds \"muchos wannabes quieren ser yo\" \"bonita y salvaje\" \"nací flaca perra\" \"la ropa me queda mejor a mí\" okkk https://t.co/EfDmRdxLQb'>, <Tweet id=1634017692335185926 text='Qué wbds no le pasan a Guayaquil? sería la pregunta 🤔'>, <Tweet id=1634013178441900032 text='@Xjossse_ @rinnylu @arkuzkan literalmente nadie en la peruvian dijo eso, ya deja de hablar wbds como si hubieses vivido ahí que haces quedar mal a la comunidad de daarick, mongol de mrd'>, <Tweet id=1634012501829464065 text='Sin wbds, llevo 4 días en ese curso y me botan 4 mins antes...\\nEs xq soy ateo no? O es xq en la mañana rechacé a 2 testigos de Jehová q dizque se querían hacer análisis en la clínica, a mi no me mienten, venían con el cuento 😭😭😭😭😭 https://t.co/IEuFUhEJTe'>, <Tweet id=1633993222342037505 text='@pilar31736431 @latercera Preocúpate en cuánto te roba la derecha. No pierdas el tiempo en wbds'>, <Tweet id=1633953488404086785 text='Te recuerdo que son personas adultas y si hubiera un problema dé \"me sentí ofendido\" ellos pueden resolverlo ,no sé por qué la necesidad de crear wbds cómo esta publicación https://t.co/B50cFZa2IP'>, <Tweet id=1633916186852306944 text='@Sinco_Cero Profe déjese de hablar wbds y mejor entrene de forma correcta al equipo que tiene arrecha a la hinchade 😤😤'>, <Tweet id=1633904098935226391 text='@Littlehominyc3 @ValeskaCornej0 @laojosdegata Si ella vive de la polémica xD literalmente creció con eso.. \\nHabla wbds y se excusa de todo, nunca acepta sus errores y se hace la víctima, amenaza y lo peor q la idolatran y defienden como nse q...\\nFunan a gente que solo por hablar o decir la vdd los tachan de \"EnVIdiOsos\" :'>], includes={}, errors=[], meta={'newest_id': '1636272522038575107', 'oldest_id': '1633904098935226391', 'result_count': 98})\n"
     ]
    },
    {
     "name": "stdout",
     "output_type": "stream",
     "text": [
      "FLISOL lang:es\n",
      "Response(data=[<Tweet id=1636380012084592641 text='🚨Atención🚨\\n\\n🚀Únete a nosotras en el #Flisol Guayaquil. Estamos buscando ponentes para compartir sus experiencias en el mundo del software libre\\n\\nForma parte de la comunidad y haz que la tecnología sea más libre: https://t.co/jnLp40nyqv https://t.co/vvP88PkiPJ'>, <Tweet id=1636338872341725184 text='Día dos tratando de contactar a @lalieblich para la entrega de FLISOL 2023... 🌟🌟 https://t.co/bRdghb8Eqd'>, <Tweet id=1636338486306324487 text='Día dos tratando de contactar a @migueldeicaza para participar en Festival Latinoamericano de Instalación de Software Libre FLISOL 2023... https://t.co/wY1hZcqwKM'>, <Tweet id=1636337772641353728 text='RT @OpenlabEc: ¡Únete a la diversión en el #FLISOLQuito2023! \\n\\nYa sea como ponente, organizador o ayudando en el #InstallFest, ¡tu particip…'>, <Tweet id=1636326248271020033 text='RT @kokoa_espol: 📣 ¡Únete a #FlisolGuayaquil 2023! \\n\\n💻 Participa como organizador, ponente o auspiciante. Regístrate en https://t.co/bYvKzm…'>, <Tweet id=1636204785115308044 text='RT @Flisol_Loja: ⚠️¿Eres un ponente, organizador, auspiciante o un entusiasta en el mundo de la tecnología? \\n\\n⭕️ ¡No te pierdas la oportuni…'>, <Tweet id=1636204253776605189 text='RT @Flisol_Loja: ⚠️¿Eres un ponente, organizador, auspiciante o un entusiasta en el mundo de la tecnología? \\n\\n⭕️ ¡No te pierdas la oportuni…'>, <Tweet id=1636174481734369280 text='RT @Flisol_Loja: ⚠️¿Eres un ponente, organizador, auspiciante o un entusiasta en el mundo de la tecnología? \\n\\n⭕️ ¡No te pierdas la oportuni…'>, <Tweet id=1636174200309260289 text='RT @Flisol_Loja: ⚠️¿Eres un ponente, organizador, auspiciante o un entusiasta en el mundo de la tecnología? \\n\\n⭕️ ¡No te pierdas la oportuni…'>, <Tweet id=1636112714836721669 text='RT @Flisol_Loja: ⚠️¿Eres un ponente, organizador, auspiciante o un entusiasta en el mundo de la tecnología? \\n\\n⭕️ ¡No te pierdas la oportuni…'>, <Tweet id=1636086001494892546 text='Día uno tratando de contactar a @lalieblich para la entrega del FLISOL 2023... 🌟🌟 https://t.co/ksj4QEmLPI'>, <Tweet id=1636085011051839490 text='Día uno tratando de contactar a @eriT1000 para la entrega FLISOL 2023... 🌟 https://t.co/BfUqEghBNR'>, <Tweet id=1636071420861063168 text='RT @Flisol_Loja: ⚠️¿Eres un ponente, organizador, auspiciante o un entusiasta en el mundo de la tecnología? \\n\\n⭕️ ¡No te pierdas la oportuni…'>, <Tweet id=1636051527629520921 text='Día uno tratando de contactar a @migueldeicaza para participar en Festival Latinoamericano de Instalación de Software Libre FLISOL 2023... https://t.co/tCobmeqrbF'>, <Tweet id=1636046857892929542 text='RT @Flisol_Loja: ⚠️¿Eres un ponente, organizador, auspiciante o un entusiasta en el mundo de la tecnología? \\n\\n⭕️ ¡No te pierdas la oportuni…'>, <Tweet id=1636031141953060873 text='Cada día más cerca de #FLISOL México https://t.co/QiBA0ZR3pR'>, <Tweet id=1636026997276114944 text='RT @Flisol_Loja: ⚠️¿Eres un ponente, organizador, auspiciante o un entusiasta en el mundo de la tecnología? \\n\\n⭕️ ¡No te pierdas la oportuni…'>, <Tweet id=1636019285960040449 text='RT @Flisol_Loja: ⚠️¿Eres un ponente, organizador, auspiciante o un entusiasta en el mundo de la tecnología? \\n\\n⭕️ ¡No te pierdas la oportuni…'>, <Tweet id=1636014358948921346 text='RT @FlisolCABA: Vení a FLISoL CABA 2023 que te ayudamos a LIBERAR tu notebook guiándote para instalar una distro GNU/Linux y a usarla!!!\\nSá…'>, <Tweet id=1636013108857585665 text='RT @OpenlabEc: ¡Únete a la diversión en el #FLISOLQuito2023! \\n\\nYa sea como ponente, organizador o ayudando en el #InstallFest, ¡tu particip…'>, <Tweet id=1635990983878799365 text='RT @loxalibre: 💪¡Anímate a compartir tus conocimientos en tecnologías libres en #FLISOLLoja! \\n\\n🔴Regístrate como ponente hasta el 26 de marz…'>, <Tweet id=1635990977822195714 text='RT @Flisol_Loja: ⚠️¿Eres un ponente, organizador, auspiciante o un entusiasta en el mundo de la tecnología? \\n\\n⭕️ ¡No te pierdas la oportuni…'>, <Tweet id=1635990839863246852 text='RT @Flisol_Loja: ⚠️¿Eres un ponente, organizador, auspiciante o un entusiasta en el mundo de la tecnología? \\n\\n⭕️ ¡No te pierdas la oportuni…'>, <Tweet id=1635990606752145409 text='RT @loxalibre: 💪¡Anímate a compartir tus conocimientos en tecnologías libres en #FLISOLLoja! \\n\\n🔴Regístrate como ponente hasta el 26 de marz…'>, <Tweet id=1635989513259319297 text='RT @Flisol_Loja: ⚠️¿Eres un ponente, organizador, auspiciante o un entusiasta en el mundo de la tecnología? \\n\\n⭕️ ¡No te pierdas la oportuni…'>, <Tweet id=1635989233205911554 text='⚠️¿Eres un ponente, organizador, auspiciante o un entusiasta en el mundo de la tecnología? \\n\\n⭕️ ¡No te pierdas la oportunidad de ser parte de la aventura tecnológica del año! \\n\\n🖊️Regístrate en Flisol Loja antes del 🗓️26 de marzo. #Flisol2023 #opensource https://t.co/yLxnn0LFpN'>, <Tweet id=1635979297729966080 text='RT @FlisolCABA: Vení a FLISoL CABA 2023 que te ayudamos a LIBERAR tu notebook guiándote para instalar una distro GNU/Linux y a usarla!!!\\nSá…'>, <Tweet id=1635977147130040320 text='RT @loxalibre: 💪¡Anímate a compartir tus conocimientos en tecnologías libres en #FLISOLLoja! \\n\\n🔴Regístrate como ponente hasta el 26 de marz…'>, <Tweet id=1635937988784816129 text='RT @FlisolCABA: Vení a FLISoL CABA 2023 que te ayudamos a LIBERAR tu notebook guiándote para instalar una distro GNU/Linux y a usarla!!!\\nSá…'>, <Tweet id=1635857772511150080 text='RT @OpenlabEc: 🚀Únete a la comunidad tecnológica en Guayaquil y sé parte de #Flisol2023!\\n\\n💻Organiza, preséntate como ponente o apóyanos com…'>, <Tweet id=1635857753678942208 text='RT @OpenlabEc: ¡Únete a la diversión en el #FLISOLQuito2023! \\n\\nYa sea como ponente, organizador o ayudando en el #InstallFest, ¡tu particip…'>, <Tweet id=1635857711756615680 text='RT @loxalibre: 💪¡Anímate a compartir tus conocimientos en tecnologías libres en #FLISOLLoja! \\n\\n🔴Regístrate como ponente hasta el 26 de marz…'>, <Tweet id=1635825512915390465 text='RT @FlisolCABA: Vení a FLISoL CABA 2023 que te ayudamos a LIBERAR tu notebook guiándote para instalar una distro GNU/Linux y a usarla!!!\\nSá…'>, <Tweet id=1635822832792813569 text='@CarlosBrys @irisfz Que tal si sale una \"mesa debate\" en FLISoL CABA 2023 sobre Software Libre en Educación ???\\n@irisfz @CarlosBrys y @profmatiasg se animan???'>, <Tweet id=1635816433761361920 text='RT @Flisol_Loja: 📢¡Atención ponentes! ¿Quieren ser parte del Flisol y compartir su conocimiento con la comunidad? 🫂\\n\\nSi tienen ganas de ens…'>, <Tweet id=1635803307707883527 text='RT @FlisolCABA: Vení a FLISoL CABA 2023 que te ayudamos a LIBERAR tu notebook guiándote para instalar una distro GNU/Linux y a usarla!!!\\nSá…'>, <Tweet id=1635802589341315073 text='RT @FlisolCABA: Vení a FLISoL CABA 2023 que te ayudamos a LIBERAR tu notebook guiándote para instalar una distro GNU/Linux y a usarla!!!\\nSá…'>, <Tweet id=1635801690371760129 text='Vení a FLISoL CABA 2023 que te ayudamos a LIBERAR tu notebook guiándote para instalar una distro GNU/Linux y a usarla!!!\\nSábado 22 de Abril de 10 a 18hs en @Facultar Viamonte 2518 - CABA.\\nhttps://t.co/XJrkxU1QpX https://t.co/HuAJy4LxYh'>, <Tweet id=1635801690216513539 text='RT @OpenlabEc: ¡Únete a la diversión en el #FLISOLQuito2023! \\n\\nYa sea como ponente, organizador o ayudando en el #InstallFest, ¡tu particip…'>, <Tweet id=1635801523388030980 text='Vení a FLISoL CABA 2023 que te ayudamos a LIBERAR tu notebook guiándote para instalar una distro GNU/Linux y a usarla!!!\\nSábado 22 de Abril de 10 a 18hs en @Facultar Viamonte 2518 - CABA.\\nhttps://t.co/XJrkxU1QpX https://t.co/Y2owvDtmlE'>, <Tweet id=1635784089163689985 text='RT @OpenlabEc: 🚀Únete a la comunidad tecnológica en Guayaquil y sé parte de #Flisol2023!\\n\\n💻Organiza, preséntate como ponente o apóyanos com…'>, <Tweet id=1635751197171765260 text='RT @OpenlabEc: ¡Únete a la diversión en el #FLISOLQuito2023! \\n\\nYa sea como ponente, organizador o ayudando en el #InstallFest, ¡tu particip…'>, <Tweet id=1635750245274468355 text='RT @OpenlabEc: ¡Únete a la diversión en el #FLISOLQuito2023! \\n\\nYa sea como ponente, organizador o ayudando en el #InstallFest, ¡tu particip…'>, <Tweet id=1635747269239623683 text='RT @OpenlabEc: ¡Únete a la diversión en el #FLISOLQuito2023! \\n\\nYa sea como ponente, organizador o ayudando en el #InstallFest, ¡tu particip…'>, <Tweet id=1635728161194512385 text='RT @loxalibre: 💪¡Anímate a compartir tus conocimientos en tecnologías libres en #FLISOLLoja! \\n\\n🔴Regístrate como ponente hasta el 26 de marz…'>, <Tweet id=1635708390046302219 text='💪¡Anímate a compartir tus conocimientos en tecnologías libres en #FLISOLLoja! \\n\\n🔴Regístrate como ponente hasta el 26 de marzo en https://t.co/QVdyhB7iHA y postula tu charla. \\n\\n📌¡Únete a la comunidad de tecnología libre en Loja y comparte tus experiencias con la comunidad! https://t.co/ao2Cj91NNv'>, <Tweet id=1635701798764675076 text='RT @OpenlabEc: 🚀Únete a la comunidad tecnológica en Guayaquil y sé parte de #Flisol2023!\\n\\n💻Organiza, preséntate como ponente o apóyanos com…'>, <Tweet id=1635697815522246673 text='RT @OpenlabEc: ¡Únete a la diversión en el #FLISOLQuito2023! \\n\\nYa sea como ponente, organizador o ayudando en el #InstallFest, ¡tu particip…'>, <Tweet id=1635697632134701056 text='RT @OpenlabEc: 🚀Únete a la comunidad tecnológica en Guayaquil y sé parte de #Flisol2023!\\n\\n💻Organiza, preséntate como ponente o apóyanos com…'>, <Tweet id=1635697098740858908 text='RT @OpenlabEc: ¡Únete a la diversión en el #FLISOLQuito2023! \\n\\nYa sea como ponente, organizador o ayudando en el #InstallFest, ¡tu particip…'>, <Tweet id=1635697031409696768 text='RT @OpenlabEc: 🚀Únete a la comunidad tecnológica en Guayaquil y sé parte de #Flisol2023!\\n\\n💻Organiza, preséntate como ponente o apóyanos com…'>, <Tweet id=1635695919717920801 text='@Flisol_Loja Por eso estamos haciendo este Space para liberar dudas'>, <Tweet id=1635692351631896576 text='RT @OpenlabEc: ¡Únete a la diversión en el #FLISOLQuito2023! \\n\\nYa sea como ponente, organizador o ayudando en el #InstallFest, ¡tu particip…'>, <Tweet id=1635691878946418693 text='¡Únete a la diversión en el #FLISOLQuito2023! \\n\\nYa sea como ponente, organizador o ayudando en el #InstallFest, ¡tu participación es valiosa! \\n\\nRegístrate ahora en https://t.co/jnLp40n0AX y forma parte de la comunidad de software libre en Ecuador 💻🎉 https://t.co/G5R9KcpH6Q'>, <Tweet id=1635689931136806939 text='RT @OpenlabEc: 🚀Únete a la comunidad tecnológica en Guayaquil y sé parte de #Flisol2023!\\n\\n💻Organiza, preséntate como ponente o apóyanos com…'>, <Tweet id=1635688722405502994 text='🚀Únete a la comunidad tecnológica en Guayaquil y sé parte de #Flisol2023!\\n\\n💻Organiza, preséntate como ponente o apóyanos como patrocinador.\\n\\n✨Regístrate en https://t.co/jnLp40n0AX y forma parte de este festival de #SoftwareLibre. ¡No te quedes fuera! https://t.co/XugLlDfGDs'>, <Tweet id=1635672832238649345 text='RT @Flisol_Loja: 📢¡Atención ponentes! ¿Quieren ser parte del Flisol y compartir su conocimiento con la comunidad? 🫂\\n\\nSi tienen ganas de ens…'>, <Tweet id=1635628993692024832 text='RT @pyecuador: Invitación abierta a participar del #FlisolLoja, registra tu participación en: https://t.co/LZAtlIjazG \\n\\nTambién ayudas much…'>, <Tweet id=1635470566734934019 text='¿Ya te registraste? Vamos date prisa que te estamos esperando en https://t.co/iVSd4jIhkZ 🥰 https://t.co/148kYGiPbA'>, <Tweet id=1635469979029053441 text='Invitación abierta a participar del #FlisolLoja, registra tu participación en: https://t.co/LZAtlIjazG \\n\\nTambién ayudas mucho su compartes 😉 https://t.co/dlpcJPc6QY'>, <Tweet id=1635443080458301440 text='RT @Flisol_Loja: 📢¡Atención ponentes! ¿Quieren ser parte del Flisol y compartir su conocimiento con la comunidad? 🫂\\n\\nSi tienen ganas de ens…'>, <Tweet id=1635421046026436609 text='RT @Flisol_Loja: 📢¡Atención ponentes! ¿Quieren ser parte del Flisol y compartir su conocimiento con la comunidad? 🫂\\n\\nSi tienen ganas de ens…'>, <Tweet id=1635413934781136897 text='@OpenlabEc @loxalibre @pyecuador @jsecuador_ @PyladiesEc @CanaimaGNULinux @FlisolCABA @SomosNLP_ @somos_CAD 💻 Participa como organizador, ponente o auspiciante. Regístrate en https://t.co/eo8YsDd4IK y forma parte de esta gran comunidad de tecnología y software libre.'>, <Tweet id=1635413695609344000 text='RT @Flisol_Loja: 📢¡Atención ponentes! ¿Quieren ser parte del Flisol y compartir su conocimiento con la comunidad? 🫂\\n\\nSi tienen ganas de ens…'>, <Tweet id=1635398336487493632 text='RT @Flisol_Loja: 📢¡Atención ponentes! ¿Quieren ser parte del Flisol y compartir su conocimiento con la comunidad? 🫂\\n\\nSi tienen ganas de ens…'>, <Tweet id=1635365373859213313 text='RT @Flisol_Loja: 📢¡Atención ponentes! ¿Quieren ser parte del Flisol y compartir su conocimiento con la comunidad? 🫂\\n\\nSi tienen ganas de ens…'>, <Tweet id=1635362644654964737 text='RT @Flisol_Loja: 📢¡Atención ponentes! ¿Quieren ser parte del Flisol y compartir su conocimiento con la comunidad? 🫂\\n\\nSi tienen ganas de ens…'>, <Tweet id=1635361511639220224 text='RT @Flisol_Loja: 📢¡Atención ponentes! ¿Quieren ser parte del Flisol y compartir su conocimiento con la comunidad? 🫂\\n\\nSi tienen ganas de ens…'>, <Tweet id=1635360803737210880 text='RT @Flisol_Loja: 📢¡Atención ponentes! ¿Quieren ser parte del Flisol y compartir su conocimiento con la comunidad? 🫂\\n\\nSi tienen ganas de ens…'>, <Tweet id=1635358335594807296 text='📢¡Atención ponentes! ¿Quieren ser parte del Flisol y compartir su conocimiento con la comunidad? 🫂\\n\\nSi tienen ganas de enseñar, nosotros tenemos ganas de aprender👩\\u200d💻\\n\\n¡Únanse a la fiesta de la tecnología libre más grande de Latinoamérica! \\n#Flisol2023 #softwarelibre #opensource https://t.co/D0iYQ9vecm'>, <Tweet id=1634424605493346304 text='RT @kokoa_espol: 📣 ¡Únete a #FlisolGuayaquil 2023! \\n\\n💻 Participa como organizador, ponente o auspiciante. Regístrate en https://t.co/bYvKzm…'>, <Tweet id=1634405604163833857 text='@BancoGuayaquil   estarian interesados en auspiciar el evento FliSol de este ano en Guayaquil? https://t.co/bYvKzm0ATF'>, <Tweet id=1634217778897907720 text='Me acabo de encontrar este texto. Un análisis valioso que cabría en cualquier #flisol https://t.co/Zre0qTtKQ7'>, <Tweet id=1634199529737027587 text='RT @pyecuador: 📣 ¡Únete a #FlisolGuayaquil 2023! \\n\\n💻 Participa como organizador, ponente o auspiciante. Regístrate en https://t.co/LZAtlIja…'>, <Tweet id=1634106158460837888 text='Me recuerda mis tiempos del @flisol_bogota las hackaton, la wiki colibrí, los canales de irc https://t.co/9M5APaFyjK'>, <Tweet id=1633931903626518530 text='RT @pyecuador: 📣 ¡Únete a #FlisolGuayaquil 2023! \\n\\n💻 Participa como organizador, ponente o auspiciante. Regístrate en https://t.co/LZAtlIja…'>, <Tweet id=1633878790878134273 text='Hola @linaporras me gustaría tener más información para participar en Flisol. ¿Por cuál medio podríamos hablar?'>], includes={}, errors=[], meta={'newest_id': '1636380012084592641', 'oldest_id': '1633878790878134273', 'result_count': 77})\n"
     ]
    },
    {
     "name": "stdout",
     "output_type": "stream",
     "text": [
      "SoftwareLibre lang:es\n",
      "Response(data=[<Tweet id=1636373346089676800 text='RT @RaptoreumES: Los Activos #Assets en nuestra #BlockChain son posibles, y lo hemos probado. 🤩\\nSeguimos #Desarrollando para la sociedad y…'>, <Tweet id=1636366973234757632 text='#TecnoFechas | Hoy celebramos el cumpleaños 70 el fundador del movimiento de #SoftwareLibre y creador de #GNU: #RichardStallman 🎉 Famoso por sus iniciales #RMS https://t.co/QnNkruoh5e'>, <Tweet id=1636366603276230658 text='RT @IYaracuy: Un #03Mar en 1999, GNOME lanza la primera versión importante del entorno de escritorio para SO GNU/Linux, Unix y derivados Un…'>, <Tweet id=1636363780472070146 text='RT @est_compartidas: \"Estrellas Compartidas\" utiliza #SoftwareLibre.\\n\\nSeguimos experimentando con #LMMS y disfrutando mucho las utilidades…'>, <Tweet id=1636358938441531392 text='RT @IYaracuy: Un #03Mar en 1999, GNOME lanza la primera versión importante del entorno de escritorio para SO GNU/Linux, Unix y derivados Un…'>, <Tweet id=1636339390581538819 text='RT @selene_cordara: Aportes del #Softwarelibre para la gestión de organizaciones de salud y la digitalización de las historias clínicas #gn…'>, <Tweet id=1636332553320775682 text='RT @Osluz_unizar: Hemos ampliado el plazo de presentación de trabajos para nuestro 1º Concurso de TFG relacionados con Tecnología Libre has…'>, <Tweet id=1636330852975009794 text='RT @CanaimaGNULinux: #UnDiaComoHoy del año 2011, según la resolución 025 publicada en la Gaceta Oficial N° 39.633 se estableció el uso del…'>, <Tweet id=1636330254204641284 text='RT @selene_cordara: Aportes del #Softwarelibre para la gestión de organizaciones de salud y la digitalización de las historias clínicas #gn…'>, <Tweet id=1636329719388942337 text='RT @Osluz_unizar: Hemos ampliado el plazo de presentación de trabajos para nuestro 1º Concurso de TFG relacionados con Tecnología Libre has…'>, <Tweet id=1636329322377015298 text='RT @esLibre_: ¡Quedan ya pocos días para enviar propuestas para #esLibre2023!\\n\\n¿Todavía no te has terminado de animar?\\n\\n¡Pues échale un ojo…'>, <Tweet id=1636326248271020033 text='RT @kokoa_espol: 📣 ¡Únete a #FlisolGuayaquil 2023! \\n\\n💻 Participa como organizador, ponente o auspiciante. Regístrate en https://t.co/bYvKzm…'>, <Tweet id=1636321679411408905 text='RT @Osluz_unizar: Hemos ampliado el plazo de presentación de trabajos para nuestro 1º Concurso de TFG relacionados con Tecnología Libre has…'>, <Tweet id=1636321052899803136 text='RT @Yar33L: Un #03Mar en 1999, GNOME lanza la primera versión importante del entorno de escritorio para SO GNU/Linux, Unix y derivados Unix…'>, <Tweet id=1636318884692099073 text='RT @IYaracuy: Un #03Mar en 1999, GNOME lanza la primera versión importante del entorno de escritorio para SO GNU/Linux, Unix y derivados Un…'>, <Tweet id=1636315013890686976 text='RT @IYaracuy: Un #03Mar en 1999, GNOME lanza la primera versión importante del entorno de escritorio para SO GNU/Linux, Unix y derivados Un…'>, <Tweet id=1636314588588265473 text='RT @Yar33L: Un #03Mar en 1999, GNOME lanza la primera versión importante del entorno de escritorio para SO GNU/Linux, Unix y derivados Unix…'>, <Tweet id=1636314063633301509 text='RT @Osluz_unizar: Hemos ampliado el plazo de presentación de trabajos para nuestro 1º Concurso de TFG relacionados con Tecnología Libre has…'>, <Tweet id=1636313869319561216 text='Hemos ampliado el plazo de presentación de trabajos para nuestro 1º Concurso de TFG relacionados con Tecnología Libre hasta el 16 de abril. ¡Estás a tiempo de presentar el tuyo!\\nMás información en https://t.co/0Y5lF0ErfZ\\n#SoftwareLibre #HardwareLibre #CulturaLibre #linux @vantpc https://t.co/pmlTAh0ihI'>, <Tweet id=1636311158679322627 text='RT @Yar33L: Un #03Mar en 1999, GNOME lanza la primera versión importante del entorno de escritorio para SO GNU/Linux, Unix y derivados Unix…'>, <Tweet id=1636306655414501378 text='RT @IYaracuy: Un #03Mar en 1999, GNOME lanza la primera versión importante del entorno de escritorio para SO GNU/Linux, Unix y derivados Un…'>, <Tweet id=1636303810665611264 text='RT @Yar33L: Un #03Mar en 1999, GNOME lanza la primera versión importante del entorno de escritorio para SO GNU/Linux, Unix y derivados Unix…'>, <Tweet id=1636303547837865985 text='RT @Yar33L: Un #03Mar en 1999, GNOME lanza la primera versión importante del entorno de escritorio para SO GNU/Linux, Unix y derivados Unix…'>, <Tweet id=1636297939776618497 text='RT @IYaracuy: Un #03Mar en 1999, GNOME lanza la primera versión importante del entorno de escritorio para SO GNU/Linux, Unix y derivados Un…'>, <Tweet id=1636293704498696197 text='RT @IYaracuy: Un #03Mar en 1999, GNOME lanza la primera versión importante del entorno de escritorio para SO GNU/Linux, Unix y derivados Un…'>, <Tweet id=1636284552833298433 text='RT @est_compartidas: \"Estrellas Compartidas\" utiliza #SoftwareLibre.\\n\\nSeguimos experimentando con #LMMS y disfrutando mucho las utilidades…'>, <Tweet id=1636282151011319810 text='RT @IYaracuy: Un #03Mar en 1999, GNOME lanza la primera versión importante del entorno de escritorio para SO GNU/Linux, Unix y derivados Un…'>, <Tweet id=1636266068791418880 text='RT @IYaracuy: Un #03Mar en 1999, GNOME lanza la primera versión importante del entorno de escritorio para SO GNU/Linux, Unix y derivados Un…'>, <Tweet id=1636255604753719296 text='RT @Yar33L: Un #03Mar en 1999, GNOME lanza la primera versión importante del entorno de escritorio para SO GNU/Linux, Unix y derivados Unix…'>, <Tweet id=1636250800623083521 text='RT @RaptoreumES: Los Activos #Assets en nuestra #BlockChain son posibles, y lo hemos probado. 🤩\\nSeguimos #Desarrollando para la sociedad y…'>, <Tweet id=1636235959825051650 text='RT @IYaracuy: Un #03Mar en 1999, GNOME lanza la primera versión importante del entorno de escritorio para SO GNU/Linux, Unix y derivados Un…'>, <Tweet id=1636235198655352832 text='RT @IYaracuy: Un #03Mar en 1999, GNOME lanza la primera versión importante del entorno de escritorio para SO GNU/Linux, Unix y derivados Un…'>, <Tweet id=1636228361566535680 text='RT @IYaracuy: Un #03Mar en 1999, GNOME lanza la primera versión importante del entorno de escritorio para SO GNU/Linux, Unix y derivados Un…'>, <Tweet id=1636226486838476800 text='RT @Yar33L: Un #03Mar en 1999, GNOME lanza la primera versión importante del entorno de escritorio para SO GNU/Linux, Unix y derivados Unix…'>, <Tweet id=1636225167713026048 text='RT @IYaracuy: Un #03Mar en 1999, GNOME lanza la primera versión importante del entorno de escritorio para SO GNU/Linux, Unix y derivados Un…'>, <Tweet id=1636222669715636231 text='RT @Yar33L: Un #03Mar en 1999, GNOME lanza la primera versión importante del entorno de escritorio para SO GNU/Linux, Unix y derivados Unix…'>, <Tweet id=1636221274098679808 text='RT @IYaracuy: Un #03Mar en 1999, GNOME lanza la primera versión importante del entorno de escritorio para SO GNU/Linux, Unix y derivados Un…'>, <Tweet id=1636219287919575040 text='RT @IYaracuy: Un #03Mar en 1999, GNOME lanza la primera versión importante del entorno de escritorio para SO GNU/Linux, Unix y derivados Un…'>, <Tweet id=1636218545141870594 text='RT @IYaracuy: Un #03Mar en 1999, GNOME lanza la primera versión importante del entorno de escritorio para SO GNU/Linux, Unix y derivados Un…'>, <Tweet id=1636215608051134464 text='RT @IYaracuy: Un #03Mar en 1999, GNOME lanza la primera versión importante del entorno de escritorio para SO GNU/Linux, Unix y derivados Un…'>, <Tweet id=1636213657653723136 text='RT @IYaracuy: Un #03Mar en 1999, GNOME lanza la primera versión importante del entorno de escritorio para SO GNU/Linux, Unix y derivados Un…'>, <Tweet id=1636213049202733058 text='RT @IYaracuy: Un #03Mar en 1999, GNOME lanza la primera versión importante del entorno de escritorio para SO GNU/Linux, Unix y derivados Un…'>, <Tweet id=1636213010535415811 text='RT @IYaracuy: Un #03Mar en 1999, GNOME lanza la primera versión importante del entorno de escritorio para SO GNU/Linux, Unix y derivados Un…'>, <Tweet id=1636212563888275456 text='RT @IYaracuy: Un #03Mar en 1999, GNOME lanza la primera versión importante del entorno de escritorio para SO GNU/Linux, Unix y derivados Un…'>, <Tweet id=1636208930517909506 text='RT @IYaracuy: Un #03Mar en 1999, GNOME lanza la primera versión importante del entorno de escritorio para SO GNU/Linux, Unix y derivados Un…'>, <Tweet id=1636206563609149440 text='RT @IYaracuy: Un #03Mar en 1999, GNOME lanza la primera versión importante del entorno de escritorio para SO GNU/Linux, Unix y derivados Un…'>, <Tweet id=1636206441273991168 text='RT @IYaracuy: Un #03Mar en 1999, GNOME lanza la primera versión importante del entorno de escritorio para SO GNU/Linux, Unix y derivados Un…'>, <Tweet id=1636206003669594112 text='RT @IYaracuy: Un #03Mar en 1999, GNOME lanza la primera versión importante del entorno de escritorio para SO GNU/Linux, Unix y derivados Un…'>, <Tweet id=1636205263857283073 text='RT @IYaracuy: Un #03Mar en 1999, GNOME lanza la primera versión importante del entorno de escritorio para SO GNU/Linux, Unix y derivados Un…'>, <Tweet id=1636203468883984386 text='RT @IYaracuy: Un #03Mar en 1999, GNOME lanza la primera versión importante del entorno de escritorio para SO GNU/Linux, Unix y derivados Un…'>, <Tweet id=1636203256467603456 text='RT @IYaracuy: Un #03Mar en 1999, GNOME lanza la primera versión importante del entorno de escritorio para SO GNU/Linux, Unix y derivados Un…'>, <Tweet id=1636200445705084928 text='\"Estrellas Compartidas\" utiliza #SoftwareLibre.\\n\\nSeguimos experimentando con #LMMS y disfrutando mucho las utilidades del #Kdenlive. Genial el curso de @podcastlinux (🥰). Fuente de consulta cada vez que tengo una duda.\\n\\nPara el procesado, seguimos con #Siril (❤️) y #Gimp (😍). https://t.co/RnwU96FZJG'>, <Tweet id=1636199692450004993 text='RT @IYaracuy: Un #03Mar en 1999, GNOME lanza la primera versión importante del entorno de escritorio para SO GNU/Linux, Unix y derivados Un…'>, <Tweet id=1636198763533303811 text='RT @IYaracuy: Un #03Mar en 1999, GNOME lanza la primera versión importante del entorno de escritorio para SO GNU/Linux, Unix y derivados Un…'>, <Tweet id=1636198438462210051 text=\"« Linux Mint Debian Edition ».\\n\\n¿Por qué suena tan interesante?\\nEl nieto Mint recurre directo al padre de Ubuntu: Debian, por si su padre se 'subleva' y se comporta 'privativo'.\\n\\n#LMDE #LinuxMint #Ubuntu #SoftwareLibre #Linux\">, <Tweet id=1636198403796238338 text='RT @IYaracuy: Un #03Mar en 1999, GNOME lanza la primera versión importante del entorno de escritorio para SO GNU/Linux, Unix y derivados Un…'>, <Tweet id=1636196366094352387 text='RT @IYaracuy: Un #03Mar en 1999, GNOME lanza la primera versión importante del entorno de escritorio para SO GNU/Linux, Unix y derivados Un…'>, <Tweet id=1636196216324386816 text='RT @IYaracuy: Un #03Mar en 1999, GNOME lanza la primera versión importante del entorno de escritorio para SO GNU/Linux, Unix y derivados Un…'>, <Tweet id=1636195280100941825 text='RT @IYaracuy: Un #03Mar en 1999, GNOME lanza la primera versión importante del entorno de escritorio para SO GNU/Linux, Unix y derivados Un…'>, <Tweet id=1636194379751718914 text='RT @IYaracuy: Un #03Mar en 1999, GNOME lanza la primera versión importante del entorno de escritorio para SO GNU/Linux, Unix y derivados Un…'>, <Tweet id=1636194256040648708 text='RT @IYaracuy: Un #03Mar en 1999, GNOME lanza la primera versión importante del entorno de escritorio para SO GNU/Linux, Unix y derivados Un…'>, <Tweet id=1636192913129365504 text='RT @Yar33L: Un #03Mar en 1999, GNOME lanza la primera versión importante del entorno de escritorio para SO GNU/Linux, Unix y derivados Unix…'>, <Tweet id=1636191326848024577 text='RT @IYaracuy: Un #03Mar en 1999, GNOME lanza la primera versión importante del entorno de escritorio para SO GNU/Linux, Unix y derivados Un…'>, <Tweet id=1636190356365615107 text='RT @IYaracuy: Un #03Mar en 1999, GNOME lanza la primera versión importante del entorno de escritorio para SO GNU/Linux, Unix y derivados Un…'>, <Tweet id=1636189980140683264 text='RT @IYaracuy: Un #03Mar en 1999, GNOME lanza la primera versión importante del entorno de escritorio para SO GNU/Linux, Unix y derivados Un…'>, <Tweet id=1636189964420431873 text='RT @IYaracuy: Un #03Mar en 1999, GNOME lanza la primera versión importante del entorno de escritorio para SO GNU/Linux, Unix y derivados Un…'>, <Tweet id=1636189669334417408 text='RT @Yar33L: Un #03Mar en 1999, GNOME lanza la primera versión importante del entorno de escritorio para SO GNU/Linux, Unix y derivados Unix…'>, <Tweet id=1636189481664487429 text='RT @Yar33L: Un #03Mar en 1999, GNOME lanza la primera versión importante del entorno de escritorio para SO GNU/Linux, Unix y derivados Unix…'>, <Tweet id=1636188762643345408 text='RT @Yar33L: Un #03Mar en 1999, GNOME lanza la primera versión importante del entorno de escritorio para SO GNU/Linux, Unix y derivados Unix…'>, <Tweet id=1636188585450786818 text='RT @Yar33L: Un #03Mar en 1999, GNOME lanza la primera versión importante del entorno de escritorio para SO GNU/Linux, Unix y derivados Unix…'>, <Tweet id=1636188388993773568 text='RT @RaptoreumES: Los Activos #Assets en nuestra #BlockChain son posibles, y lo hemos probado. 🤩\\nSeguimos #Desarrollando para la sociedad y…'>, <Tweet id=1636187454418964481 text='RT @IYaracuy: Un #03Mar en 1999, GNOME lanza la primera versión importante del entorno de escritorio para SO GNU/Linux, Unix y derivados Un…'>, <Tweet id=1636186843359191041 text='RT @Yar33L: Un #03Mar en 1999, GNOME lanza la primera versión importante del entorno de escritorio para SO GNU/Linux, Unix y derivados Unix…'>, <Tweet id=1636186047557033985 text='RT @IYaracuy: Un #03Mar en 1999, GNOME lanza la primera versión importante del entorno de escritorio para SO GNU/Linux, Unix y derivados Un…'>, <Tweet id=1636184830059659266 text='RT @IYaracuy: Un #03Mar en 1999, GNOME lanza la primera versión importante del entorno de escritorio para SO GNU/Linux, Unix y derivados Un…'>, <Tweet id=1636183924719210496 text='RT @IYaracuy: Un #03Mar en 1999, GNOME lanza la primera versión importante del entorno de escritorio para SO GNU/Linux, Unix y derivados Un…'>, <Tweet id=1636183747258187777 text='RT @IYaracuy: Un #03Mar en 1999, GNOME lanza la primera versión importante del entorno de escritorio para SO GNU/Linux, Unix y derivados Un…'>, <Tweet id=1636183145551745025 text='RT @IYaracuy: Un #03Mar en 1999, GNOME lanza la primera versión importante del entorno de escritorio para SO GNU/Linux, Unix y derivados Un…'>, <Tweet id=1636182714285006849 text='RT @IYaracuy: Un #03Mar en 1999, GNOME lanza la primera versión importante del entorno de escritorio para SO GNU/Linux, Unix y derivados Un…'>, <Tweet id=1636182116009377794 text='RT @IYaracuy: Un #03Mar en 1999, GNOME lanza la primera versión importante del entorno de escritorio para SO GNU/Linux, Unix y derivados Un…'>, <Tweet id=1636180828379070464 text='RT @IYaracuy: Un #03Mar en 1999, GNOME lanza la primera versión importante del entorno de escritorio para SO GNU/Linux, Unix y derivados Un…'>, <Tweet id=1636180679401652225 text='RT @IYaracuy: Un #03Mar en 1999, GNOME lanza la primera versión importante del entorno de escritorio para SO GNU/Linux, Unix y derivados Un…'>, <Tweet id=1636179083934543882 text='RT @IYaracuy: Un #03Mar en 1999, GNOME lanza la primera versión importante del entorno de escritorio para SO GNU/Linux, Unix y derivados Un…'>, <Tweet id=1636178069768601601 text='RT @IYaracuy: Un #03Mar en 1999, GNOME lanza la primera versión importante del entorno de escritorio para SO GNU/Linux, Unix y derivados Un…'>, <Tweet id=1636177782580338689 text='RT @IYaracuy: Un #03Mar en 1999, GNOME lanza la primera versión importante del entorno de escritorio para SO GNU/Linux, Unix y derivados Un…'>, <Tweet id=1636177035537121286 text='RT @IYaracuy: Un #03Mar en 1999, GNOME lanza la primera versión importante del entorno de escritorio para SO GNU/Linux, Unix y derivados Un…'>, <Tweet id=1636177021771341824 text='RT @Yar33L: Un #03Mar en 1999, GNOME lanza la primera versión importante del entorno de escritorio para SO GNU/Linux, Unix y derivados Unix…'>, <Tweet id=1636176650541907969 text='RT @Yar33L: Un #03Mar en 1999, GNOME lanza la primera versión importante del entorno de escritorio para SO GNU/Linux, Unix y derivados Unix…'>, <Tweet id=1636176098445672448 text='RT @IYaracuy: Un #03Mar en 1999, GNOME lanza la primera versión importante del entorno de escritorio para SO GNU/Linux, Unix y derivados Un…'>, <Tweet id=1636175800167792641 text='RT @IYaracuy: Un #03Mar en 1999, GNOME lanza la primera versión importante del entorno de escritorio para SO GNU/Linux, Unix y derivados Un…'>, <Tweet id=1636175373858635778 text='RT @IYaracuy: Un #03Mar en 1999, GNOME lanza la primera versión importante del entorno de escritorio para SO GNU/Linux, Unix y derivados Un…'>, <Tweet id=1636175033528623108 text='RT @Yar33L: Un #03Mar en 1999, GNOME lanza la primera versión importante del entorno de escritorio para SO GNU/Linux, Unix y derivados Unix…'>, <Tweet id=1636173030421405696 text='RT @IYaracuy: Un #03Mar en 1999, GNOME lanza la primera versión importante del entorno de escritorio para SO GNU/Linux, Unix y derivados Un…'>, <Tweet id=1636172655102504960 text='RT @IYaracuy: Un #03Mar en 1999, GNOME lanza la primera versión importante del entorno de escritorio para SO GNU/Linux, Unix y derivados Un…'>, <Tweet id=1636172601495093254 text='RT @IYaracuy: Un #03Mar en 1999, GNOME lanza la primera versión importante del entorno de escritorio para SO GNU/Linux, Unix y derivados Un…'>, <Tweet id=1636172449157984257 text='RT @IYaracuy: Un #03Mar en 1999, GNOME lanza la primera versión importante del entorno de escritorio para SO GNU/Linux, Unix y derivados Un…'>, <Tweet id=1636171368478720006 text='RT @IYaracuy: Un #03Mar en 1999, GNOME lanza la primera versión importante del entorno de escritorio para SO GNU/Linux, Unix y derivados Un…'>, <Tweet id=1636170591546777601 text='RT @IYaracuy: Un #03Mar en 1999, GNOME lanza la primera versión importante del entorno de escritorio para SO GNU/Linux, Unix y derivados Un…'>, <Tweet id=1636170270296666114 text='RT @Yar33L: Un #03Mar en 1999, GNOME lanza la primera versión importante del entorno de escritorio para SO GNU/Linux, Unix y derivados Unix…'>], includes={}, errors=[], meta={'newest_id': '1636373346089676800', 'oldest_id': '1636170270296666114', 'result_count': 99, 'next_token': 'b26v89c19zqg8o3fqka1f2ov7x77ljcshtynxe0964g3h'})\n"
     ]
    },
    {
     "name": "stdout",
     "output_type": "stream",
     "text": [
      "ComunidadTecnológica lang:es\n",
      "Response(data=[<Tweet id=1636326248271020033 text='RT @kokoa_espol: 📣 ¡Únete a #FlisolGuayaquil 2023! \\n\\n💻 Participa como organizador, ponente o auspiciante. Regístrate en https://t.co/bYvKzm…'>, <Tweet id=1635778677374873600 text='TecNM Campus Pánuco \\n#ComunidadTecnológica\\nComo parte de las actividades del Comité de Contraloría Ciudadana 2023 ITSPánuco, el pasado 09 de marzo de 2023, se realizó la primera encuesta de evaluación a los trámites y servicios que proporciona a la comunidad estudiantil. https://t.co/ivUNUr2xHJ'>, <Tweet id=1635764840936374285 text='TecNM Campus Pánuco\\nInforma a la #ComunidadTecnológica\\nConvocatoria Innova TecNM 2023\\nConsulta la convocatoria en 👉  https://t.co/uEVZx5xs13 \\nRegístrate y participa!\\n#TecPánucoTuPrimerOpción\\n#AprenderParaTrascender\\n#TodosSomosTecNM\\n#TecPánucoMeLlenaDeOrgullo https://t.co/UQy2gaMUXg'>, <Tweet id=1635304062328651776 text='Estudia en el #TecNM campus Comitán https://t.co/NNfMxPeAZS Forma parte de nuestra #ComunidadTecnológica ¡FORJA TU FUTURO! ✅ Convocatoria de nuevo ingreso 2023 y pasos para solicitar tu ficha https://t.co/HixGzt6end Dudas: WhatsApp 9631920348 L-V 9-15 y 17-19 h #SomosJaguaresTec'>, <Tweet id=1634820190373388293 text='RT @GrupoTrevenque: Tech &amp; Beer, una iniciativa destinada a crear una comunidad entre todas las personas interesadas en tecnología dentro d…'>, <Tweet id=1634464531857526785 text='Tech &amp; Beer, una iniciativa destinada a crear una comunidad entre todas las personas interesadas en tecnología dentro de la empresa, en un ambiente relajado e informal.\\n\\n¿Quieres saber más?\\nhttps://t.co/t6PlQmAVH2\\n\\n#TechandBeer #ComunidadTecnológica #CulturaColaborativa https://t.co/9pddHqq1uz'>, <Tweet id=1634451118746132480 text='RT @web_itapizaco: #ComunidadTecnológica  el campus Apizaco y el CONIGE los invitan a participar este 14 de marzo en el  MERCADIGE, de 11:0…'>, <Tweet id=1634424605493346304 text='RT @kokoa_espol: 📣 ¡Únete a #FlisolGuayaquil 2023! \\n\\n💻 Participa como organizador, ponente o auspiciante. Regístrate en https://t.co/bYvKzm…'>, <Tweet id=1634354829480050689 text='#ComunidadTecnológica  el campus Apizaco y el CONIGE los invitan a participar este 14 de marzo en el  MERCADIGE, de 11:00 a 14:00 horas, a un costado del edif. “P”.\\nSi eres emprendedor regístrate y muestra tu negocio. Escanea el QR y consulta la convocatoria. https://t.co/RKUsYwbJjg'>, <Tweet id=1634199529737027587 text='RT @pyecuador: 📣 ¡Únete a #FlisolGuayaquil 2023! \\n\\n💻 Participa como organizador, ponente o auspiciante. Regístrate en https://t.co/LZAtlIja…'>, <Tweet id=1634177618437103618 text='¿Quieres formar parte del futuro de la tecnología? Únete a \"Despierta al futuro\" y conviértete en un agente del cambio. 🚀 #DespiertaAlFuturo #Hasotek #ComunidadTecnológica'>, <Tweet id=1633931903626518530 text='RT @pyecuador: 📣 ¡Únete a #FlisolGuayaquil 2023! \\n\\n💻 Participa como organizador, ponente o auspiciante. Regístrate en https://t.co/LZAtlIja…'>], includes={}, errors=[], meta={'newest_id': '1636326248271020033', 'oldest_id': '1633931903626518530', 'result_count': 12})\n"
     ]
    }
   ],
   "source": [
    "from datetime import date\n",
    "import pandas as pd\n",
    "\n",
    "today = date.today()\n",
    "str(today)\n",
    "\n",
    "\n",
    "for palabra_de_busqueda in lista_de_palabras:\n",
    "\n",
    "    query = palabra_de_busqueda+' lang:es'\n",
    "    print(query)\n",
    "    t = ['public_metrics','attachments','author_id','context_annotations','conversation_id','created_at','edit_controls','edit_history_tweet_ids','entities','geo','id','in_reply_to_user_id','lang','possibly_sensitive','referenced_tweets','reply_settings','source','text','withheld']\n",
    "    #tweets = client.search_recent_tweets(query=query, tweet_fields=t, end_time='2023-02-14T00:00:00Z' ,max_results=100)\n",
    "    tweets = client.search_recent_tweets(query=query, tweet_fields=t,max_results=100)\n",
    "    print(tweets)\n",
    "    df = pd.DataFrame()\n",
    "    if tweets.data is not None:\n",
    "        for tweet in tweets.data:\n",
    "            if len(tweet.text) > 0:\n",
    "                cols = ['created_at','id','text','context_annotations','edit_history_tweet_ids','retweet_count','reply_count','quote_counts','impression_count','entities','conversation_id', 'author_id','possibly_sensitive','lang','referenced_tweets','edit_controls', 'reply_settings', 'in_reply_to_user_id']\n",
    "                l = [tweet.created_at, tweet.id, tweet.text, tweet.context_annotations, tweet.edit_history_tweet_ids[0], tweet['public_metrics']['retweet_count'],tweet['public_metrics']['reply_count'],tweet['public_metrics']['quote_count'],tweet['public_metrics']['impression_count'], tweet.entities, tweet.conversation_id, tweet.author_id,tweet.possibly_sensitive,tweet.lang,tweet.referenced_tweets, tweet.edit_controls, tweet.reply_settings, [tweet['in_reply_to_user_id'] if tweet['in_reply_to_user_id'] is not None else 0]]\n",
    "                df_aux = pd.DataFrame(l).T\n",
    "                df_aux.columns=cols\n",
    "                df = pd.concat([df_aux,df])\n",
    "\n",
    "                df['palabra_de_busqueda'] = palabra_de_busqueda\n",
    "\n",
    "                df\n",
    "\n",
    "                df.to_csv('/home/okus/Desktop/csvconf/'+str(today)+'_'+palabra_de_busqueda+'_endtiend_time=2023-03-10T00:00:00Z_es.csv')\n",
    "                #df.to_csv('/home/okus/Desktop/csvconf/'+str(today)+'_'+palabra_de_busqueda+'_es.csv')"
   ]
  },
  {
   "cell_type": "code",
   "execution_count": 9,
   "id": "936bd36b-c9ad-4ead-8e51-72fd41f0f4de",
   "metadata": {
    "tags": []
   },
   "outputs": [],
   "source": [
    "#pd.read_csv('/home/okus/Desktop/csvconf/software libre'+'.csv')"
   ]
  },
  {
   "cell_type": "code",
   "execution_count": 12,
   "id": "9a4df6e9-4af1-4101-88ae-d7bc81284717",
   "metadata": {
    "tags": []
   },
   "outputs": [
    {
     "data": {
      "text/plain": [
       "array(['RT @pyecuador: 📣 ¡Únete a #FlisolGuayaquil 2023! \\n\\n💻 Participa como organizador, ponente o auspiciante. Regístrate en https://t.co/LZAtlIja…',\n",
       "       '¿Quieres formar parte del futuro de la tecnología? Únete a \"Despierta al futuro\" y conviértete en un agente del cambio. 🚀 #DespiertaAlFuturo #Hasotek #ComunidadTecnológica',\n",
       "       'RT @pyecuador: 📣 ¡Únete a #FlisolGuayaquil 2023! \\n\\n💻 Participa como organizador, ponente o auspiciante. Regístrate en https://t.co/LZAtlIja…',\n",
       "       '#ComunidadTecnológica  el campus Apizaco y el CONIGE los invitan a participar este 14 de marzo en el  MERCADIGE, de 11:00 a 14:00 horas, a un costado del edif. “P”.\\nSi eres emprendedor regístrate y muestra tu negocio. Escanea el QR y consulta la convocatoria. https://t.co/RKUsYwbJjg',\n",
       "       'RT @kokoa_espol: 📣 ¡Únete a #FlisolGuayaquil 2023! \\n\\n💻 Participa como organizador, ponente o auspiciante. Regístrate en https://t.co/bYvKzm…',\n",
       "       'RT @web_itapizaco: #ComunidadTecnológica  el campus Apizaco y el CONIGE los invitan a participar este 14 de marzo en el  MERCADIGE, de 11:0…',\n",
       "       'Tech &amp; Beer, una iniciativa destinada a crear una comunidad entre todas las personas interesadas en tecnología dentro de la empresa, en un ambiente relajado e informal.\\n\\n¿Quieres saber más?\\nhttps://t.co/t6PlQmAVH2\\n\\n#TechandBeer #ComunidadTecnológica #CulturaColaborativa https://t.co/9pddHqq1uz',\n",
       "       'RT @GrupoTrevenque: Tech &amp; Beer, una iniciativa destinada a crear una comunidad entre todas las personas interesadas en tecnología dentro d…',\n",
       "       'Estudia en el #TecNM campus Comitán https://t.co/NNfMxPeAZS Forma parte de nuestra #ComunidadTecnológica ¡FORJA TU FUTURO! ✅ Convocatoria de nuevo ingreso 2023 y pasos para solicitar tu ficha https://t.co/HixGzt6end Dudas: WhatsApp 9631920348 L-V 9-15 y 17-19 h #SomosJaguaresTec',\n",
       "       'TecNM Campus Pánuco\\nInforma a la #ComunidadTecnológica\\nConvocatoria Innova TecNM 2023\\nConsulta la convocatoria en 👉  https://t.co/uEVZx5xs13 \\nRegístrate y participa!\\n#TecPánucoTuPrimerOpción\\n#AprenderParaTrascender\\n#TodosSomosTecNM\\n#TecPánucoMeLlenaDeOrgullo https://t.co/UQy2gaMUXg',\n",
       "       'TecNM Campus Pánuco \\n#ComunidadTecnológica\\nComo parte de las actividades del Comité de Contraloría Ciudadana 2023 ITSPánuco, el pasado 09 de marzo de 2023, se realizó la primera encuesta de evaluación a los trámites y servicios que proporciona a la comunidad estudiantil. https://t.co/ivUNUr2xHJ',\n",
       "       'RT @kokoa_espol: 📣 ¡Únete a #FlisolGuayaquil 2023! \\n\\n💻 Participa como organizador, ponente o auspiciante. Regístrate en https://t.co/bYvKzm…'],\n",
       "      dtype=object)"
      ]
     },
     "execution_count": 12,
     "metadata": {},
     "output_type": "execute_result"
    }
   ],
   "source": [
    "df['text'].values"
   ]
  },
  {
   "cell_type": "code",
   "execution_count": 13,
   "id": "5f8e3f60-542c-4ad9-bbe1-06d117c4a9a5",
   "metadata": {
    "tags": []
   },
   "outputs": [
    {
     "data": {
      "text/plain": [
       "'2023-03-16_ComunidadTecnológica.csv'"
      ]
     },
     "execution_count": 13,
     "metadata": {},
     "output_type": "execute_result"
    }
   ],
   "source": [
    "str(today)+'_'+palabra_de_busqueda+'.csv'"
   ]
  },
  {
   "cell_type": "code",
   "execution_count": 14,
   "id": "ffc18402-f980-4435-a0c5-d87108a1c3df",
   "metadata": {
    "tags": []
   },
   "outputs": [
    {
     "data": {
      "text/html": [
       "<div>\n",
       "<style scoped>\n",
       "    .dataframe tbody tr th:only-of-type {\n",
       "        vertical-align: middle;\n",
       "    }\n",
       "\n",
       "    .dataframe tbody tr th {\n",
       "        vertical-align: top;\n",
       "    }\n",
       "\n",
       "    .dataframe thead th {\n",
       "        text-align: right;\n",
       "    }\n",
       "</style>\n",
       "<table border=\"1\" class=\"dataframe\">\n",
       "  <thead>\n",
       "    <tr style=\"text-align: right;\">\n",
       "      <th></th>\n",
       "      <th>created_at</th>\n",
       "      <th>id</th>\n",
       "      <th>text</th>\n",
       "      <th>context_annotations</th>\n",
       "      <th>edit_history_tweet_ids</th>\n",
       "      <th>retweet_count</th>\n",
       "      <th>reply_count</th>\n",
       "      <th>quote_counts</th>\n",
       "      <th>impression_count</th>\n",
       "      <th>entities</th>\n",
       "      <th>conversation_id</th>\n",
       "      <th>author_id</th>\n",
       "      <th>possibly_sensitive</th>\n",
       "      <th>lang</th>\n",
       "      <th>referenced_tweets</th>\n",
       "      <th>edit_controls</th>\n",
       "      <th>reply_settings</th>\n",
       "      <th>in_reply_to_user_id</th>\n",
       "    </tr>\n",
       "  </thead>\n",
       "  <tbody>\n",
       "    <tr>\n",
       "      <th>0</th>\n",
       "      <td>2023-03-09 20:44:57+00:00</td>\n",
       "      <td>1633931903626518530</td>\n",
       "      <td>RT @pyecuador: 📣 ¡Únete a #FlisolGuayaquil 202...</td>\n",
       "      <td>[]</td>\n",
       "      <td>1633931903626518530</td>\n",
       "      <td>3</td>\n",
       "      <td>0</td>\n",
       "      <td>0</td>\n",
       "      <td>0</td>\n",
       "      <td>{'hashtags': [{'start': 26, 'end': 42, 'tag': ...</td>\n",
       "      <td>1633931903626518530</td>\n",
       "      <td>982076064397574145</td>\n",
       "      <td>False</td>\n",
       "      <td>es</td>\n",
       "      <td>[(type, id)]</td>\n",
       "      <td>{'edits_remaining': 5, 'is_edit_eligible': Fal...</td>\n",
       "      <td>everyone</td>\n",
       "      <td>[0]</td>\n",
       "    </tr>\n",
       "  </tbody>\n",
       "</table>\n",
       "</div>"
      ],
      "text/plain": [
       "                 created_at                   id  \\\n",
       "0 2023-03-09 20:44:57+00:00  1633931903626518530   \n",
       "\n",
       "                                                text context_annotations  \\\n",
       "0  RT @pyecuador: 📣 ¡Únete a #FlisolGuayaquil 202...                  []   \n",
       "\n",
       "  edit_history_tweet_ids retweet_count reply_count quote_counts  \\\n",
       "0    1633931903626518530             3           0            0   \n",
       "\n",
       "  impression_count                                           entities  \\\n",
       "0                0  {'hashtags': [{'start': 26, 'end': 42, 'tag': ...   \n",
       "\n",
       "       conversation_id           author_id possibly_sensitive lang  \\\n",
       "0  1633931903626518530  982076064397574145              False   es   \n",
       "\n",
       "  referenced_tweets                                      edit_controls  \\\n",
       "0      [(type, id)]  {'edits_remaining': 5, 'is_edit_eligible': Fal...   \n",
       "\n",
       "  reply_settings in_reply_to_user_id  \n",
       "0       everyone                 [0]  "
      ]
     },
     "execution_count": 14,
     "metadata": {},
     "output_type": "execute_result"
    }
   ],
   "source": [
    "df = pd.DataFrame()\n",
    "df = pd.concat([df_aux,df])\n",
    "df"
   ]
  },
  {
   "cell_type": "code",
   "execution_count": 15,
   "id": "0627bda1-1634-4afe-9a5f-326434049b3c",
   "metadata": {
    "tags": []
   },
   "outputs": [
    {
     "name": "stdout",
     "output_type": "stream",
     "text": [
      "RT @kokoa_espol: 📣 ¡Únete a #FlisolGuayaquil 2023! \n",
      "\n",
      "💻 Participa como organizador, ponente o auspiciante. Regístrate en https://t.co/bYvKzm…\n",
      "TecNM Campus Pánuco \n",
      "#ComunidadTecnológica\n",
      "Como parte de las actividades del Comité de Contraloría Ciudadana 2023 ITSPánuco, el pasado 09 de marzo de 2023, se realizó la primera encuesta de evaluación a los trámites y servicios que proporciona a la comunidad estudiantil. https://t.co/ivUNUr2xHJ\n",
      "TecNM Campus Pánuco\n",
      "Informa a la #ComunidadTecnológica\n",
      "Convocatoria Innova TecNM 2023\n",
      "Consulta la convocatoria en 👉  https://t.co/uEVZx5xs13 \n",
      "Regístrate y participa!\n",
      "#TecPánucoTuPrimerOpción\n",
      "#AprenderParaTrascender\n",
      "#TodosSomosTecNM\n",
      "#TecPánucoMeLlenaDeOrgullo https://t.co/UQy2gaMUXg\n",
      "Estudia en el #TecNM campus Comitán https://t.co/NNfMxPeAZS Forma parte de nuestra #ComunidadTecnológica ¡FORJA TU FUTURO! ✅ Convocatoria de nuevo ingreso 2023 y pasos para solicitar tu ficha https://t.co/HixGzt6end Dudas: WhatsApp 9631920348 L-V 9-15 y 17-19 h #SomosJaguaresTec\n",
      "[{'domain': {'id': '47', 'name': 'Brand', 'description': 'Brands and Companies'}, 'entity': {'id': '1502374025170882561', 'name': 'WhatsApp', 'description': 'WhatsApp Messenger, or simply WhatsApp, is an internationally available American freeware, cross-platform centralized instant messaging and voice-over-IP service owned by Meta Platforms.'}}]\n",
      "[datetime.datetime(2023, 3, 13, 15, 37, 25, tzinfo=datetime.timezone.utc), 'es', 1635304062328651776, 'Estudia en el #TecNM campus Comitán https://t.co/NNfMxPeAZS Forma parte de nuestra #ComunidadTecnológica ¡FORJA TU FUTURO! ✅ Convocatoria de nuevo ingreso 2023 y pasos para solicitar tu ficha https://t.co/HixGzt6end Dudas: WhatsApp 9631920348 L-V 9-15 y 17-19 h #SomosJaguaresTec']\n",
      "RT @GrupoTrevenque: Tech &amp; Beer, una iniciativa destinada a crear una comunidad entre todas las personas interesadas en tecnología dentro d…\n",
      "[{'domain': {'id': '46', 'name': 'Business Taxonomy', 'description': 'Categories within Brand Verticals that narrow down the scope of Brands'}, 'entity': {'id': '1557696888568045569', 'name': 'Food & Beverage Business', 'description': 'Brands, companies, advertisers and every non-person handle with the profit intent and related to foods & beverages such as snacks, soft drinks, beers.'}}, {'domain': {'id': '46', 'name': 'Business Taxonomy', 'description': 'Categories within Brand Verticals that narrow down the scope of Brands'}, 'entity': {'id': '1557697333571112960', 'name': 'Technology Business', 'description': 'Brands, companies, advertisers and every non-person handle with the profit intent related to softwares, apps, communication equipments, hardwares'}}, {'domain': {'id': '65', 'name': 'Interests and Hobbies Vertical', 'description': 'Top level interests and hobbies groupings, like Food or Travel'}, 'entity': {'id': '834828264786898945', 'name': 'Drinks', 'description': 'Drinks'}}, {'domain': {'id': '66', 'name': 'Interests and Hobbies Category', 'description': 'A grouping of interests and hobbies entities, like Novelty Food or Destinations'}, 'entity': {'id': '834828445238431744', 'name': 'Generic Drinks', 'description': 'Generic Drinks'}}, {'domain': {'id': '67', 'name': 'Interests and Hobbies', 'description': 'Interests, opinions, and behaviors of individuals, groups, or cultures; like Speciality Cooking or Theme Parks'}, 'entity': {'id': '850142258871418880', 'name': 'Beer', 'description': 'Beer'}}, {'domain': {'id': '173', 'name': 'Product Taxonomy', 'description': 'A product taxonomy for labeling categories of products. '}, 'entity': {'id': '850142258871418880', 'name': 'Beer', 'description': 'Beer'}}]\n",
      "[datetime.datetime(2023, 3, 12, 7, 34, 41, tzinfo=datetime.timezone.utc), 'es', 1634820190373388293, 'RT @GrupoTrevenque: Tech &amp; Beer, una iniciativa destinada a crear una comunidad entre todas las personas interesadas en tecnología dentro d…']\n",
      "Tech &amp; Beer, una iniciativa destinada a crear una comunidad entre todas las personas interesadas en tecnología dentro de la empresa, en un ambiente relajado e informal.\n",
      "\n",
      "¿Quieres saber más?\n",
      "https://t.co/t6PlQmAVH2\n",
      "\n",
      "#TechandBeer #ComunidadTecnológica #CulturaColaborativa https://t.co/9pddHqq1uz\n",
      "[{'domain': {'id': '46', 'name': 'Business Taxonomy', 'description': 'Categories within Brand Verticals that narrow down the scope of Brands'}, 'entity': {'id': '1557696888568045569', 'name': 'Food & Beverage Business', 'description': 'Brands, companies, advertisers and every non-person handle with the profit intent and related to foods & beverages such as snacks, soft drinks, beers.'}}, {'domain': {'id': '46', 'name': 'Business Taxonomy', 'description': 'Categories within Brand Verticals that narrow down the scope of Brands'}, 'entity': {'id': '1557697333571112960', 'name': 'Technology Business', 'description': 'Brands, companies, advertisers and every non-person handle with the profit intent related to softwares, apps, communication equipments, hardwares'}}, {'domain': {'id': '65', 'name': 'Interests and Hobbies Vertical', 'description': 'Top level interests and hobbies groupings, like Food or Travel'}, 'entity': {'id': '834828264786898945', 'name': 'Drinks', 'description': 'Drinks'}}, {'domain': {'id': '66', 'name': 'Interests and Hobbies Category', 'description': 'A grouping of interests and hobbies entities, like Novelty Food or Destinations'}, 'entity': {'id': '834828445238431744', 'name': 'Generic Drinks', 'description': 'Generic Drinks'}}, {'domain': {'id': '67', 'name': 'Interests and Hobbies', 'description': 'Interests, opinions, and behaviors of individuals, groups, or cultures; like Speciality Cooking or Theme Parks'}, 'entity': {'id': '850142258871418880', 'name': 'Beer', 'description': 'Beer'}}, {'domain': {'id': '173', 'name': 'Product Taxonomy', 'description': 'A product taxonomy for labeling categories of products. '}, 'entity': {'id': '850142258871418880', 'name': 'Beer', 'description': 'Beer'}}]\n",
      "[datetime.datetime(2023, 3, 11, 8, 1, 25, tzinfo=datetime.timezone.utc), 'es', 1634464531857526785, 'Tech &amp; Beer, una iniciativa destinada a crear una comunidad entre todas las personas interesadas en tecnología dentro de la empresa, en un ambiente relajado e informal.\\n\\n¿Quieres saber más?\\nhttps://t.co/t6PlQmAVH2\\n\\n#TechandBeer #ComunidadTecnológica #CulturaColaborativa https://t.co/9pddHqq1uz']\n",
      "RT @web_itapizaco: #ComunidadTecnológica  el campus Apizaco y el CONIGE los invitan a participar este 14 de marzo en el  MERCADIGE, de 11:0…\n",
      "RT @kokoa_espol: 📣 ¡Únete a #FlisolGuayaquil 2023! \n",
      "\n",
      "💻 Participa como organizador, ponente o auspiciante. Regístrate en https://t.co/bYvKzm…\n",
      "#ComunidadTecnológica  el campus Apizaco y el CONIGE los invitan a participar este 14 de marzo en el  MERCADIGE, de 11:00 a 14:00 horas, a un costado del edif. “P”.\n",
      "Si eres emprendedor regístrate y muestra tu negocio. Escanea el QR y consulta la convocatoria. https://t.co/RKUsYwbJjg\n",
      "RT @pyecuador: 📣 ¡Únete a #FlisolGuayaquil 2023! \n",
      "\n",
      "💻 Participa como organizador, ponente o auspiciante. Regístrate en https://t.co/LZAtlIja…\n",
      "¿Quieres formar parte del futuro de la tecnología? Únete a \"Despierta al futuro\" y conviértete en un agente del cambio. 🚀 #DespiertaAlFuturo #Hasotek #ComunidadTecnológica\n",
      "[{'domain': {'id': '46', 'name': 'Business Taxonomy', 'description': 'Categories within Brand Verticals that narrow down the scope of Brands'}, 'entity': {'id': '1557697333571112960', 'name': 'Technology Business', 'description': 'Brands, companies, advertisers and every non-person handle with the profit intent related to softwares, apps, communication equipments, hardwares'}}]\n",
      "[datetime.datetime(2023, 3, 10, 13, 1, 20, tzinfo=datetime.timezone.utc), 'es', 1634177618437103618, '¿Quieres formar parte del futuro de la tecnología? Únete a \"Despierta al futuro\" y conviértete en un agente del cambio. 🚀 #DespiertaAlFuturo #Hasotek #ComunidadTecnológica']\n",
      "RT @pyecuador: 📣 ¡Únete a #FlisolGuayaquil 2023! \n",
      "\n",
      "💻 Participa como organizador, ponente o auspiciante. Regístrate en https://t.co/LZAtlIja…\n"
     ]
    }
   ],
   "source": [
    "for tweet in tweets.data:\n",
    "    #print(type(tweet))\n",
    "    print(tweet.text)\n",
    "    if len(tweet.context_annotations) > 0:\n",
    "        print(tweet.context_annotations)\n",
    "        l = [ tweet.created_at, tweet.lang, tweet.id, tweet.text]\n",
    "        print(l)"
   ]
  },
  {
   "cell_type": "code",
   "execution_count": null,
   "id": "9e09eba1-aaf0-4930-b2cd-2b8d185781b5",
   "metadata": {},
   "outputs": [],
   "source": []
  },
  {
   "cell_type": "code",
   "execution_count": null,
   "id": "2f205505-26b0-4c27-8194-8adf5442db5a",
   "metadata": {},
   "outputs": [],
   "source": []
  },
  {
   "cell_type": "code",
   "execution_count": null,
   "id": "2c911f67-7a2c-4050-b7d8-99df886fa705",
   "metadata": {},
   "outputs": [],
   "source": []
  },
  {
   "cell_type": "code",
   "execution_count": 16,
   "id": "65cafbf6-2dbf-4926-a9e9-9b332e11bc74",
   "metadata": {
    "tags": []
   },
   "outputs": [],
   "source": [
    "lista_de_palabras = ['scipyLatam','scipy Latam','scipy LA',  'meetup', 'software libre', 'free software', 'reproducibilidad', 'reproducibility', 'Women in Bioinformatics Data Science LA', 'WBDSLA','WBDS LA','FLISOL','SoftwareLibre', 'ComunidadTecnológica','Comunidad Tecnológica', 'Software grátis', 'Comunidade Tecnológica','ComunidadeTecnológica', 'Softwaregrátis']\n",
    "\n",
    "\n",
    "#'Women in Bioinformatics and Data Science Latin America'"
   ]
  },
  {
   "cell_type": "code",
   "execution_count": 18,
   "id": "9f0b2473-b07d-4571-8fa6-6a4c8c9589ab",
   "metadata": {
    "tags": []
   },
   "outputs": [
    {
     "name": "stdout",
     "output_type": "stream",
     "text": [
      "scipyLatam lang:pt\n",
      "Response(data=None, includes={}, errors=[], meta={'result_count': 0})\n",
      "scipy Latam lang:pt\n",
      "Response(data=None, includes={}, errors=[], meta={'result_count': 0})\n",
      "scipy LA lang:pt\n",
      "Response(data=None, includes={}, errors=[], meta={'result_count': 0})\n",
      "meetup lang:pt\n",
      "Response(data=[<Tweet id=1633977548030738437 text='RT @ghcommunitysp: E começamos às divulgações assim: com uma palestrante maravilhosa!\\n\\nA @nathsouzadev vai falar com a gente sobre \"Pipelin…'>, <Tweet id=1633976029315211264 text='RT @ghcommunitysp: E começamos às divulgações assim: com uma palestrante maravilhosa!\\n\\nA @nathsouzadev vai falar com a gente sobre \"Pipelin…'>, <Tweet id=1633968503957987332 text='RT @ghcommunitysp: E começamos às divulgações assim: com uma palestrante maravilhosa!\\n\\nA @nathsouzadev vai falar com a gente sobre \"Pipelin…'>, <Tweet id=1633967583987638275 text='E começamos às divulgações assim: com uma palestrante maravilhosa!\\n\\nA @nathsouzadev vai falar com a gente sobre \"Pipeline com GitHub Actions\".\\n\\n🗓️ 21/03\\n🕖 19h00\\n📌 FCamara @orangejuicetech \\n\\nPara participar, você deve se inscrever em https://t.co/ufjhKvHMKj https://t.co/hQIy5c9rVO'>, <Tweet id=1633965125559263232 text='RT @MulheresDevs: Está começando a programar? @PyLadiesSP e @programaria costumam oferecer aulas presenciais e gratuitas. Fique de olho no…'>, <Tweet id=1633964840728293377 text='Alô pessoas de Floripa!!\\n\\nPra quem tava na live hoje perguntando, já temos link:\\nhttps://t.co/FTZZUSV8B0'>, <Tweet id=1633942542919114755 text='RT @phpsp: Última chamada para o tremdafelicidade.php!\\n\\nHoje às 7.30 vai rolar o PHPSP + Pub, lá no Mercedito Bar na Vila Mariana.\\n\\nBora to…'>, <Tweet id=1633941601293615107 text='Há exatos 6 anos nossa primeira edição do meetup! Que jornada amigos! E tem mais vindo por aí! https://t.co/ZgC2orNrqI'>, <Tweet id=1633939667874721793 text='RT @MulheresDevs: Está começando a programar? @PyLadiesSP e @programaria costumam oferecer aulas presenciais e gratuitas. Fique de olho no…'>, <Tweet id=1633939489847656448 text='Está começando a programar? @PyLadiesSP e @programaria costumam oferecer aulas presenciais e gratuitas. Fique de olho no MeetUp!'>, <Tweet id=1633935691926343682 text='Última chamada para o tremdafelicidade.php!\\n\\nHoje às 7.30 vai rolar o PHPSP + Pub, lá no Mercedito Bar na Vila Mariana.\\n\\nBora tomar uma, trocar ideia, falar de #php e trocar experiência! 🍻🐘\\n\\nTe vejo lá!\\n\\nhttps://t.co/LBAhHfYtfs'>, <Tweet id=1633934525683073024 text='RT @udesc_esag: O cientista de dados Altamiro F. Júnior fará uma palestra nesta terça, 14, às 17h30, na sala Espine da @udesc_esag , sobre…'>, <Tweet id=1633933532291641346 text='Falta pouco para o primeiro meetup da StarkNet em Portugal 🗓🚀 https://t.co/YjvlbANvtB'>, <Tweet id=1633932963451682818 text='O cientista de dados Altamiro F. Júnior fará uma palestra nesta terça, 14, às 17h30, na sala Espine da @udesc_esag , sobre “Dados: a matéria-prima do futuro”. \\n\\nA palestra terá transmissão ao vivo via Microsoft Teams em https://t.co/vRshXrtgkU. https://t.co/tYfnLMp5Cl'>, <Tweet id=1633915849294639105 text='RT @MDICoficial: 💥 Meetup Empreendedoras Tech. Neste evento vamos destrinchar todos os pontos importantes do edital e também apresentar tod…'>, <Tweet id=1633903100783149072 text='RT @MDICoficial: 💥 Meetup Empreendedoras Tech. Neste evento vamos destrinchar todos os pontos importantes do edital e também apresentar tod…'>, <Tweet id=1633899955025788931 text='@danielhe4rtless Vai pro meetup? Procura o @DanSysAnalyst'>, <Tweet id=1633899250445631513 text='RT @MDICoficial: 💥 Meetup Empreendedoras Tech. Neste evento vamos destrinchar todos os pontos importantes do edital e também apresentar tod…'>, <Tweet id=1633896451200745481 text='💥 Meetup Empreendedoras Tech. Neste evento vamos destrinchar todos os pontos importantes do edital e também apresentar todos os benefícios do programa. Saiba como inscrever sua empresa ou projeto para esta oportunidade. https://t.co/sp2aJDgYna'>, <Tweet id=1633874193006878720 text='RT @marcelgsantos: Hoje é dia de #PHPSP Pub, o evento em que a comunidade #php se encontra para falar sobre tecnologia e outros assuntos e…'>, <Tweet id=1633874131178631169 text='RT @marcelgsantos: Hoje é dia de #PHPSP Pub, o evento em que a comunidade #php se encontra para falar sobre tecnologia e outros assuntos e…'>, <Tweet id=1633867346497478656 text='RT @marcelgsantos: Hoje é dia de #PHPSP Pub, o evento em que a comunidade #php se encontra para falar sobre tecnologia e outros assuntos e…'>, <Tweet id=1633866965663219713 text='Hoje é dia de #PHPSP Pub, o evento em que a comunidade #php se encontra para falar sobre tecnologia e outros assuntos e aproveita para comer e beber algo. Vai ser na Vila Mariana a partir das 19h. Bora lá? Vai ter SORTEIO de camisetas. 🐘 😍\\n\\nhttps://t.co/YskRQHaKs0'>], includes={}, errors=[], meta={'newest_id': '1633977548030738437', 'oldest_id': '1633866965663219713', 'result_count': 23})\n",
      "software libre lang:pt\n",
      "Response(data=[<Tweet id=1633976716371566592 text='RT @Lavits_: Aberto o chamado para atividades da CryptoRave 2023, que acontece nos dias 05 e 06 de maio em SP.\\n\\nPodem ser enviadas proposta…'>, <Tweet id=1633921550192705540 text='RT @Lavits_: Aberto o chamado para atividades da CryptoRave 2023, que acontece nos dias 05 e 06 de maio em SP.\\n\\nPodem ser enviadas proposta…'>, <Tweet id=1633920382192218112 text='Aberto o chamado para atividades da CryptoRave 2023, que acontece nos dias 05 e 06 de maio em SP.\\n\\nPodem ser enviadas propostas de palestras, debates, oficinas, jogos, atividades mão na massa e projetos FLOSS (free/libre/open software/source), apresentações artísticas, etc https://t.co/zQcePznl8T'>], includes={}, errors=[], meta={'newest_id': '1633976716371566592', 'oldest_id': '1633920382192218112', 'result_count': 3})\n",
      "free software lang:pt\n",
      "Response(data=[<Tweet id=1633976716371566592 text='RT @Lavits_: Aberto o chamado para atividades da CryptoRave 2023, que acontece nos dias 05 e 06 de maio em SP.\\n\\nPodem ser enviadas proposta…'>, <Tweet id=1633972887156654081 text='RT @moonthvw: liberar deles, que quer mostrar um novo olhar sem medo sem perder a beleza e a essência original. O que podemos encaixar melh…'>, <Tweet id=1633942349448462343 text='RT @moonthvw: liberar deles, que quer mostrar um novo olhar sem medo sem perder a beleza e a essência original. O que podemos encaixar melh…'>, <Tweet id=1633930394453016577 text='RT @moonthvw: liberar deles, que quer mostrar um novo olhar sem medo sem perder a beleza e a essência original. O que podemos encaixar melh…'>, <Tweet id=1633929602425843713 text='RT @moonthvw: liberar deles, que quer mostrar um novo olhar sem medo sem perder a beleza e a essência original. O que podemos encaixar melh…'>, <Tweet id=1633921550192705540 text='RT @Lavits_: Aberto o chamado para atividades da CryptoRave 2023, que acontece nos dias 05 e 06 de maio em SP.\\n\\nPodem ser enviadas proposta…'>, <Tweet id=1633920382192218112 text='Aberto o chamado para atividades da CryptoRave 2023, que acontece nos dias 05 e 06 de maio em SP.\\n\\nPodem ser enviadas propostas de palestras, debates, oficinas, jogos, atividades mão na massa e projetos FLOSS (free/libre/open software/source), apresentações artísticas, etc https://t.co/zQcePznl8T'>, <Tweet id=1633915476790132738 text='RT @moonthvw: liberar deles, que quer mostrar um novo olhar sem medo sem perder a beleza e a essência original. O que podemos encaixar melh…'>, <Tweet id=1633908054109372422 text='RT @brlinuxblog: Na data de hoje, mas em 2010, publicamos no BR-Linux a dica do leitor sobre a página da Free Software Foundation listando…'>, <Tweet id=1633905085712302081 text='RT @moonthvw: liberar deles, que quer mostrar um novo olhar sem medo sem perder a beleza e a essência original. O que podemos encaixar melh…'>, <Tweet id=1633903870995750912 text='RT @brlinuxblog: Na data de hoje, mas em 2007, publiquei no BR-Linux minha surpresa ao ver que a Free Software Foundation havia escolhido c…'>, <Tweet id=1633903823642083336 text='RT @brlinuxblog: Na data de hoje, mas em 2010, publicamos no BR-Linux a dica do leitor sobre a página da Free Software Foundation listando…'>, <Tweet id=1633900172718555157 text='RT @moonthvw: liberar deles, que quer mostrar um novo olhar sem medo sem perder a beleza e a essência original. O que podemos encaixar melh…'>, <Tweet id=1633897488703733777 text='RT @moonthvw: liberar deles, que quer mostrar um novo olhar sem medo sem perder a beleza e a essência original. O que podemos encaixar melh…'>, <Tweet id=1633876048910905346 text='RT @moonthvw: liberar deles, que quer mostrar um novo olhar sem medo sem perder a beleza e a essência original. O que podemos encaixar melh…'>, <Tweet id=1633871283120111629 text='RT @moonthvw: liberar deles, que quer mostrar um novo olhar sem medo sem perder a beleza e a essência original. O que podemos encaixar melh…'>, <Tweet id=1633868447661584384 text='RT @moonthvw: liberar deles, que quer mostrar um novo olhar sem medo sem perder a beleza e a essência original. O que podemos encaixar melh…'>, <Tweet id=1633867533756375040 text='liberar deles, que quer mostrar um novo olhar sem medo sem perder a beleza e a essência original. O que podemos encaixar melhor ainda com uma das faixas \"Set Me Free Pt.2\" e com o próximo conceito \"software\" que provavelmente mostrará sua parte interna e que talvez ele +'>, <Tweet id=1633856543543181313 text=\"RT @btsbrasil_on: 🗓️ Próximo conteúdo: Foto Conceitual Versão Software — 10 de março, ao meio-dia, 12h15 e 12h30.\\n⚠️ 'Set Me Free pt.2' Lan…\">, <Tweet id=1633856287183351808 text=\"RT @btsbrasil_on: 🗓️ Próximo conteúdo: Foto Conceitual Versão Software — 10 de março, ao meio-dia, 12h15 e 12h30.\\n⚠️ 'Set Me Free pt.2' Lan…\">, <Tweet id=1633854929801453573 text=\"RT @btsbrasil_on: 🗓️ Próximo conteúdo: Foto Conceitual Versão Software — 10 de março, ao meio-dia, 12h15 e 12h30.\\n⚠️ 'Set Me Free pt.2' Lan…\">, <Tweet id=1633854797999636483 text=\"RT @btsbrasil_on: 🗓️ Próximo conteúdo: Foto Conceitual Versão Software — 10 de março, ao meio-dia, 12h15 e 12h30.\\n⚠️ 'Set Me Free pt.2' Lan…\">, <Tweet id=1633853653692940288 text=\"RT @btsbrasil_on: 🗓️ Próximo conteúdo: Foto Conceitual Versão Software — 10 de março, ao meio-dia, 12h15 e 12h30.\\n⚠️ 'Set Me Free pt.2' Lan…\">, <Tweet id=1633853502379229191 text=\"RT @btsbrasil_on: 🗓️ Próximo conteúdo: Foto Conceitual Versão Software — 10 de março, ao meio-dia, 12h15 e 12h30.\\n⚠️ 'Set Me Free pt.2' Lan…\">, <Tweet id=1633853299672662016 text=\"RT @btsbrasil_on: 🗓️ Próximo conteúdo: Foto Conceitual Versão Software — 10 de março, ao meio-dia, 12h15 e 12h30.\\n⚠️ 'Set Me Free pt.2' Lan…\">, <Tweet id=1633853292852772866 text=\"RT @btsbrasil_on: 🗓️ Próximo conteúdo: Foto Conceitual Versão Software — 10 de março, ao meio-dia, 12h15 e 12h30.\\n⚠️ 'Set Me Free pt.2' Lan…\">, <Tweet id=1633853197042188289 text=\"🗓️ Próximo conteúdo: Foto Conceitual Versão Software — 10 de março, ao meio-dia, 12h15 e 12h30.\\n⚠️ 'Set Me Free pt.2' Lançamento — 17 de março, às 1h da madrugada BRT, de quinta para sexta-feira.\">, <Tweet id=1633851889996689408 text='será que set me free é hardware ou software'>], includes={}, errors=[], meta={'newest_id': '1633976716371566592', 'oldest_id': '1633851889996689408', 'result_count': 28})\n",
      "reproducibilidad lang:pt\n"
     ]
    },
    {
     "name": "stdout",
     "output_type": "stream",
     "text": [
      "Response(data=None, includes={}, errors=[], meta={'result_count': 0})\n",
      "reproducibility lang:pt\n",
      "Response(data=None, includes={}, errors=[], meta={'result_count': 0})\n",
      "Women in Bioinformatics Data Science LA lang:pt\n",
      "Response(data=None, includes={}, errors=[], meta={'result_count': 0})\n",
      "WBDSLA lang:pt\n",
      "Response(data=None, includes={}, errors=[], meta={'result_count': 0})\n",
      "WBDS LA lang:pt\n",
      "Response(data=None, includes={}, errors=[], meta={'result_count': 0})\n",
      "FLISOL lang:pt\n",
      "Response(data=None, includes={}, errors=[], meta={'result_count': 0})\n",
      "SoftwareLibre lang:pt\n",
      "Response(data=None, includes={}, errors=[], meta={'result_count': 0})\n",
      "ComunidadTecnológica lang:pt\n",
      "Response(data=None, includes={}, errors=[], meta={'result_count': 0})\n",
      "Comunidad Tecnológica lang:pt\n",
      "Response(data=None, includes={}, errors=[], meta={'result_count': 0})\n",
      "Software grátis lang:pt\n",
      "Response(data=[<Tweet id=1633958442925969415 text='Seja um dos primeiros a conhecer as novidades do mercado brasileiro de software em 2023! Inscreva-se já!  #software\\n\\n✳ 15/03, às 8h30\\n \\nhttps://t.co/ORW12W7EQh\\n\\n#gratis https://t.co/mb0q3A2vY0'>], includes={}, errors=[], meta={'newest_id': '1633958442925969415', 'oldest_id': '1633958442925969415', 'result_count': 1})\n",
      "Comunidade Tecnológica lang:pt\n",
      "Response(data=None, includes={}, errors=[], meta={'result_count': 0})\n",
      "ComunidadeTecnológica lang:pt\n",
      "Response(data=None, includes={}, errors=[], meta={'result_count': 0})\n",
      "Softwaregrátis lang:pt\n",
      "Response(data=None, includes={}, errors=[], meta={'result_count': 0})\n"
     ]
    }
   ],
   "source": [
    "from datetime import date\n",
    "\n",
    "today = date.today()\n",
    "str(today)\n",
    "\n",
    "\n",
    "for palabra_de_busqueda in lista_de_palabras:\n",
    "\n",
    "    query = palabra_de_busqueda+' lang:pt'\n",
    "    print(query)\n",
    "    t = ['public_metrics','attachments','author_id','context_annotations','conversation_id','created_at','edit_controls','edit_history_tweet_ids','entities','geo','id','in_reply_to_user_id','lang','possibly_sensitive','referenced_tweets','reply_settings','source','text','withheld']\n",
    "    tweets = client.search_recent_tweets(query=query, tweet_fields=t, end_time='2023-03-10T00:00:00Z' ,max_results=100)\n",
    "    #tweets = client.search_recent_tweets(query=query, tweet_fields=t,max_results=100)\n",
    "    print(tweets)\n",
    "    df = pd.DataFrame()\n",
    "    if tweets.data is not None:\n",
    "        for tweet in tweets.data:\n",
    "            if len(tweet.text) > 0:\n",
    "                cols = ['created_at','id','text','context_annotations','edit_history_tweet_ids','retweet_count','reply_count','quote_counts','impression_count','entities','conversation_id', 'author_id','possibly_sensitive','lang','referenced_tweets','edit_controls', 'reply_settings', 'in_reply_to_user_id']\n",
    "                l = [tweet.created_at, tweet.id, tweet.text, tweet.context_annotations, tweet.edit_history_tweet_ids[0], tweet['public_metrics']['retweet_count'],tweet['public_metrics']['reply_count'],tweet['public_metrics']['quote_count'],tweet['public_metrics']['impression_count'], tweet.entities, tweet.conversation_id, tweet.author_id,tweet.possibly_sensitive,tweet.lang,tweet.referenced_tweets, tweet.edit_controls, tweet.reply_settings, [tweet['in_reply_to_user_id'] if tweet['in_reply_to_user_id'] is not None else 0]]\n",
    "                df_aux = pd.DataFrame(l).T\n",
    "                df_aux.columns=cols\n",
    "                df = pd.concat([df_aux,df])\n",
    "\n",
    "                df['palabra_de_busqueda'] = palabra_de_busqueda\n",
    "\n",
    "                df\n",
    "\n",
    "                df.to_csv('/home/okus/Desktop/csvconf/'+str(today)+'_'+palabra_de_busqueda+'_endtiend_time=2023-03-10T00:00:00Z_pt.csv')\n",
    "                #df.to_csv('/home/okus/Desktop/csvconf/'+str(today)+'_'+palabra_de_busqueda+'_pt.csv')"
   ]
  },
  {
   "cell_type": "code",
   "execution_count": 3,
   "id": "fd9805f3",
   "metadata": {},
   "outputs": [
    {
     "data": {
      "text/plain": [
       "['/home/okus/Desktop/csvconf/2023-03-04_scipy LA_endtiend_time=2023-02-26T00:00:00Z_es.csv',\n",
       " '/home/okus/Desktop/csvconf/2023-03-04_free software_endtiend_time=2023-02-26T00:00:00Z_es.csv',\n",
       " '/home/okus/Desktop/csvconf/2023-03-04_WBDS LA_endtiend_time=2023-02-26T00:00:00Z_es.csv',\n",
       " '/home/okus/Desktop/csvconf/2023-03-04_reproducibilidad_endtiend_time=2023-02-26T00:00:00Z_es.csv',\n",
       " '/home/okus/Desktop/csvconf/2023-03-04_Comunidade Tecnológica_endtiend_time=2023-02-26T00:00:00Z_pt.csv',\n",
       " '/home/okus/Desktop/csvconf/2023-03-04_SoftwareLibre_endtiend_time=2023-02-26T00:00:00Z_pt.csv',\n",
       " '/home/okus/Desktop/csvconf/2023-03-04_SoftwareLibre_endtiend_time=2023-02-26T00:00:00Z_es.csv',\n",
       " '/home/okus/Desktop/csvconf/2023-03-04_ComunidadTecnológica_endtiend_time=2023-02-26T00:00:00Z_es.csv',\n",
       " '/home/okus/Desktop/csvconf/2023-03-04_WBDSLA_endtiend_time=2023-02-26T00:00:00Z_es.csv',\n",
       " '/home/okus/Desktop/csvconf/2023-03-04_Software grátis_endtiend_time=2023-02-26T00:00:00Z_pt.csv',\n",
       " '/home/okus/Desktop/csvconf/2023-03-04_meetup_endtiend_time=2023-02-26T00:00:00Z_pt.csv',\n",
       " '/home/okus/Desktop/csvconf/2023-03-04_reproducibility_endtiend_time=2023-02-26T00:00:00Z_es.csv',\n",
       " '/home/okus/Desktop/csvconf/2023-03-04_FLISOL_endtiend_time=2023-02-26T00:00:00Z_es.csv',\n",
       " '/home/okus/Desktop/csvconf/2023-03-04_meetup_endtiend_time=2023-02-26T00:00:00Z_es.csv',\n",
       " '/home/okus/Desktop/csvconf/2023-03-04_free software_endtiend_time=2023-02-26T00:00:00Z_pt.csv',\n",
       " '/home/okus/Desktop/csvconf/2023-03-04_software libre_endtiend_time=2023-02-26T00:00:00Z_es.csv']"
      ]
     },
     "execution_count": 3,
     "metadata": {},
     "output_type": "execute_result"
    }
   ],
   "source": [
    "import glob\n",
    "\n",
    "csv_lists = glob.glob('/home/okus/Desktop/csvconf/*.csv')\n",
    "\n",
    "csv_lists"
   ]
  },
  {
   "cell_type": "code",
   "execution_count": 19,
   "id": "9bc7fe18-4b9d-470e-9ae5-7db9c7b5b6ff",
   "metadata": {
    "tags": []
   },
   "outputs": [
    {
     "name": "stdout",
     "output_type": "stream",
     "text": [
      "(6444, 24)\n",
      "(6444, 24)\n"
     ]
    }
   ],
   "source": [
    "import glob\n",
    "import pandas as pd\n",
    "\n",
    "csv_lists = glob.glob('/home/okus/Desktop/csvconf/*.csv')\n",
    "\n",
    "df = pd.DataFrame()\n",
    "\n",
    "for i in csv_lists:\n",
    "    df_aux = pd.read_csv(i)\n",
    "    df = pd.concat([df_aux, df])\n",
    "    \n",
    "df.id.unique().shape\n",
    "print(df.shape)\n",
    "df = df.drop_duplicates()\n",
    "print(df.shape)"
   ]
  },
  {
   "cell_type": "code",
   "execution_count": 6,
   "id": "e93bb55e-3947-48f3-bc83-56254ca8ddfd",
   "metadata": {
    "tags": []
   },
   "outputs": [],
   "source": [
    "df.to_csv('/home/okus/Desktop/csvconf/all.csv')"
   ]
  },
  {
   "cell_type": "code",
   "execution_count": 24,
   "id": "4019cb5e-157f-4067-b85b-776e5e0940c7",
   "metadata": {
    "tags": []
   },
   "outputs": [
    {
     "data": {
      "text/plain": [
       "(485, 20)"
      ]
     },
     "execution_count": 24,
     "metadata": {},
     "output_type": "execute_result"
    }
   ],
   "source": [
    "df.shape"
   ]
  },
  {
   "cell_type": "code",
   "execution_count": 25,
   "id": "d454e433-77da-4aed-83cd-b2b3a2f372f0",
   "metadata": {
    "tags": []
   },
   "outputs": [
    {
     "data": {
      "text/plain": [
       "(485, 20)"
      ]
     },
     "execution_count": 25,
     "metadata": {},
     "output_type": "execute_result"
    }
   ],
   "source": [
    "df.drop_duplicates().shape"
   ]
  },
  {
   "cell_type": "code",
   "execution_count": 27,
   "id": "7ff06c9f-8475-4832-8afe-2095efe42c09",
   "metadata": {},
   "outputs": [
    {
     "data": {
      "text/plain": [
       "array(['software libre', 'meetup', 'SoftwareLibre', 'WBDS LA', 'FLISOL',\n",
       "       'reproducibilidad', 'WBDSLA', 'reproducibility', 'free software',\n",
       "       'ComunidadTecnológica'], dtype=object)"
      ]
     },
     "execution_count": 27,
     "metadata": {},
     "output_type": "execute_result"
    }
   ],
   "source": [
    "df.palabra_de_busqueda.unique()"
   ]
  },
  {
   "cell_type": "code",
   "execution_count": 34,
   "id": "805403fe-797d-4f71-a4a4-96e802cad69c",
   "metadata": {
    "tags": []
   },
   "outputs": [
    {
     "data": {
      "text/plain": [
       "'RT @lubrio: Ajá, pero yo pregunto: si mañana pago la licencia de Synthesia ($30), o consigo un software libre que haga lo mismo, y empiezo…'"
      ]
     },
     "execution_count": 34,
     "metadata": {},
     "output_type": "execute_result"
    }
   ],
   "source": [
    "df.iloc[4].text"
   ]
  },
  {
   "cell_type": "code",
   "execution_count": 36,
   "id": "958c89a1-5a0b-4474-8fcb-440071c9aaf2",
   "metadata": {
    "tags": []
   },
   "outputs": [
    {
     "data": {
      "text/plain": [
       "array(['RT @exelearning_sp: Proyecto EDIA. Guía de Software Libre en educación. https://t.co/zH6rodlTMz #proyectoEDIA #REA #SoftwareLibre https://t…',\n",
       "       'RT @exelearning_sp: Proyecto EDIA. Guía de Software Libre en educación. https://t.co/zH6rodlTMz #proyectoEDIA #REA #SoftwareLibre https://t…',\n",
       "       'RT @lubrio: Ajá, pero yo pregunto: si mañana pago la licencia de Synthesia ($30), o consigo un software libre que haga lo mismo, y empiezo…',\n",
       "       'RT @lubrio: Ajá, pero yo pregunto: si mañana pago la licencia de Synthesia ($30), o consigo un software libre que haga lo mismo, y empiezo…',\n",
       "       'RT @lubrio: Ajá, pero yo pregunto: si mañana pago la licencia de Synthesia ($30), o consigo un software libre que haga lo mismo, y empiezo…',\n",
       "       'RT @IGeografiaUNAM: #FórumIGeografíaUNAM\\n\\n💬 Charlas académicas del primer semestre presenta: \"Métodos de representación cartográfica con so…',\n",
       "       'RT @IGeografiaUNAM: #FórumIGeografíaUNAM\\n\\n💬 Charlas académicas del primer semestre presenta: \"Métodos de representación cartográfica con so…',\n",
       "       'RT @loxalibre: Únete a la comunidad de software libre de Loja, participa del #Flisol 2023\\n\\nPostula tu charla, taller, panel, demo o muestra…',\n",
       "       'RT @IGeografiaUNAM: #FórumIGeografíaUNAM\\n\\n💬 Charlas académicas del primer semestre presenta: \"Métodos de representación cartográfica con so…',\n",
       "       '@sabuesognu A ver....ni por un millón de euros, venderiamos Ubuntu. \\nA parte de que la licencia no lo permite, por convicción moral y respeto al software libre.\\n\\nWe ❤ 🐧',\n",
       "       'RT @exelearning_sp: Proyecto EDIA. Guía de Software Libre en educación. https://t.co/zH6rodlTMz #proyectoEDIA #REA #SoftwareLibre https://t…',\n",
       "       'Nunca he sido fan de nada de USA, pero el Servicio geológico de los estados unidos (USGS) es una fuente inacabable de buenos estudios, mapas, datos, métodos y software, muchos de ellos de uso libre!!😍😍😍 #USGSFan',\n",
       "       'RT @exelearning_sp: Proyecto EDIA. Guía de Software Libre en educación. https://t.co/zH6rodlTMz #proyectoEDIA #REA #SoftwareLibre https://t…',\n",
       "       'RT @IMTA_mx: 🔹¿Conoces el software QGIS? Aprende a aplicarlo en el sector hídrico para manejar y procesar datos geográficos.💧\\n\\nAsiste al cu…',\n",
       "       'RT @exelearning_sp: Proyecto EDIA. Guía de Software Libre en educación. https://t.co/zH6rodlTMz #proyectoEDIA #REA #SoftwareLibre https://t…',\n",
       "       'RT @_TribunaPopular: #Tecnologías\\nDebatirán sobre el papel de la prensa obrera en la era digital\\n\\nHistoria del software libre | por @lubrio…',\n",
       "       'RT @exelearning_sp: Proyecto EDIA. Guía de Software Libre en educación. https://t.co/zH6rodlTMz #proyectoEDIA #REA #SoftwareLibre https://t…',\n",
       "       'RT @lubrio: Ajá, pero yo pregunto: si mañana pago la licencia de Synthesia ($30), o consigo un software libre que haga lo mismo, y empiezo…',\n",
       "       'RT @CelulaABF_PCV: 📰 ¡Ya está disponible #TribunaPopular 3035!\\n\\n#Tecnologías\\nDebatirán sobre el papel de la prensa obrera en la era digital…',\n",
       "       'RT @IsaRpoC1: Nunca he sido fan de nada de USA, pero el Servicio geológico de los estados unidos (USGS) es una fuente inacabable de buenos…',\n",
       "       'RT @exelearning_sp: Proyecto EDIA. Guía de Software Libre en educación. https://t.co/zH6rodlTMz #proyectoEDIA #REA #SoftwareLibre https://t…',\n",
       "       'RT @soldanisman: La diferencia entre tener y no tener una computadora es brutal. Y en nuestro país hay mucha gente que no tiene. En #cyberc…',\n",
       "       'RT @soldanisman: La diferencia entre tener y no tener una computadora es brutal. Y en nuestro país hay mucha gente que no tiene. En #cyberc…',\n",
       "       'RT @lubrio: Ajá, pero yo pregunto: si mañana pago la licencia de Synthesia ($30), o consigo un software libre que haga lo mismo, y empiezo…',\n",
       "       'RT @_TribunaPopular: #Tecnologías\\nDebatirán sobre el papel de la prensa obrera en la era digital\\n\\nHistoria del software libre | por @lubrio…',\n",
       "       '@RonaldCrossPeru @elonmusk Yo soy más del software libre.',\n",
       "       'RT @lubrio: Ajá, pero yo pregunto: si mañana pago la licencia de Synthesia ($30), o consigo un software libre que haga lo mismo, y empiezo…',\n",
       "       'RT @_TribunaPopular: #Tecnologías\\nDebatirán sobre el papel de la prensa obrera en la era digital\\n\\nHistoria del software libre | por @lubrio…',\n",
       "       'RT @lubrio: Ajá, pero yo pregunto: si mañana pago la licencia de Synthesia ($30), o consigo un software libre que haga lo mismo, y empiezo…',\n",
       "       'RT @lubrio: Ajá, pero yo pregunto: si mañana pago la licencia de Synthesia ($30), o consigo un software libre que haga lo mismo, y empiezo…',\n",
       "       'RT @_TribunaPopular: #Tecnologías\\nDebatirán sobre el papel de la prensa obrera en la era digital\\n\\nHistoria del software libre | por @lubrio…',\n",
       "       'Visionarios que comparten amablemente y sin muros el conocimiento a la comunidad de la que formaban parte, como lo es pa comunidad del software libre',\n",
       "       'existentes de software libre se plantea un crimen de Estado. El feminicidio se acopla con las mujeres, así como lo inesencial que no se puede que logre asumir sus deseos, pero no se sitúan auténticamente como Sujeto. Los proletarios han visto transformadas, Puesto que hoy',\n",
       "       'RT @IsaRpoC1: Nunca he sido fan de nada de USA, pero el Servicio geológico de los estados unidos (USGS) es una fuente inacabable de buenos…',\n",
       "       'RT @lubrio: Ajá, pero yo pregunto: si mañana pago la licencia de Synthesia ($30), o consigo un software libre que haga lo mismo, y empiezo…',\n",
       "       'Vandalizar la wikipedia es como tratar de complicar el desarrollo de software libre, me voy a las piñas con el que corresponda',\n",
       "       'Tecnología: Análisis del desarrollo del software\\xa0libre https://t.co/WLS0XicI2p',\n",
       "       '@MichelCaballero Sabes que manejan millones de bots, están asesorados por todos esos hippies nórdicos y sus ideas de software libre; has algo\\nVistes la gente en la playa? Ve y haz una encuesta de lo que opinan del psuv\\nEl venezolano no lo ha detenido ninguna crisis para salir a disfrutar',\n",
       "       '@valeriairene5 ni excusa tienen ahora, un caso por ejemplo es que han empezado a usar software libre para no pagar licencias xd',\n",
       "       'RT @IGeografiaUNAM: #FórumIGeografíaUNAM\\n\\n💬 Charlas académicas del primer semestre presenta: \"Métodos de representación cartográfica con so…',\n",
       "       'RT @exelearning_sp: Proyecto EDIA. Guía de Software Libre en educación. https://t.co/zH6rodlTMz #proyectoEDIA #REA #SoftwareLibre https://t…',\n",
       "       'RT @loxalibre: Únete a la comunidad de software libre de Loja, participa del #Flisol 2023\\n\\nPostula tu charla, taller, panel, demo o muestra…',\n",
       "       'Software libre para calcular con los Eurocódigos https://t.co/0ohX6dGNOZ',\n",
       "       'RT @IGeografiaUNAM: #FórumIGeografíaUNAM\\n\\n💬 Charlas académicas del primer semestre presenta: \"Métodos de representación cartográfica con so…',\n",
       "       '@sabuesognu @leohadouken Lo único que no se puede hacer es modificar el código de lo que se entrega (algunas tools o el instalador) y no proveer el código fuente modificado.\\nEl Software es libre, no sin fines de lucro. 🙂',\n",
       "       '#EstructurasMetalicas : Desarrollo de Productos y creación de imágenes fotorrealistas, con Software Libre y gratuito\\n🎯 Artículo Blog \\nhttps://t.co/7jvIvwljYc\\n\\n#Benifaió #Almussafes #Alginet #Algemesi #LaRibera #Valencia https://t.co/F1vRH7xATF',\n",
       "       '@macjosan Hay licencias de software libre y luego están las demás https://t.co/FmJYch5Yu7',\n",
       "       'RT @Estructurando: Software libre para calcular con los Eurocódigos https://t.co/0ohX6dGNOZ',\n",
       "       'use libre software fellas',\n",
       "       '¿Por casualidad alguien por aquí conoce un software libre o de pago para crear catálogos de productos de forma sencilla y rápida? 🤔',\n",
       "       'readme.txt del software pirata hace 15 años: muerte a las corporaciones, viva el libre acceso a la información, etc.\\n\\nreadme.txt del software pirata hoy: odio a la peña trans y a los maricas https://t.co/lz5JjuC6vo',\n",
       "       'RT @soldanisman: La diferencia entre tener y no tener una computadora es brutal. Y en nuestro país hay mucha gente que no tiene. En #cyberc…',\n",
       "       'RT @ivoriginal: readme.txt del software pirata hace 15 años: muerte a las corporaciones, viva el libre acceso a la información, etc.\\n\\nreadm…',\n",
       "       'RT @CanaimaGNULinux: #SabiasQue\\n\\nUn día como hoy Netscape anuncia el proyecto https://t.co/J23h1oVbvJ\\n\\nTras la derrota en la \"guerra de los…',\n",
       "       'RT @ivoriginal: readme.txt del software pirata hace 15 años: muerte a las corporaciones, viva el libre acceso a la información, etc.\\n\\nreadm…',\n",
       "       'RT @CanaimaGNULinux: #SabiasQue\\n\\nUn día como hoy Netscape anuncia el proyecto https://t.co/J23h1oVbvJ\\n\\nTras la derrota en la \"guerra de los…',\n",
       "       'RT @CanaimaGNULinux: #SabiasQue\\n\\nUn día como hoy Netscape anuncia el proyecto https://t.co/J23h1oVbvJ\\n\\nTras la derrota en la \"guerra de los…',\n",
       "       'Sabías que #Linux y #GNU son dos proyectos de software libre y de código abierto que se utilizan juntos para crear un sistema operativo completo y funcional. Linux es el kernel, mientras que GNU proporciona las herramientas y aplicaciones necesarias. #DavidPixeles https://t.co/n4nIy2Sk2S',\n",
       "       'RT @lubrio: Ajá, pero yo pregunto: si mañana pago la licencia de Synthesia ($30), o consigo un software libre que haga lo mismo, y empiezo…',\n",
       "       '📢 POR AMOR AL AUDACITY Y AL SOFTWARE LIBRE 🖤🖤🖤🖤🔥🔥🔥❤️❤️❤️🤖🤖🤖\\nOjo a este taller tan chulo que montan las amigas de @LaLaberinta + @xrcbcn https://t.co/AZe7CEHIoE',\n",
       "       'RT @willysrivers: Sabías que el Software Libre está protegido por las normas de Derecho de Autor y que no es en estricto sentido un softwar…',\n",
       "       'RT @EfrainFoglia: 📢 POR AMOR AL AUDACITY Y AL SOFTWARE LIBRE 🖤🖤🖤🖤🔥🔥🔥❤️❤️❤️🤖🤖🤖\\nOjo a este taller tan chulo que montan las amigas de @LaLaber…',\n",
       "       'RT @EfrainFoglia: 📢 POR AMOR AL AUDACITY Y AL SOFTWARE LIBRE 🖤🖤🖤🖤🔥🔥🔥❤️❤️❤️🤖🤖🤖\\nOjo a este taller tan chulo que montan las amigas de @LaLaber…',\n",
       "       'RT @IMTA_mx: 🔹¿Conoces el software QGIS? Aprende a aplicarlo en el sector hídrico para manejar y procesar datos geográficos.💧\\n\\nAsiste al cu…',\n",
       "       'RT @CanaimaGNULinux: #SabiasQue\\n\\nUn día como hoy Netscape anuncia el proyecto https://t.co/J23h1oVbvJ\\n\\nTras la derrota en la \"guerra de los…',\n",
       "       'RT @CanaimaGNULinux: #SabiasQue\\n\\nUn día como hoy Netscape anuncia el proyecto https://t.co/J23h1oVbvJ\\n\\nTras la derrota en la \"guerra de los…',\n",
       "       'RT @CanaimaGNULinux: #SabiasQue\\n\\nUn día como hoy Netscape anuncia el proyecto https://t.co/J23h1oVbvJ\\n\\nTras la derrota en la \"guerra de los…',\n",
       "       'RT @CanaimaGNULinux: #SabiasQue\\n\\nUn día como hoy Netscape anuncia el proyecto https://t.co/J23h1oVbvJ\\n\\nTras la derrota en la \"guerra de los…',\n",
       "       '¡El último Docentes TICs y Software libre! https://t.co/R3HdLkwlYW Gracias a @todofp @starpy @JosemidCastillo #noticias #ubuntu',\n",
       "       'RT @EfrainFoglia: 📢 POR AMOR AL AUDACITY Y AL SOFTWARE LIBRE 🖤🖤🖤🖤🔥🔥🔥❤️❤️❤️🤖🤖🤖\\nOjo a este taller tan chulo que montan las amigas de @LaLaber…',\n",
       "       'RT @EfrainFoglia: 📢 POR AMOR AL AUDACITY Y AL SOFTWARE LIBRE 🖤🖤🖤🖤🔥🔥🔥❤️❤️❤️🤖🤖🤖\\nOjo a este taller tan chulo que montan las amigas de @LaLaber…',\n",
       "       '🛑¿Te gusta el Software Libre y la cultura libre? \\n📣¿Quieres ser parte de un evento que promueve la educación, la colaboración y la libertad?\\n\\n❗️❗️Únete a la organización del FLISOL y ayuda a hacer de este evento el mejor de todos 🔸Link abajo👇\\n\\n#FLISoL  #tech  #SoftwareLibre https://t.co/WssAK43Oat',\n",
       "       'RT @_TribunaPopular: #Tecnologías\\nDebatirán sobre el papel de la prensa obrera en la era digital\\n\\nHistoria del software libre | por @lubrio…',\n",
       "       'RT @Flisol_Loja: 🛑¿Te gusta el Software Libre y la cultura libre? \\n📣¿Quieres ser parte de un evento que promueve la educación, la colaborac…',\n",
       "       'RT @EfrainFoglia: 📢 POR AMOR AL AUDACITY Y AL SOFTWARE LIBRE 🖤🖤🖤🖤🔥🔥🔥❤️❤️❤️🤖🤖🤖\\nOjo a este taller tan chulo que montan las amigas de @LaLaber…',\n",
       "       'Tipos de licencias de software: Todo lo que tienes que saber https://t.co/EU9jZL9BCh',\n",
       "       'RT @Estructurando: Software libre para calcular con los Eurocódigos https://t.co/0ohX6dGNOZ',\n",
       "       '¡Hey coder! 🙋🏻 🙋🏻\\u200d♂️. ¿Sabías que Richard Stallman fundó la Free Software Foundation? Su visión de un mundo con software libre y gratuito es hoy más relevante que nunca 🙌🏼\\n\\nComparte tu opinión sobre Richard Stallman en los comentarios 👩🏻\\u200d💻👨🏻\\u200d💻\\n.\\n#mitocode #programacion #programador #tec https://t.co/FGyh7DVzuk',\n",
       "       'RT @CanaimaGNULinux: #SabiasQue\\n\\nUn día como hoy Netscape anuncia el proyecto https://t.co/J23h1oVbvJ\\n\\nTras la derrota en la \"guerra de los…',\n",
       "       'RT @MappingGIS: 🎓Máster SIG Online con software libre.\\n⏰540 horas \\nIncluye la realización de seis cursos:\\n⭐️QGIS.\\n⭐️QGIS avanzado.\\n⭐️PyQGIS…',\n",
       "       'RT @soldanisman: La diferencia entre tener y no tener una computadora es brutal. Y en nuestro país hay mucha gente que no tiene. En #cyberc…',\n",
       "       'RT @Flisol_Loja: 🛑¿Te gusta el Software Libre y la cultura libre? \\n📣¿Quieres ser parte de un evento que promueve la educación, la colaborac…',\n",
       "       'RT @Flisol_Loja: 🛑¿Te gusta el Software Libre y la cultura libre? \\n📣¿Quieres ser parte de un evento que promueve la educación, la colaborac…',\n",
       "       'RT @Flisol_Loja: 🛑¿Te gusta el Software Libre y la cultura libre? \\n📣¿Quieres ser parte de un evento que promueve la educación, la colaborac…',\n",
       "       'RT @EfrainFoglia: 📢 POR AMOR AL AUDACITY Y AL SOFTWARE LIBRE 🖤🖤🖤🖤🔥🔥🔥❤️❤️❤️🤖🤖🤖\\nOjo a este taller tan chulo que montan las amigas de @LaLaber…',\n",
       "       'RT @exelearning_sp: Proyecto EDIA. Guía de Software Libre en educación. https://t.co/zH6rodlTMz #proyectoEDIA #REA #SoftwareLibre https://t…',\n",
       "       'RT @ivoriginal: readme.txt del software pirata hace 15 años: muerte a las corporaciones, viva el libre acceso a la información, etc.\\n\\nreadm…',\n",
       "       'RT @loxalibre: Únete a la comunidad de software libre de Loja, participa del #Flisol 2023\\n\\nPostula tu charla, taller, panel, demo o muestra…',\n",
       "       'RT @loxalibre: Únete a la comunidad de software libre de Loja, participa del #Flisol 2023\\n\\nPostula tu charla, taller, panel, demo o muestra…',\n",
       "       'RT @MappingGIS: 🎓Máster SIG Online con software libre.\\n⏰540 horas \\nIncluye la realización de seis cursos:\\n⭐️QGIS.\\n⭐️QGIS avanzado.\\n⭐️PyQGIS…',\n",
       "       'RT @CNTI_VE: 🥳 ¡Gran día para la comunidad de Software Libre!\\n\\nHoy se lanza el sistema operativo venezolano Canaima GNU Linux @CanaimaGNULi…',\n",
       "       'RT @CanaimaGNULinux: #SabiasQue\\n\\nUn día como hoy Netscape anuncia el proyecto https://t.co/J23h1oVbvJ\\n\\nTras la derrota en la \"guerra de los…',\n",
       "       'RT @IGeografiaUNAM: #FórumIGeografíaUNAM\\n\\n💬 Charlas académicas del primer semestre presenta: \"Métodos de representación cartográfica con so…',\n",
       "       'Extracto de \"Piensa Abierto, una historia del software libre y el código abierto. Más información en https://t.co/DaJXfce42R #Linux #Historia Disponible en Amazon, ebook y formato físicos',\n",
       "       'RT @_TribunaPopular: #Tecnologías\\nDebatirán sobre el papel de la prensa obrera en la era digital\\n\\nHistoria del software libre | por @lubrio…',\n",
       "       'RT @lubrio: Ajá, pero yo pregunto: si mañana pago la licencia de Synthesia ($30), o consigo un software libre que haga lo mismo, y empiezo…',\n",
       "       'RT @_TribunaPopular: #Tecnologías\\nDebatirán sobre el papel de la prensa obrera en la era digital\\n\\nHistoria del software libre | por @lubrio…',\n",
       "       'RT @lubrio: Ajá, pero yo pregunto: si mañana pago la licencia de Synthesia ($30), o consigo un software libre que haga lo mismo, y empiezo…',\n",
       "       'RT @Flisol_Loja: 🛑¿Te gusta el Software Libre y la cultura libre? \\n📣¿Quieres ser parte de un evento que promueve la educación, la colaborac…',\n",
       "       'RT @pybaq: Ayer estuvimos haciendo pruebas de la cámara y micrófonos en el teatrino de @koombea \\nTe esperamos el próximo jueves 2 de marzo…',\n",
       "       '🙋🏽\\u200d♀️¿Estás embarazada y tienes dudas sobre tu salud y enfermedades como el #VIH y el #Sida?\\nEl @Edomex, a través de la @SaludEdomex y el #ISEM, te invita a participar en la plática: \"Mitos y realidades del VIH/SIDA en el embarazo\".\\n📲 Ingresa a: https://t.co/OpvdUyKvjt https://t.co/UjL5Xyd9zm',\n",
       "       'En tan solo una hora arrancará el meetup de la comunidad española en Madrid 🇪🇸\\n\\n¿Quieres asistir? ¡Toda la info aquí abajo?👇 https://t.co/CNzV3vQNoL',\n",
       "       'RT @PolkadotEspanol: En tan solo una hora arrancará el meetup de la comunidad española en Madrid 🇪🇸\\n\\n¿Quieres asistir? ¡Toda la info aquí a…',\n",
       "       'RT @SDEC_CAUCA: En el marco del Acuerdo Territorial para la Promoción del Empleo 2020 - 2023, te invitamos a participar de la charla virtua…',\n",
       "       'RT @SaludEdomex: 🙋🏽\\u200d♀️¿Estás embarazada y tienes dudas sobre tu salud y enfermedades como el #VIH y el #Sida?\\nEl @Edomex, a través de la @S…',\n",
       "       '@betocabrerau @DoctorBatalla @julcostaduran10 @valenciajc @Unimagdalena @UExternado @DefensoriaCol @SoyDefensor_ Imperdible nuestra Barra Académica Internacional. Les esperamos. Únase con este enlace:\\nhttps://t.co/x0sS5ysSk2',\n",
       "       '@Ruben_torresn @DoctorBatalla @julcostaduran10 @valenciajc @Unimagdalena @UExternado @DefensoriaCol @SoyDefensor_ Imperdible nuestra Barra Académica Internacional. Les esperamos. Únase con este enlace:\\nhttps://t.co/x0sS5ysSk2',\n",
       "       '@istoanna Creo que hay grupos de discusión virtuales en https://t.co/UwPSUCGyL2. \\nTambién estoy buscando un grupo de chat en español.',\n",
       "       'Te invitamos a la plática denominada “Materiales que integran aditamentos de apoyo para el voto de las personas con discapacidad”.\\n\\nEl 2 de marzo del año en curso, a las 11:00 hrs y podrás seguirla través del siguiente enlace:  \\n \\nhttps://t.co/6BF9kL7E6P https://t.co/AgWjt9zW0O',\n",
       "       'RT @angular_meetup: 🤔 ¿Tienes dificultades para utilizar @tailwindcss con @angular? \\n\\n¡No te preocupes más! Únete el próximo 14 de marzo y…',\n",
       "       'RT @bravent: [Acompáñanos al #GlobalPowerPlatformBootcamp Mallorca 🌍 📊] Hoy estaremos en el Parc Bit de #Mallorca desde las 16:30 hasta las…',\n",
       "       'Ya por aquí nos encontramos esperandolos 👀\\n\\n¿Están preparados para el primer meetup de #Polkadot en España de este 2023? 🇪🇸 https://t.co/26ddgrw0uD',\n",
       "       'RT @PolkadotEspanol: Ya por aquí nos encontramos esperandolos 👀\\n\\n¿Están preparados para el primer meetup de #Polkadot en España de este 202…',\n",
       "       'RT @criskrus995: Hola! Les dejo por aquí todo lo relacionado con la sesión de Docker que facilité el pasado jueves en el Meetup dee desarro…',\n",
       "       'RT @PolkadotEspanol: Ya por aquí nos encontramos esperandolos 👀\\n\\n¿Están preparados para el primer meetup de #Polkadot en España de este 202…',\n",
       "       '#HOY 📚📖➡El Sistema de Información Bibliográfico, los invita a participar de Mecánica Cuéntica \"Ajedrez\" (Poema) Jorge Luis Borges.\\n\\nHora: 4:00 p.m.\\nEnlace: https://t.co/eJS0eTPmgI\\n\\n#SIBNacional https://t.co/rw3j9d16um',\n",
       "       'RT @SDEC_CAUCA: En el marco del Acuerdo Territorial para la Promoción del Empleo 2020 - 2023, te invitamos a participar de la charla virtua…',\n",
       "       'Participe del evento \"Factura Electrónica: cambios recientes\"\\n\\nFecha: jueves 02 de marzo\\nHora: 10:00 am (CR)\\n\\nEnlace de ingreso: https://t.co/JlqYVmTbCR https://t.co/tfS0NevRen',\n",
       "       'RT @SaludEdomex: 🙋🏽\\u200d♀️¿Estás embarazada y tienes dudas sobre tu salud y enfermedades como el #VIH y el #Sida?\\nEl @Edomex, a través de la @S…',\n",
       "       'RT @UniLibertadores: Conoce todo lo que debes saber la #ReformaTributaria2022.\\n\\nConéctate aquí ➡️ https://t.co/GqGVIMrsmY https://t.co/QOyL…',\n",
       "       'RT @FlutterBSAS: Falta una semana para nuestra primera #FlutterMeetup 🙌\\n\\n📅 2 de marzo de 2023\\n⏰ 6:30 pm (hora de Argentina - GMT-3)\\n🎤 Event…',\n",
       "       'RT @javamexico: Nuestros amigos de @encorajobs nos confirman que nos van a poner las pizzas después del meetup del lunes 🍕🍕🍕🥳\\n\\n¿Ya se inscr…',\n",
       "       '@pybaq @koombea No me deja inscribirme por meetup. Tienen algún otro enlace?',\n",
       "       'RT @angular_meetup: 🤔 ¿Tienes dificultades para utilizar @tailwindcss con @angular? \\n\\n¡No te preocupes más! Únete el próximo 14 de marzo y…',\n",
       "       'El próximo jueves vuelven las #AdminBirras en CABA! 🍻 Antes de que ChatGPT tome el control de la sociedad, pasá a tomar algo y charlar con la comunidad! https://t.co/YszQVNScmz',\n",
       "       'RT @Binance_COL: ¡Bogotá, ya pronto nos veremos! 🇨🇴  Y con noticias que no querrás perderte.\\xa0🎉\\xa0\\n\\n🔸 Síguenos en redes.\\n🔸 Like, RT y comenta…',\n",
       "       'ZOOM sobre ANTI-ENVEJECIMIENTO: EL #FUTURO DE LA #LONGEVIDAD\\n🗓12 de marzo, ⏰ 5:00pm CET, streaming desde Madrid\\nhttps://t.co/se8uHp8yPl https://t.co/1UKSJNnXUG',\n",
       "       'RT @MalagaSwCraft: Va a ser un placer contar con @joserra_diaz en nuestro próximo meetup programado. Sabemos que es un tema que levanta pas…',\n",
       "       'RT @PolkadotEspanol: En tan solo una hora arrancará el meetup de la comunidad española en Madrid 🇪🇸\\n\\n¿Quieres asistir? ¡Toda la info aquí a…',\n",
       "       'RT @Binance_COL: 🎉 Estás a una inscripción de asistir al evento cripto del año. \\n\\nLlena tu formulario ahora ➡️ https://t.co/sfzqCEvqb9',\n",
       "       'RT @PolkadotEspanol: Ya por aquí nos encontramos esperandolos 👀\\n\\n¿Están preparados para el primer meetup de #Polkadot en España de este 202…',\n",
       "       'RT @amuino: Ayer lo pasamos en grande en el meetup de Elixir Madrid en las oficinas de @CabifyTech hablando de performance, optimización y…',\n",
       "       'RT @Binance_COL: ¡Bogotá, ya pronto nos veremos! 🇨🇴  Y con noticias que no querrás perderte.\\xa0🎉\\xa0\\n\\n🔸 Síguenos en redes.\\n🔸 Like, RT y comenta…',\n",
       "       'RT @AngularCR: Muchas gracias a todos los que nos acompañaron en nuestro primer online meetup del año!\\n\\nMuchas gracias a nuestros speakers…',\n",
       "       'Conferencia virtual \"Prevención y buena gobernanza construyen Confianza\\n\\n🗓️ 27 de febrero 2023\\n🕐 10:00\\n🔗 https://t.co/5LZWJmLLRD',\n",
       "       'Volvemos en cuanto pasen La Fallas y os esperamos para seguir #compartiendoconocimiento \\n\\nY recordad que es #gratis , solo tenéis q registraros en el grupo de #meetup para que os lleguen a vuestro correo los avisos de las próximas charlas! 🥳\\n\\n#eventotech #wordpress #fotografia https://t.co/21rkqdOwz6',\n",
       "       'Webinar 6: Seguridad en la Nube, el próximo 27 de febrero a las 12pm. vía Teams.\\nLink: https://t.co/6VwLYr5S5t             #ActualizadoySeguro\\nPara más información:\\nDirección de Infraestructura Tecnológica\\n✉️ culturadigital@uat.edu.mx\\n📞 834 3181700 Ext. 2896\\n\\n#AquíComienzaTodo https://t.co/b2OXeb9rdi',\n",
       "       'Barra Académica Internacional. Les esperamos. Únase con este enlace:\\nhttps://t.co/x0sS5ysSk2 https://t.co/BoMP3OSAA3',\n",
       "       '#Python  #Automated | PyData Tel Aviv Meetup March 2023 https://t.co/6ljpBqdCCq',\n",
       "       '#Python  #Automated | PyData Manchester Meetup March 2023 https://t.co/jTOkKn5jvb',\n",
       "       '¡Atención Panamá!\\n\\n🎟 Sorteamos 150 entradas para que nuestro Meet Up\\n\\n🔸 Sigue a la cuenta de Instagram @binancecac\\n\\n🔸 MG a este post\\n\\n🔸 Comenta por qué te gustaría asistir a nuestro Meetup.\\n\\n🔸 Completa el formulario para confirmar tu participación.  \\n\\n¡Nos vemos allá!',\n",
       "       'RT @hasdid: #Python  #Automated | PyData Tel Aviv Meetup March 2023 https://t.co/6ljpBqdCCq',\n",
       "       'RT @hasdid: #Python  #Automated | PyData Manchester Meetup March 2023 https://t.co/jTOkKn5jvb',\n",
       "       '#Binance se centra en hablar para todo el mundo\\n\\nSe preocupa por la representatividad de diferentes públicos\\n\\nHacen hincapié en hablar a gente que no sabe de crypto diciendo que es fácil de usar su plataforma\\n\\nAtrae a público especializado por contenidos en Academia\\n\\n#meetup https://t.co/019Nv0uiZs',\n",
       "       '@mr_onuris Yo voy ahora aquí. Vente!\\nCheckout this Meetup with Juegos de Mesa entre Gays: https://t.co/2fSYCepGd2',\n",
       "       'RT @sysarmy: El próximo jueves vuelven las #AdminBirras en CABA! 🍻 Antes de que ChatGPT tome el control de la sociedad, pasá a tomar algo y…',\n",
       "       'En el meetup de Binance escuchando a @FlixFuertes https://t.co/sTQnaV5blX',\n",
       "       'RT @Zahori_aut: Hoy, nuestro compañero Ismael Mateos nos deleitará con su sabiduría en https://t.co/v6QRyN8VMO   ¿Te lo vas a perder? #Zaho…',\n",
       "       '¡Atención, #intérpretes! El próximo martes 28/02 a las 10 a. m. hora de Nueva York habrá una charla informativa por Teams sobre el concurso para intérpretes de lengua española de las Naciones Unidas CELP SP 2023: https://t.co/HmcU641Xut #Terps #Interpretación #CELPSP2023 https://t.co/lEEsU3x530',\n",
       "       '📌Participa en el foro “Innovación en materia de capacitación, formación de ciudadanía y promoción a los derechos humanos de las mujeres en el ámbito político”.\\n🗣️ Convocan: #SPEN del #IECM\\n🗓️ 1 de marzo\\n⏰ 11:00 am\\n📹 #Teams\\nLa liga de acceso al foro es: \\nhttps://t.co/5Yq7qVJ7M0 https://t.co/LHxQgfSzlu',\n",
       "       'Estoy en el Meetup de Binance 🔥🔥🔥 @binance_hispano @Academia_Fi @RandApp_ @FlixFuertes https://t.co/01ja6FvWBi',\n",
       "       'RT @SoyUnison: Estudiantes, están cordialmente invitados a la conferencia “Género” no sólo incluye a mujeres, que se realizará el próximo 1…',\n",
       "       'RT @lorenCeColl: @Ruben_torresn @DoctorBatalla @julcostaduran10 @valenciajc @Unimagdalena @UExternado @DefensoriaCol @SoyDefensor_ Imperdib…',\n",
       "       'Desde Venezuela decimos presente en el BINANCE  MeetUp VALENCIA 2023 \\n @binance_hispano @RandApp_ @academia_Fi\\n@FlixFuertes https://t.co/xmjBCCmrmJ',\n",
       "       'Participa en el foro “Innovación en materia de capacitación, formación de ciudadanía y promoción a los derechos humanos de las mujeres en el ámbito político”.\\nTe esperamos\\n🗓️ 1 de marzo\\n⏰ 11:00 am\\n📹 #Teams\\nhttps://t.co/FrvWzwfTPS https://t.co/s2Nmd0JMVp',\n",
       "       'Invitación cordial en Cali, Colombia todos los amantes de la tecnología para una conversación sin restricciones tematicas, la tecnología sera nuestra plataforma. \\n\\nhttps://t.co/dVuXeKKftY https://t.co/JQ3qfVsfwX',\n",
       "       'RT @BinanceES: ¡Atención Panamá!\\n\\n🎟 Sorteamos 150 entradas para que nuestro Meet Up\\n\\n🔸 Sigue a la cuenta de Instagram @binancecac\\n\\n🔸 MG a e…',\n",
       "       'RT @BinanceES: ¡Atención Panamá!\\n\\n🎟 Sorteamos 150 entradas para que nuestro Meet Up\\n\\n🔸 Sigue a la cuenta de Instagram @binancecac\\n\\n🔸 MG a e…',\n",
       "       'Aprendiendo mucho con la exposición de @FlixFuertes en el meetup de Binance en Valencia. https://t.co/NHMGwgepQY',\n",
       "       '¡HOLA LIMA, HOLA PERÚ! 🇵🇪 Invitamos a todos los devs de la capital peruana a participar del próximo MEETUP de devs de la tribu 🙌\\n\\nLos esperamos para compartir un buen rato entre pares 🍻 ¡Pueden participar por USD 5.000 en créditos de AWS! 🚀\\n\\nRegistro: https://t.co/HUWS8cjOcV https://t.co/Z8UVuSyXep',\n",
       "       'RT @lorenCeColl: Barra Académica Internacional. Les esperamos. Únase con este enlace:\\nhttps://t.co/x0sS5ysSk2 https://t.co/BoMP3OSAA3',\n",
       "       'RT @PolkadotEspanol: En tan solo una hora arrancará el meetup de la comunidad española en Madrid 🇪🇸\\n\\n¿Quieres asistir? ¡Toda la info aquí a…',\n",
       "       'RT @CodificadasMx: 👩\\u200d💻 ¡Se acerca nuestra próxima charla con \\n@Leitza3!  ¡No te quedes fuera, regístrate!🔥\\n\\n💻 Charla: Embedded Software Tes…',\n",
       "       'RT @sysarmy: El próximo jueves vuelven las #AdminBirras en CABA! 🍻 Antes de que ChatGPT tome el control de la sociedad, pasá a tomar algo y…',\n",
       "       'Feliz de hostear este panel con los graduados en el 1er meetUp de @PolkadotUruguay 🇺🇾\\nImaginar, crear y ejecutar.\\n\\nGracias a los asistentes, muchos y de calidad, a @UYSinergia, y a mi colega amigo @maarmapa por subirse a esta locura\\n\\nKeep built\\n#Web3 #IRL #Polkadot https://t.co/BpjrDy2Ga3',\n",
       "       '@palomabeep Por cierto, mira: https://t.co/JiH5ow6YV9',\n",
       "       'RT @pepearaucano: Feliz de hostear este panel con los graduados en el 1er meetUp de @PolkadotUruguay 🇺🇾\\nImaginar, crear y ejecutar.\\n\\nGracia…',\n",
       "       'RT @pepearaucano: Feliz de hostear este panel con los graduados en el 1er meetUp de @PolkadotUruguay 🇺🇾\\nImaginar, crear y ejecutar.\\n\\nGracia…',\n",
       "       'RT @sysarmy: El próximo jueves vuelven las #AdminBirras en CABA! 🍻 Antes de que ChatGPT tome el control de la sociedad, pasá a tomar algo y…',\n",
       "       'Brillante @FlixFuertes en su exposición @binace meetup #Valencia #Blockchain\\nPodéis seguirlo en directo en este enlace. https://t.co/bItbQ39nOe',\n",
       "       'RT @cripcoingame: Brillante @FlixFuertes en su exposición @binace meetup #Valencia #Blockchain\\nPodéis seguirlo en directo en este enlace. h…',\n",
       "       'Hoy participé como speaker en el #GPPB2023 hablando sobre #PowerPlatform + #OpenAI y estuvimos divirtiendonos probando #ChatGPT3 y #Dalle dentro de una #PowerApp https://t.co/XESSy9ioAM #Microsoft #Meetup https://t.co/T1npa5gSyA',\n",
       "       'RT @VaraNetwork_ES: Gracias Comunidad Web3 de #CDMX por acompañarnos en nuestro #Meetup mensual❤️\\u200d🔥 \\n¡Nos vemos en el próximo!✌🏽 https://t.…',\n",
       "       'RT @PolkadotEspanol: En tan solo una hora arrancará el meetup de la comunidad española en Madrid 🇪🇸\\n\\n¿Quieres asistir? ¡Toda la info aquí a…',\n",
       "       'RT @kathy__ferreira: Hoy participé como speaker en el #GPPB2023 hablando sobre #PowerPlatform + #OpenAI y estuvimos divirtiendonos probando…',\n",
       "       'RT @BinanceES: ¡Atención Panamá!\\n\\n🎟 Sorteamos 150 entradas para que nuestro Meet Up\\n\\n🔸 Sigue a la cuenta de Instagram @binancecac\\n\\n🔸 MG a e…',\n",
       "       'RT @FlixFuertes: Hoy, a las 6pm (GMT+1) estaré exponiendo en el MeetUp organizado por @binance en Valencia (España).\\n\\nPodéis seguir en dire…',\n",
       "       '#Capacitación| Te invitamos a participar de la primera capacitación para entidades compradoras del Acuerdo Marco de Precios de aseo y cafetería de cuarta generación.\\nNúmero del contrato: CCE-126-2023. \\nEnlace de conexión: https://t.co/SyVD5CYV4T https://t.co/0DgLlLxNYs',\n",
       "       '@gnf_lau COMO Y PARA CUANDO EL MEETUP',\n",
       "       'Transmisión en vivo de la Nardoz meetup de hoy: https://t.co/yWPV0bOWma',\n",
       "       'RT @BinanceES: ¡Atención Panamá!\\n\\n🎟 Sorteamos 150 entradas para que nuestro Meet Up\\n\\n🔸 Sigue a la cuenta de Instagram @binancecac\\n\\n🔸 MG a e…',\n",
       "       'RT @_wpvalencia: Volvemos en cuanto pasen La Fallas y os esperamos para seguir #compartiendoconocimiento \\n\\nY recordad que es #gratis , solo…',\n",
       "       'RT @chappyshell: Desde Venezuela decimos presente en el BINANCE  MeetUp VALENCIA 2023 \\n @binance_hispano @RandApp_ @academia_Fi\\n@FlixFuerte…',\n",
       "       'RT @kathy__ferreira: Hoy participé como speaker en el #GPPB2023 hablando sobre #PowerPlatform + #OpenAI y estuvimos divirtiendonos probando…',\n",
       "       'RT @jaespe62: Aprendiendo mucho con la exposición de @FlixFuertes en el meetup de Binance en Valencia. https://t.co/NHMGwgepQY',\n",
       "       'Meetup virtual: ¿Cómo manejar tu privacidad con Bitcoin? https://t.co/qDvsq2fpE1',\n",
       "       'RT @cripcoingame: Brillante @FlixFuertes en su exposición @binace meetup #Valencia #Blockchain\\nPodéis seguirlo en directo en este enlace. h…',\n",
       "       'Un gusto haber participado ayer en el primer Crypto Meetup del año por parte de @blockdemy para hablar sobre @_archeota. Muchas gracias por la invitación mi estimado @marcomu_, excelente trabajo. https://t.co/hivcy8IGfs',\n",
       "       'RT @constacrypto: Un gusto haber participado ayer en el primer Crypto Meetup del año por parte de @blockdemy para hablar sobre @_archeota.…',\n",
       "       '@TR3TZE EL MEETUP TAN ESPERADO',\n",
       "       'RT @GRinteractiva: Esta semana pasada celebramos la octava edición de GR Interactiva, con 76 apuntados al meetup. ¿Quién tiene ganas ya de…',\n",
       "       'Aprende mas de la metodología ágil en nuestro evento del mes 📣📣\\n\\nCreando Historias de Usuario sin morir en el intento\\nEl 28 de febrero a partir de las 7:00 PM\\n\\nRegístrate en el link: \\n\\n 🔗  https://t.co/qJmNztJmH7 https://t.co/FOXwtuJYzP',\n",
       "       'RT @VaraNetwork_ES: Gracias Comunidad Web3 de #CDMX por acompañarnos en nuestro #Meetup mensual❤️\\u200d🔥 \\n¡Nos vemos en el próximo!✌🏽 https://t.…',\n",
       "       'RT @constacrypto: Un gusto haber participado ayer en el primer Crypto Meetup del año por parte de @blockdemy para hablar sobre @_archeota.…',\n",
       "       'Meetup virtual: ¿Cómo manejar tu privacidad con Bitcoin? https://t.co/IYBd39Epfl',\n",
       "       'RT @BinanceES: ¡Atención Panamá!\\n\\n🎟 Sorteamos 150 entradas para que nuestro Meet Up\\n\\n🔸 Sigue a la cuenta de Instagram @binancecac\\n\\n🔸 MG a e…',\n",
       "       'RT @colombiacompra: #Capacitación| Te invitamos a participar de la primera capacitación para entidades compradoras del Acuerdo Marco de Pre…',\n",
       "       '¡Compartimos con ustedes el resumen de lo que fue el Meetup de Medellín! 🔥 Gracias a todos los que se acercaron el pasado sábado a compartir un lindo rato entre pares 🙌 \\n\\nY gracias a nuestro sponsor @_Nearsure por nuevamente ser parte :)\\n\\n¡Hasta la próxima! 🇨🇴 https://t.co/xIwf9uXXXZ',\n",
       "       'RT @SaludEdomex: 🙋🏽\\u200d♀️¿Estás embarazada y tienes dudas sobre tu salud y enfermedades como el #VIH y el #Sida?\\nEl @Edomex, a través de la @S…',\n",
       "       'Inf Curso https://t.co/JUCLdBhBkI\\nDiverso material multimedia https://t.co/00a6e7vmfN\\n\\n@didacgeografica @geo_jk @JJGeH @geograpills @asangut13 @GeografiaUam @geojuanka @hector_geog @Brian_rof @asunblancor @bosca_g @ulisesnajarrom @nuripi11 @VirginiaCarrace @GeografiaUIB',\n",
       "       'RT @aurarojas30: El futuro de la patria recibe orientaciones TIC en @YAR29Dop, con @Milixsoteldoc… Se forman en ofimática y con #SoftwareLi…',\n",
       "       'RT @Yar01C: El futuro de la patria recibe orientaciones TIC en @YAR29Dop, con @Milixsoteldoc… Se forman en ofimática y con #SoftwareLibre…',\n",
       "       'RT @aurarojas30: El futuro de la patria recibe orientaciones TIC en @YAR29Dop, con @Milixsoteldoc… Se forman en ofimática y con #SoftwareLi…',\n",
       "       'RT @Yar01C: El futuro de la patria recibe orientaciones TIC en @YAR29Dop, con @Milixsoteldoc… Se forman en ofimática y con #SoftwareLibre…',\n",
       "       'RT @aurarojas30: El futuro de la patria recibe orientaciones TIC en @YAR29Dop, con @Milixsoteldoc… Se forman en ofimática y con #SoftwareLi…',\n",
       "       'RT @aurarojas30: El futuro de la patria recibe orientaciones TIC en @YAR29Dop, con @Milixsoteldoc… Se forman en ofimática y con #SoftwareLi…',\n",
       "       'RT @Yar01C: El futuro de la patria recibe orientaciones TIC en @YAR29Dop, con @Milixsoteldoc… Se forman en ofimática y con #SoftwareLibre…',\n",
       "       'RT @aurarojas30: El futuro de la patria recibe orientaciones TIC en @YAR29Dop, con @Milixsoteldoc… Se forman en ofimática y con #SoftwareLi…',\n",
       "       'RT @aurarojas30: El futuro de la patria recibe orientaciones TIC en @YAR29Dop, con @Milixsoteldoc… Se forman en ofimática y con #SoftwareLi…',\n",
       "       'RT @Yar01C: El futuro de la patria recibe orientaciones TIC en @YAR29Dop, con @Milixsoteldoc… Se forman en ofimática y con #SoftwareLibre…',\n",
       "       'RT @Yar01C: El futuro de la patria recibe orientaciones TIC en @YAR29Dop, con @Milixsoteldoc… Se forman en ofimática y con #SoftwareLibre…',\n",
       "       'RT @Yar01C: El futuro de la patria recibe orientaciones TIC en @YAR29Dop, con @Milixsoteldoc… Se forman en ofimática y con #SoftwareLibre…',\n",
       "       'RT @aurarojas30: El futuro de la patria recibe orientaciones TIC en @YAR29Dop, con @Milixsoteldoc… Se forman en ofimática y con #SoftwareLi…',\n",
       "       'RT @aurarojas30: El futuro de la patria recibe orientaciones TIC en @YAR29Dop, con @Milixsoteldoc… Se forman en ofimática y con #SoftwareLi…',\n",
       "       'RT @Yar01C: El futuro de la patria recibe orientaciones TIC en @YAR29Dop, con @Milixsoteldoc… Se forman en ofimática y con #SoftwareLibre…',\n",
       "       'RT @Yar01C: El futuro de la patria recibe orientaciones TIC en @YAR29Dop, con @Milixsoteldoc… Se forman en ofimática y con #SoftwareLibre…',\n",
       "       'RT @aurarojas30: El futuro de la patria recibe orientaciones TIC en @YAR29Dop, con @Milixsoteldoc… Se forman en ofimática y con #SoftwareLi…',\n",
       "       'RT @aurarojas30: El futuro de la patria recibe orientaciones TIC en @YAR29Dop, con @Milixsoteldoc… Se forman en ofimática y con #SoftwareLi…',\n",
       "       'RT @aurarojas30: El futuro de la patria recibe orientaciones TIC en @YAR29Dop, con @Milixsoteldoc… Se forman en ofimática y con #SoftwareLi…',\n",
       "       'RT @aurarojas30: El futuro de la patria recibe orientaciones TIC en @YAR29Dop, con @Milixsoteldoc… Se forman en ofimática y con #SoftwareLi…',\n",
       "       'RT @aurarojas30: El futuro de la patria recibe orientaciones TIC en @YAR29Dop, con @Milixsoteldoc… Se forman en ofimática y con #SoftwareLi…',\n",
       "       'RT @Yar01C: El futuro de la patria recibe orientaciones TIC en @YAR29Dop, con @Milixsoteldoc… Se forman en ofimática y con #SoftwareLibre…',\n",
       "       'RT @Yar01C: El futuro de la patria recibe orientaciones TIC en @YAR29Dop, con @Milixsoteldoc… Se forman en ofimática y con #SoftwareLibre…',\n",
       "       'RT @exelearning_sp: Proyecto EDIA. Guía de Software Libre en educación. https://t.co/zH6rodlTMz #proyectoEDIA #REA #SoftwareLibre https://t…',\n",
       "       'RT @aurarojas30: El futuro de la patria recibe orientaciones TIC en @YAR29Dop, con @Milixsoteldoc… Se forman en ofimática y con #SoftwareLi…',\n",
       "       'RT @Yar01C: El futuro de la patria recibe orientaciones TIC en @YAR29Dop, con @Milixsoteldoc… Se forman en ofimática y con #SoftwareLibre…',\n",
       "       'RT @Yar01C: El futuro de la patria recibe orientaciones TIC en @YAR29Dop, con @Milixsoteldoc… Se forman en ofimática y con #SoftwareLibre…',\n",
       "       'RT @Yar01C: El futuro de la patria recibe orientaciones TIC en @YAR29Dop, con @Milixsoteldoc… Se forman en ofimática y con #SoftwareLibre…',\n",
       "       'RT @aurarojas30: El futuro de la patria recibe orientaciones TIC en @YAR29Dop, con @Milixsoteldoc… Se forman en ofimática y con #SoftwareLi…',\n",
       "       'RT @exelearning_sp: Proyecto EDIA. Guía de Software Libre en educación. https://t.co/zH6rodlTMz #proyectoEDIA #REA #SoftwareLibre https://t…',\n",
       "       'RT @Yar01C: El futuro de la patria recibe orientaciones TIC en @YAR29Dop, con @Milixsoteldoc… Se forman en ofimática y con #SoftwareLibre…',\n",
       "       'RT @Yar01C: El futuro de la patria recibe orientaciones TIC en @YAR29Dop, con @Milixsoteldoc… Se forman en ofimática y con #SoftwareLibre…',\n",
       "       'RT @Yar01C: El futuro de la patria recibe orientaciones TIC en @YAR29Dop, con @Milixsoteldoc… Se forman en ofimática y con #SoftwareLibre…',\n",
       "       'RT @aurarojas30: El futuro de la patria recibe orientaciones TIC en @YAR29Dop, con @Milixsoteldoc… Se forman en ofimática y con #SoftwareLi…',\n",
       "       'RT @aurarojas30: El futuro de la patria recibe orientaciones TIC en @YAR29Dop, con @Milixsoteldoc… Se forman en ofimática y con #SoftwareLi…',\n",
       "       'RT @Yar01C: El futuro de la patria recibe orientaciones TIC en @YAR29Dop, con @Milixsoteldoc… Se forman en ofimática y con #SoftwareLibre…',\n",
       "       'RT @aurarojas30: El futuro de la patria recibe orientaciones TIC en @YAR29Dop, con @Milixsoteldoc… Se forman en ofimática y con #SoftwareLi…',\n",
       "       'RT @Yar01C: El futuro de la patria recibe orientaciones TIC en @YAR29Dop, con @Milixsoteldoc… Se forman en ofimática y con #SoftwareLibre…',\n",
       "       'RT @Yar01C: El futuro de la patria recibe orientaciones TIC en @YAR29Dop, con @Milixsoteldoc… Se forman en ofimática y con #SoftwareLibre…',\n",
       "       'RT @Yar01C: El futuro de la patria recibe orientaciones TIC en @YAR29Dop, con @Milixsoteldoc… Se forman en ofimática y con #SoftwareLibre…',\n",
       "       'RT @aurarojas30: El futuro de la patria recibe orientaciones TIC en @YAR29Dop, con @Milixsoteldoc… Se forman en ofimática y con #SoftwareLi…',\n",
       "       'RT @aurarojas30: El futuro de la patria recibe orientaciones TIC en @YAR29Dop, con @Milixsoteldoc… Se forman en ofimática y con #SoftwareLi…',\n",
       "       'RT @exelearning_sp: \"¿Por qué #eXeLearning?\" - I Congreso de Innovación Educativa de Andalucía. https://t.co/UrGaqheTof #SoftwareLibre http…',\n",
       "       'RT @Yar01C: El futuro de la patria recibe orientaciones TIC en @YAR29Dop, con @Milixsoteldoc… Se forman en ofimática y con #SoftwareLibre…',\n",
       "       'RT @aurarojas30: El futuro de la patria recibe orientaciones TIC en @YAR29Dop, con @Milixsoteldoc… Se forman en ofimática y con #SoftwareLi…',\n",
       "       'RT @Yar01C: El futuro de la patria recibe orientaciones TIC en @YAR29Dop, con @Milixsoteldoc… Se forman en ofimática y con #SoftwareLibre…',\n",
       "       'RT @aurarojas30: El futuro de la patria recibe orientaciones TIC en @YAR29Dop, con @Milixsoteldoc… Se forman en ofimática y con #SoftwareLi…',\n",
       "       'RT @Yar01C: El futuro de la patria recibe orientaciones TIC en @YAR29Dop, con @Milixsoteldoc… Se forman en ofimática y con #SoftwareLibre…',\n",
       "       'RT @exelearning_sp: Proyecto EDIA. Guía de Software Libre en educación. https://t.co/zH6rodlTMz #proyectoEDIA #REA #SoftwareLibre https://t…',\n",
       "       'No @muncyt  #ACoruña de 11 a 13h teremos un espazo para probar xogos de mesa sobre dereitos humanos e outro para cacharreo electrónico con #SoftwareLibre. Ademais, faremos un faladoiro de tecnoloxía inclusiva outro sobre tecnoloxía en proxectos de cooperación ao desenvolvemento https://t.co/M3Z8waXoKs',\n",
       "       'RT @ESFGALICIA: No @muncyt  #ACoruña de 11 a 13h teremos un espazo para probar xogos de mesa sobre dereitos humanos e outro para cacharreo…',\n",
       "       'RT @exelearning_sp: \"¿Por qué #eXeLearning?\" - I Congreso de Innovación Educativa de Andalucía. https://t.co/UrGaqheTof #SoftwareLibre http…',\n",
       "       'RT @exelearning_sp: Proyecto EDIA. Guía de Software Libre en educación. https://t.co/zH6rodlTMz #proyectoEDIA #REA #SoftwareLibre https://t…',\n",
       "       'RT @exelearning_sp: \"¿Por qué #eXeLearning?\" - I Congreso de Innovación Educativa de Andalucía. https://t.co/UrGaqheTof #SoftwareLibre http…',\n",
       "       'RT @exelearning_sp: \"¿Por qué #eXeLearning?\" - I Congreso de Innovación Educativa de Andalucía. https://t.co/UrGaqheTof #SoftwareLibre http…',\n",
       "       'RT @exelearning_sp: Proyecto EDIA. Guía de Software Libre en educación. https://t.co/zH6rodlTMz #proyectoEDIA #REA #SoftwareLibre https://t…',\n",
       "       'RT @ESFGALICIA: No @muncyt  #ACoruña de 11 a 13h teremos un espazo para probar xogos de mesa sobre dereitos humanos e outro para cacharreo…',\n",
       "       'RT @exelearning_sp: Proyecto EDIA. Guía de Software Libre en educación. https://t.co/zH6rodlTMz #proyectoEDIA #REA #SoftwareLibre https://t…',\n",
       "       'RT @exelearning_sp: Proyecto EDIA. Guía de Software Libre en educación. https://t.co/zH6rodlTMz #proyectoEDIA #REA #SoftwareLibre https://t…',\n",
       "       'RT @ESFGALICIA: No @muncyt  #ACoruña de 11 a 13h teremos un espazo para probar xogos de mesa sobre dereitos humanos e outro para cacharreo…',\n",
       "       'RT @loxalibre: Únete a la comunidad de software libre de Loja, participa del #Flisol 2023\\n\\nPostula tu charla, taller, panel, demo o muestra…',\n",
       "       'RT @exelearning_sp: Proyecto EDIA. Guía de Software Libre en educación. https://t.co/zH6rodlTMz #proyectoEDIA #REA #SoftwareLibre https://t…',\n",
       "       'RT @exelearning_sp: Proyecto EDIA. Guía de Software Libre en educación. https://t.co/zH6rodlTMz #proyectoEDIA #REA #SoftwareLibre https://t…',\n",
       "       'RT @ESFGALICIA: No @muncyt  #ACoruña de 11 a 13h teremos un espazo para probar xogos de mesa sobre dereitos humanos e outro para cacharreo…',\n",
       "       'RT @exelearning_sp: Proyecto EDIA. Guía de Software Libre en educación. https://t.co/zH6rodlTMz #proyectoEDIA #REA #SoftwareLibre https://t…',\n",
       "       'RT @Yar01C: El futuro de la patria recibe orientaciones TIC en @YAR29Dop, con @Milixsoteldoc… Se forman en ofimática y con #SoftwareLibre…',\n",
       "       'RT @ESFGALICIA: No @muncyt  #ACoruña de 11 a 13h teremos un espazo para probar xogos de mesa sobre dereitos humanos e outro para cacharreo…',\n",
       "       '@LimeSurvey es la opción Open Source más eficiente para para realizar #votaciones empresariales, lo mejor es que mantiene el #anonimato del votante, alineado al #RGPD (Reglamento General de Protección de Datos de la UE).  Entra aquí 👉https://t.co/EGsU5yeJ3R\\n\\n#TIC #SoftwareLibre https://t.co/zpE8yUPPAc',\n",
       "       'RT @exelearning_sp: Proyecto EDIA. Guía de Software Libre en educación. https://t.co/zH6rodlTMz #proyectoEDIA #REA #SoftwareLibre https://t…',\n",
       "       'RT @exelearning_sp: Proyecto EDIA. Guía de Software Libre en educación. https://t.co/zH6rodlTMz #proyectoEDIA #REA #SoftwareLibre https://t…',\n",
       "       'RT @exelearning_sp: \"¿Por qué #eXeLearning?\" - I Congreso de Innovación Educativa de Andalucía. https://t.co/UrGaqheTof #SoftwareLibre http…',\n",
       "       'RT @MappingGIS: Nos llaman muchos alumnos con dudas sobre cuál es mejor. No hay una respuesta clara, pero nosotros en igualdad de condicion…',\n",
       "       'RT @est_compartidas: ¡Hola piratas estelares!\\nPor acá les dejo un nuevo resumen de observación.\\n\\nYa disponible en #FediverseTV\\nhttps://t.co…',\n",
       "       'RT @exelearning_sp: \"¿Por qué #eXeLearning?\" - I Congreso de Innovación Educativa de Andalucía. https://t.co/UrGaqheTof #SoftwareLibre http…',\n",
       "       'RT @ESFGALICIA: No @muncyt  #ACoruña de 11 a 13h teremos un espazo para probar xogos de mesa sobre dereitos humanos e outro para cacharreo…',\n",
       "       'RT @exelearning_sp: Proyecto EDIA. Guía de Software Libre en educación. https://t.co/zH6rodlTMz #proyectoEDIA #REA #SoftwareLibre https://t…',\n",
       "       'RT @loxalibre: Únete a la comunidad de software libre de Loja, participa del #Flisol 2023\\n\\nPostula tu charla, taller, panel, demo o muestra…',\n",
       "       'RT @ESFGALICIA: No @muncyt  #ACoruña de 11 a 13h teremos un espazo para probar xogos de mesa sobre dereitos humanos e outro para cacharreo…',\n",
       "       'RT @ESFGALICIA: No @muncyt  #ACoruña de 11 a 13h teremos un espazo para probar xogos de mesa sobre dereitos humanos e outro para cacharreo…',\n",
       "       '#EstructurasMetalicas : Desarrollo de Productos y creación de imágenes fotorrealistas, con Software Libre y gratuito\\n🎯 Artículo Blog \\nhttps://t.co/7jvIvwljYc\\n\\n#Benifaió #Almussafes #Alginet #Algemesi #LaRibera #Valencia https://t.co/F1vRH7xATF',\n",
       "       'RT @exelearning_sp: \"¿Por qué #eXeLearning?\" - I Congreso de Innovación Educativa de Andalucía. https://t.co/UrGaqheTof #SoftwareLibre http…',\n",
       "       '¿ Conoce mi canal de YouTube ? Les invito a visitarlo y visualizar vídeos sobre las diferentes aplicaciones del #Modelado3D #HardSurface y la #Renderización con #SoftwareLibre\\n🎯 https://t.co/xvp01SD4Ra \\n\\n#Benifaió #Almussafes #Alginet #LaRibera #Valencia #Blender #Blender3D #B3D https://t.co/YWZTHYU2Tq',\n",
       "       'RT @ESFGALICIA: No @muncyt  #ACoruña de 11 a 13h teremos un espazo para probar xogos de mesa sobre dereitos humanos e outro para cacharreo…',\n",
       "       'RT @exelearning_sp: \"¿Por qué #eXeLearning?\" - I Congreso de Innovación Educativa de Andalucía. https://t.co/UrGaqheTof #SoftwareLibre http…',\n",
       "       '🛑¿Te gusta el Software Libre y la cultura libre? \\n📣¿Quieres ser parte de un evento que promueve la educación, la colaboración y la libertad?\\n\\n❗️❗️Únete a la organización del FLISOL y ayuda a hacer de este evento el mejor de todos 🔸Link abajo👇\\n\\n#FLISoL  #tech  #SoftwareLibre https://t.co/WssAK43Oat',\n",
       "       'RT @Flisol_Loja: 🛑¿Te gusta el Software Libre y la cultura libre? \\n📣¿Quieres ser parte de un evento que promueve la educación, la colaborac…',\n",
       "       'RT @exelearning_sp: \"¿Por qué #eXeLearning?\" - I Congreso de Innovación Educativa de Andalucía. https://t.co/UrGaqheTof #SoftwareLibre http…',\n",
       "       'RT @Flisol_Loja: 🛑¿Te gusta el Software Libre y la cultura libre? \\n📣¿Quieres ser parte de un evento que promueve la educación, la colaborac…',\n",
       "       'RT @Flisol_Loja: 🛑¿Te gusta el Software Libre y la cultura libre? \\n📣¿Quieres ser parte de un evento que promueve la educación, la colaborac…',\n",
       "       'RT @Flisol_Loja: 🛑¿Te gusta el Software Libre y la cultura libre? \\n📣¿Quieres ser parte de un evento que promueve la educación, la colaborac…',\n",
       "       'RT @exelearning_sp: Proyecto EDIA. Guía de Software Libre en educación. https://t.co/zH6rodlTMz #proyectoEDIA #REA #SoftwareLibre https://t…',\n",
       "       'RT @loxalibre: Únete a la comunidad de software libre de Loja, participa del #Flisol 2023\\n\\nPostula tu charla, taller, panel, demo o muestra…',\n",
       "       'RT @loxalibre: Únete a la comunidad de software libre de Loja, participa del #Flisol 2023\\n\\nPostula tu charla, taller, panel, demo o muestra…',\n",
       "       'Un ChatGPT de código abierto: ya hay alternativas e ideas en marcha. Los científicos ven esencial la transparencia\\n\\n#softwareLibre #ComunalidadDigital\\n\\nhttps://t.co/LEM70aePjH',\n",
       "       '#openSUSE Tumbleweed revisión de la semana 8 de 2023 #opensuse #gnu #linux #repaso_semanal_tumbleweed #softwarelibre https://t.co/5eyVgD4PDD',\n",
       "       'El software desarrollado por #Sadosky está realizado con #SoftwareLibre, es parametrizable, escalable, se puede utilizar online y offline, y es de fácil usabilidad y mantenimiento.',\n",
       "       'RT @funsadosky: El software desarrollado por #Sadosky está realizado con #SoftwareLibre, es parametrizable, escalable, se puede utilizar on…',\n",
       "       '#Modelado3D #HardSurface y #Renderización de un Vehículo con #SoftwareLibre\\nVídeo en YouTube\\n🎯 https://t.co/wNvh78IoaS\\n \\n#Benifaió #Almussafes #Alginet #LaRibera #Valencia #Blender #Blender3D #B3D https://t.co/LDoXItszKE',\n",
       "       '¿ Conoce mi canal de YouTube ? Les invito a visitarlo y visualizar vídeos sobre las diferentes aplicaciones del #Modelado3D #HardSurface y la #Renderización con #SoftwareLibre\\n🎯 https://t.co/WeTQkIBOii\\n \\n#Benifaió #Almussafes #Alginet #LaRibera #Valencia #Blender #Blender3D #B3D https://t.co/uTyfZ7CE5d',\n",
       "       'RT @Flisol_Loja: 🛑¿Te gusta el Software Libre y la cultura libre? \\n📣¿Quieres ser parte de un evento que promueve la educación, la colaborac…',\n",
       "       '📣 Newsletter WBDS LA\\n\\n👉 Você pode assinar nossa newsletter GRATUITAMENTE e receber informações sobre  trabalhos, bolsas de estudo e todos os nossos projetos!\\n\\n✍️ Inscreva-se aqui: https://t.co/dFwdIyxasf https://t.co/Q1Umqrg58y',\n",
       "       'RT @linaporras: #FLISoL \\nFestival Latinoamericano de Instalación de Software Libre 2023, ¡comenzamos a prepararnos! https://t.co/VtJBdZUADu',\n",
       "       '@sabuesognu Me haces acordar a los de la flisol alla por el 2009',\n",
       "       '📻️ Mechando poemas, textos, grabaciones encontradas por ahí, pájaros, grillos. Clips de audio agitando alguna cosa: redes libres - no uso de wasap - dentro de poco alguno pro FLISOL Montevideo 2023 (Festival Latinoamericano de Software Libre).',\n",
       "       'Únete a la comunidad de software libre de Loja, participa del #Flisol 2023\\n\\nPostula tu charla, taller, panel, demo o muestra artística en https://t.co/sm8awAOJeD\\n\\n¡No queremos llegar a abril sin contar con tu participación! #SoftwareLibre #FlisolLoja #ComunidadTecnológica https://t.co/vhmf8SCxvy',\n",
       "       'RT @loxalibre: Únete a la comunidad de software libre de Loja, participa del #Flisol 2023\\n\\nPostula tu charla, taller, panel, demo o muestra…',\n",
       "       'RT @loxalibre: Únete a la comunidad de software libre de Loja, participa del #Flisol 2023\\n\\nPostula tu charla, taller, panel, demo o muestra…',\n",
       "       '@loxalibre @OpenlabEc @jsecuador_ @Flisol_Loja @lrafael696 @cooplibretec Excelente!!! mucho èxito amigos deseos desde aquí de Venezuela!!',\n",
       "       'RT @loxalibre: Únete a la comunidad de software libre de Loja, participa del #Flisol 2023\\n\\nPostula tu charla, taller, panel, demo o muestra…',\n",
       "       'RT @loxalibre: Únete a la comunidad de software libre de Loja, participa del #Flisol 2023\\n\\nPostula tu charla, taller, panel, demo o muestra…',\n",
       "       '@FlisolUy hola buenas estamos organizando el FLisol 2023 , Queremos ver si se puede promocionar desde esta cuenta.',\n",
       "       'RT @loxalibre: Únete a la comunidad de software libre de Loja, participa del #Flisol 2023\\n\\nPostula tu charla, taller, panel, demo o muestra…',\n",
       "       'RT @loxalibre: Únete a la comunidad de software libre de Loja, participa del #Flisol 2023\\n\\nPostula tu charla, taller, panel, demo o muestra…',\n",
       "       'RT @loxalibre: Únete a la comunidad de software libre de Loja, participa del #Flisol 2023\\n\\nPostula tu charla, taller, panel, demo o muestra…',\n",
       "       '🛑¿Te gusta el Software Libre y la cultura libre? \\n📣¿Quieres ser parte de un evento que promueve la educación, la colaboración y la libertad?\\n\\n❗️❗️Únete a la organización del FLISOL y ayuda a hacer de este evento el mejor de todos 🔸Link abajo👇\\n\\n#FLISoL  #tech  #SoftwareLibre https://t.co/WssAK43Oat',\n",
       "       'RT @Flisol_Loja: 🛑¿Te gusta el Software Libre y la cultura libre? \\n📣¿Quieres ser parte de un evento que promueve la educación, la colaborac…',\n",
       "       'Postula tu charla, taller, panel, demo o muestra artística en https://t.co/dF7U9AHhwY',\n",
       "       'RT @Flisol_Loja: 🛑¿Te gusta el Software Libre y la cultura libre? \\n📣¿Quieres ser parte de un evento que promueve la educación, la colaborac…',\n",
       "       'RT @Flisol_Loja: 🛑¿Te gusta el Software Libre y la cultura libre? \\n📣¿Quieres ser parte de un evento que promueve la educación, la colaborac…',\n",
       "       'RT @Flisol_Loja: 🛑¿Te gusta el Software Libre y la cultura libre? \\n📣¿Quieres ser parte de un evento que promueve la educación, la colaborac…',\n",
       "       'RT @loxalibre: Únete a la comunidad de software libre de Loja, participa del #Flisol 2023\\n\\nPostula tu charla, taller, panel, demo o muestra…',\n",
       "       'RT @loxalibre: Únete a la comunidad de software libre de Loja, participa del #Flisol 2023\\n\\nPostula tu charla, taller, panel, demo o muestra…',\n",
       "       '💻🎉¡Únete a la fiesta de la tecnología libre! El #FLISoLQuito 2023 es tu oportunidad de participar como ponente, organizador/a o ayudante en el #InstallFest. \\n\\n¡No te lo pierdas! Regístrate ahora en https://t.co/jnLp40n0AX 📲📢 https://t.co/xE16TkVfn4',\n",
       "       'RT @OpenlabEc: 💻🎉¡Únete a la fiesta de la tecnología libre! El #FLISoLQuito 2023 es tu oportunidad de participar como ponente, organizador/…',\n",
       "       'RT @Flisol_Loja: 🛑¿Te gusta el Software Libre y la cultura libre? \\n📣¿Quieres ser parte de un evento que promueve la educación, la colaborac…',\n",
       "       '@tapiador sí, es verdad que las soluciones no son exportables de un lugar a otro. \\n\\n(Esto iría en conexión con lo de la reproducibilidad de la ciencia, en ciencias sociales vs. experimentales 🤣🤣)',\n",
       "       'Yo añadiría, ralentización de proceso de publicación y problemas de reproducibilidad, además de otros problemas de índole emocional como la frustración.',\n",
       "       'Valoración de disfunción microvascular mediante termodilución en bolo o en infusión continua: Reproducibilidad entre los diferentes métodos, por el Dr. @jgchiabrando1 \\n\\n🔗 Léalo en https://t.co/PmZDQPIRrq\\n\\n#FFR #Thermodilution #ANOCA #MINOCA #INOCA #ChestPain #Angioplastia https://t.co/Q4I7r8nPLS',\n",
       "       '@j_d_jauregui @carlomonkey1 Se estiman unos 1,100 árboles por ha.\\nUnos 14 millones de árboles entonces.\\nUn precio aceptable por plantón parece ser 10$, pero la infraestructura para ello es millonaria, y reproducibilidad imprecisa (varios ensayos hasta que pega).',\n",
       "       '@GobiernoMX @lopezobrador_ @proceso @SEDENAmx \"No debe ser cualquier cosa que la revista número 1 del país en términos de verificabilidad y reproducibilidad haya aumentado las cifras para denotar más un punto',\n",
       "       'RT @DanielYuksek: @GobiernoMX @lopezobrador_ @proceso @SEDENAmx \"No debe ser cualquier cosa que la revista número 1 del país en términos de…',\n",
       "       'RT @CACIarg: Valoración de disfunción microvascular mediante termodilución en bolo o en infusión continua: Reproducibilidad entre los difer…',\n",
       "       '@reina_padua @soc_original No cojudín, paper es un escrito resumido que explica el cómo se realiza un estudio científico, sus metodologías, conclusiones, reproducibilidad, y que es revisado por pares. Es fundamental en ciencia\\n\\nDios es un personaje mitológico \\n\\nFalacia de Falsa Equivalencia, cojudín',\n",
       "       'RT @kiwiki0o: Aquino le acaba de decir \"eres un mounstro\" a duxo y se me vino la idea de q si en wbds x minecraft si aquino siguiera vivo y…',\n",
       "       '@matacabros1901 @perulytics lo peor es que no jode, da pena XD. ni en la final del 99 la u se puso a hacer wbds en la cancha',\n",
       "       '@PitucadeBarrio A tu vieja, le voy a levantar la mano, por no desawebarte de chibolo, en decirte las cosas, que pasaron de verdad en aquellos años, yo no soy de la época del 90, pero se la puta verdad de lo que sucedió, rojete terruco rosquete webon, gracias a el puedes escribir wbds en Twitter',\n",
       "       '@jferrari5 Lárgate ctmr. Nadie te quiere, solo sabes hablar wbds y dejas mal a la U.  Ctmr , lárgate con tu técnico y todo hdp solo haces daño a la U.',\n",
       "       'La gente si que habla wbds con tal de llamar la atención, caen mal',\n",
       "       'Te juro que intento entender porque me pasan tantas wbds pero es que es imposible JAJAJAJA fue enviar el tweet y a la vrg el celular pero bueno al menos me pagó JAJAJAAJA',\n",
       "       'RT @isma_21DM: La gente si que habla wbds con tal de llamar la atención, caen mal',\n",
       "       'RT @kiwiki0o: Aquino le acaba de decir \"eres un mounstro\" a duxo y se me vino la idea de q si en wbds x minecraft si aquino siguiera vivo y…',\n",
       "       'RT @kiwiki0o: Aquino le acaba de decir \"eres un mounstro\" a duxo y se me vino la idea de q si en wbds x minecraft si aquino siguiera vivo y…',\n",
       "       '@GeMaXD @Enny01284119 @Karindy1234 @informateperu si nos salimos de los tratados internacionales, las wbds del poder van a poder hacer lo que se les de la gana, un ejemplo; cuando liberaron a Fujimori pero obviamente era algo que no podían hacer y por eso la Corte IDH intervino',\n",
       "       'Mi ligue de junio del 2022 el único que valía la pena realmente lastima q la cago y yo no tenía paciencia pa aguantar wbds 😔👍',\n",
       "       'de q me sorprendo? sin wbds el broder es capaz de mentirme a la cara, cómo no iba a poder usar algo que le conté en mi contra?',\n",
       "       '@Juli_ipurpleyou @strange_0071 La necesitada de atención es otra ya que anda hablando wbds por unas cosas que son completamente normales en campañas, si a ti te parece eso que es \"regalada\" o cosas peores.. perdoname pero vaya mente de mrd y pobre de ti que sigas en la sociedad de antes 🧑🏻\\u200d🦯',\n",
       "       '@Juli_ipurpleyou @strange_0071 La necesitada que anda hablando wbds y solo por unas fotos hasta llamando \"regalada\" es otra, por casualidad no eres de esas que estúpidamente piensan tambien de “Si la vi0l4r0n fue por que lo provocó”? digo ya que tu estupidez es realmente sorprendente 🧑🏻\\u200d🦯',\n",
       "       'Fuera de wbds, además del proyecto que Alianza viene trabajando hace algunos años, que Ferrari haya llegado a la vocal ha resultado ser una ventaja. Lo único que hace es mandar más al hoyo a ese equipito. https://t.co/uDSSBJLusA',\n",
       "       '@Alonso_GD asdjlaksdjkas, invitar a Anibal Torres siendo el responsable del desgobiernode hace unos meses. ya p ,los de la izqueirda paran perdiendo por defender wbds',\n",
       "       'Y SI NO INVITARON A AQUINO PQ ES EL AQUINO DE WBDS X MC Y ESTA MUERTO Y A DUXO SI PQ LE ENDEUDARON LA CASA Y NECESITA PLATA????????',\n",
       "       '@macnotdonaldss INVIERTEN EN WBDS Y NO EN ALGO QUE VALE LA PENA',\n",
       "       'RT @kiwiki0o: Aquino le acaba de decir \"eres un mounstro\" a duxo y se me vino la idea de q si en wbds x minecraft si aquino siguiera vivo y…',\n",
       "       '@gyuvinnovia AYUDAJAHDJWJ me la arrancaré para dejar d soñar wbds',\n",
       "       'RT @kiwiki0o: Aquino le acaba de decir \"eres un mounstro\" a duxo y se me vino la idea de q si en wbds x minecraft si aquino siguiera vivo y…',\n",
       "       '@luisevivanco Pero si está cerrado, quién toma la foto? También hablas WBDS Vivanco',\n",
       "       '@MatiasPerSC @sonrieelfutbol A quien pones?Si no lo convocas ni le das rodaje y encima lo tildan de loco, como quieres q juegue bien alguien q no tiene la confianza totalmente si sigue haciendo wbds y bien merecido su no convocatoria pero mientras no halla algo que no impida su convocatoria no le veo sentido',\n",
       "       'Se nota que esa cuenta es manejada por una larrie y ustedes creyendolo y difundiendolo solo hacen que la ataquen a la chica, tan inutiles pueden ser? Vayan a buscar una vida en vez de hacer estas wbds https://t.co/NdF92CG22x',\n",
       "       'RT @kiwiki0o: Aquino le acaba de decir \"eres un mounstro\" a duxo y se me vino la idea de q si en wbds x minecraft si aquino siguiera vivo y…',\n",
       "       '@MauricioOrtegaE @AlfaroMoreno @IdoloPasionWeb @DebateBSC @Comunikas @corazon_hincha @ZonaMegaRadioTV @JosuePF89 @pepelucky10 @vv_javier @Munoz_goleador7 @omarmaluk Es el 1er puto año q no compro la camiseta después de 15 años , estos hps de @marathonsports_ se esmeran en valer vrg . Y si saben q todos los locales están llenos d sus wbds feas e camisetas',\n",
       "       'RT @Gabriel29314480: @MauricioOrtegaE @AlfaroMoreno @IdoloPasionWeb @DebateBSC @Comunikas @corazon_hincha @ZonaMegaRadioTV @JosuePF89 @pepe…',\n",
       "       'Hay muchos aus de la comunidad que me gustan, sobretodo los de wbds x mc https://t.co/pY88fscLU4',\n",
       "       '@MashiRafael Habla con tus amigos los MaFiosos y con tu gente para que paren el caos, tu eres el Jefe de ellos seguro te harán caso, yo sé que no te han llegado varias Toneladas, pero hazlo por la gente que no está metida en wbds.. habla con @RonnyAleagaS para que les diga',\n",
       "       'Que miércoles les pasa por la cabeza para hacer esas wbds',\n",
       "       '@yeonrizos hybe compró unas wbds de la sm kiero molil',\n",
       "       '@esquinabaja Los periodistas q publican wbds deberían ir a la cárcel o mínimo q se dediquen a otra cosa, como robar en la esquina',\n",
       "       'Doña Petronaaaa 😂😂😂\\nAmo Ecuador y a la gente que se inventa wbds https://t.co/Tym07foIZ1',\n",
       "       '📣 Newsletter WBDS LA\\n\\u200b\\n👉 ¡Puedes suscribirte a nuestro boletín GRATIS y recibir información sobre trabajos, becas y todos nuestros proyectos!\\n\\n✍️ Regístrate aquí: https://t.co/dFwdIyxIhN https://t.co/BpuWMk7xLZ',\n",
       "       'piru llevo desde ayer bardeando con tu fandom q no deja de decir wbds de mis favs, ayer una estúpida se mandó un tremendo hilo literalmente tirándole hate a bts y ardida pq sus favs son flops, así que venir aquí y hacerte la cínica como si las nctzen no hicieron eso no daaa https://t.co/Lotbgm9VOM',\n",
       "       '@PatoBanda2 @paquinta @BomberosdeChile Como estos tipos al mando de servicios públicos nunca tuvieron una Agüela como la mía, nunca escucharon sus sabios consejos \"Mire mijo, si ud va a opinar de algo que no sabe mejor quede como un wn tímido que no habla y no un wn ignorante que habla y solo dice wbds\" 🤔🙄🥴😏😎',\n",
       "       'RT @readyforthiss: piru llevo desde ayer bardeando con tu fandom q no deja de decir wbds de mis favs, ayer una estúpida se mandó un tremend…',\n",
       "       'RT @readyforthiss: piru llevo desde ayer bardeando con tu fandom q no deja de decir wbds de mis favs, ayer una estúpida se mandó un tremend…',\n",
       "       'Que palta con la gente que habla de los demás, maduren porfa que esas wbds eran de colegio 🤭',\n",
       "       '@luismanassevitz @informateperu Hay que vivir con ella pues, si es la que rige ctmre. Wbds hablas tío.',\n",
       "       'RT @readyforthiss: piru llevo desde ayer bardeando con tu fandom q no deja de decir wbds de mis favs, ayer una estúpida se mandó un tremend…',\n",
       "       'RT @readyforthiss: piru llevo desde ayer bardeando con tu fandom q no deja de decir wbds de mis favs, ayer una estúpida se mandó un tremend…',\n",
       "       'RT @readyforthiss: piru llevo desde ayer bardeando con tu fandom q no deja de decir wbds de mis favs, ayer una estúpida se mandó un tremend…',\n",
       "       'RT @readyforthiss: piru llevo desde ayer bardeando con tu fandom q no deja de decir wbds de mis favs, ayer una estúpida se mandó un tremend…',\n",
       "       'RT @DuranAD2022: @MashiRafael Habla con tus amigos los MaFiosos y con tu gente para que paren el caos, tu eres el Jefe de ellos seguro te h…',\n",
       "       'disque “amistad más real” y eres la primera en decir wbds',\n",
       "       'Sin wbds! Que lindo es el amor correspondido la csmdr!!!💗',\n",
       "       '@lamonina10 @DanielUrresti1 si, yo tambien jode lo que dijo montoya, pero de alli a crear esa wbd de sacarle la mrd, ya son wbds',\n",
       "       '@libraiconic Solo a mí me pasan wbds, una chica me escribe a decirme que era cachudo y yo le digo que no tengo novia, no entiendo nada la verdad.',\n",
       "       'RT @WBDSLA: 📣 Newsletter WBDS LA\\n\\u200b\\n👉 ¡Puedes suscribirte a nuestro boletín GRATIS y recibir información sobre trabajos, becas y todos nuest…',\n",
       "       'Sin wbds debí dedicarme a algo relacionado con la política NAJAJAJA SOY UNA CRACKIIIII',\n",
       "       'OE POR LPM PQ LA GENTE CREE WBDS CSM ME LLEGAN AL PINCHO https://t.co/GJIquynjWj',\n",
       "       '@Andysanchez8 Recién la pusiste no me vengas con wbds',\n",
       "       'Esta claramente sería yo 🥲 \\nno puedo mantener la compostura en situaciones así la vd. Uno con l tiempo aguanta menos wbds.\\nMi familia sufre, dicen q terminaré con plomo en la barriga, q como está el país no puede uno pelear con nadie😂 pero detesto q no sigan normas al conducir! https://t.co/428lyoX1xY',\n",
       "       'me da estrés ver como otros tienen la piel perfecta sin cuidarse y uno tiene que comprar mil wbds para verse aceptable',\n",
       "       'Se imaginan que Wbds x Minecraft es parte del multiverso de series?🗿\\nY que en realidad duxo llegó ahí por lo que dice la chama y Aquino no está por qué está en el end aún 🗿? https://t.co/vXaXkw9Ix7',\n",
       "       'RT @__Haru__uraH__: Se imaginan que Wbds x Minecraft es parte del multiverso de series?🗿\\nY que en realidad duxo llegó ahí por lo que dice l…',\n",
       "       '@exitosape Wbds, para cambiar deben empezar por mejorar la educación pública en el Perú que esta decadente y pésima.\\nSalud, mejorar los hospitales y poner personal con vocación.',\n",
       "       'RT @__Haru__uraH__: Se imaginan que Wbds x Minecraft es parte del multiverso de series?🗿\\nY que en realidad duxo llegó ahí por lo que dice l…',\n",
       "       '@italianoguaposo @rlopezaliaga1 @USEMBASSYPERU Otro imbsile q no entiende. Los procesos de la su at tecleando wbds',\n",
       "       'RT @__Haru__uraH__: Se imaginan que Wbds x Minecraft es parte del multiverso de series?🗿\\nY que en realidad duxo llegó ahí por lo que dice l…',\n",
       "       'RT @__Haru__uraH__: Se imaginan que Wbds x Minecraft es parte del multiverso de series?🗿\\nY que en realidad duxo llegó ahí por lo que dice l…',\n",
       "       '@Carlinho1988 @NorattoAngela @informateperu V: señor usted esta bien de la cabeza? O es bruto de nacimiento? 🤔 O sea hay que darle el buffet de 80 tmb al prusur castello? Hagase un favor y no comente wbds que deja ver por completo su ignorancia.',\n",
       "       'RT @__Haru__uraH__: Se imaginan que Wbds x Minecraft es parte del multiverso de series?🗿\\nY que en realidad duxo llegó ahí por lo que dice l…',\n",
       "       'RT @__Haru__uraH__: Se imaginan que Wbds x Minecraft es parte del multiverso de series?🗿\\nY que en realidad duxo llegó ahí por lo que dice l…',\n",
       "       'RT @__Haru__uraH__: Se imaginan que Wbds x Minecraft es parte del multiverso de series?🗿\\nY que en realidad duxo llegó ahí por lo que dice l…',\n",
       "       'RT @__Haru__uraH__: Se imaginan que Wbds x Minecraft es parte del multiverso de series?🗿\\nY que en realidad duxo llegó ahí por lo que dice l…',\n",
       "       'RT @__Haru__uraH__: Se imaginan que Wbds x Minecraft es parte del multiverso de series?🗿\\nY que en realidad duxo llegó ahí por lo que dice l…',\n",
       "       'Cuando vuelvo de la nada a twitter publico mill wbds, no mi culpa tuve que trabajar en carnaval',\n",
       "       'fakiu \\n\\nme imagine tremenda historia de loq sigue despeus de wbds x mc en la q akusi regresa de donde quiera q estuvo pero se pone feliz al ver a Duxin, no le tiene rencor ni nada, es más, desde su perspectiva fue el duco qn se perdió y esta feliz de haberlo encontrado 😠',\n",
       "       'RT @ChocoBon_Adi: fakiu \\n\\nme imagine tremenda historia de loq sigue despeus de wbds x mc en la q akusi regresa de donde quiera q estuvo per…',\n",
       "       'RT @ChocoBon_Adi: fakiu \\n\\nme imagine tremenda historia de loq sigue despeus de wbds x mc en la q akusi regresa de donde quiera q estuvo per…',\n",
       "       '🥳 Terminamos el séptimo encuentro sincrónico del #WBDS_LA_Camp!\\n\\n👉 ¡Esta estudiamos los Alineamientos de secuencias y BLAST !\\n\\nSeguimos creciendo juntxs 🤗 https://t.co/0uZOowXu4S',\n",
       "       'RT @WBDSLA: 🥳 Terminamos el séptimo encuentro sincrónico del #WBDS_LA_Camp!\\n\\n👉 ¡Esta estudiamos los Alineamientos de secuencias y BLAST !…',\n",
       "       'RT @WBDSLA: 🥳 Terminamos el séptimo encuentro sincrónico del #WBDS_LA_Camp!\\n\\n👉 ¡Esta estudiamos los Alineamientos de secuencias y BLAST !…',\n",
       "       'RT @ChocoBon_Adi: fakiu \\n\\nme imagine tremenda historia de loq sigue despeus de wbds x mc en la q akusi regresa de donde quiera q estuvo per…',\n",
       "       'RT @ChocoBon_Adi: fakiu \\n\\nme imagine tremenda historia de loq sigue despeus de wbds x mc en la q akusi regresa de donde quiera q estuvo per…',\n",
       "       'Oye que la gente si habla wbds https://t.co/hSrevyBR6r',\n",
       "       'Desde que vi el CC de las wbds cada que pienso en esta raza de perro pienso en el 😭 y una amiga la tiene una imagen de esa raza de perro jsjaja https://t.co/HPJ7BFvDQh',\n",
       "       '@la_wbds @SpreenDMC @SpreenFanarts jajajaja gracias!',\n",
       "       '@HEstremadoyro Los estatutos fueron firmados por los clubs, déjense de wbds y háganse responsables. Betocchi tiene que salir del Melgar, nos esta mandando al abismo. La prensa arequipeña tiene que decir la firme, sin rodilleras ni bozal.',\n",
       "       '@PitucadeBarrio2 Jaja pobretona esta solo habla wbds métete la lengua al ku lo mejor',\n",
       "       'RT @WBDSLA: 🥳 Terminamos el séptimo encuentro sincrónico del #WBDS_LA_Camp!\\n\\n👉 ¡Esta estudiamos los Alineamientos de secuencias y BLAST !…',\n",
       "       'Hasta la Radio Bio Bio, parece que recibió su apretoncito y se ha hecho eco de las wbds que hablan desde el gobierno, para mentirle a los chilenos. El otro día recitando a Neruda hoy con los conejos. Por favor…#ChileBajoAtaje #ConejosPirómanos https://t.co/DAz3QHEA96',\n",
       "       'RT @ChocoBon_Adi: fakiu \\n\\nme imagine tremenda historia de loq sigue despeus de wbds x mc en la q akusi regresa de donde quiera q estuvo per…',\n",
       "       'RT @andreaflores_s: Hasta la Radio Bio Bio, parece que recibió su apretoncito y se ha hecho eco de las wbds que hablan desde el gobierno, p…',\n",
       "       'RT @andreaflores_s: Hasta la Radio Bio Bio, parece que recibió su apretoncito y se ha hecho eco de las wbds que hablan desde el gobierno, p…',\n",
       "       'RT @literallydiego: Oye que la gente si habla wbds',\n",
       "       '@amnistiaperu No leo wbds ni cojdcs. Quien con violencia actúa, se le debe reprimir de la misma forma, eso faculta la ley. No son ningunos angelitos estos vándalos, filotucos y/o tucos. Por mí, pueden enrollar su asqueroso informe y metérselo en el *.',\n",
       "       'que el consrocio se deje de wbds tambien, estamos solos en esta batalla contra el miserable ese que esta en la fede',\n",
       "       '@sigridbazan heyyyyyyyyyyyyyyyyyyyyyyyy..........................aca la ociosa hablando wbds...........  jajajaja',\n",
       "       '@DiegoCortazar98 @teleSURtv @ReutersLatam Yo tb soy ingeniero, te puedo asegurar que hablan wbds, argumentos inválidos, cómo piedra angular el resentimiento y la envidia.',\n",
       "       '@verdadyduele @ticnt_ qué tiene que ver? acaso sabes si era el caso de su abuela? la gente habla wbds XD',\n",
       "       'RT @CARLOSC97517344: @amnistiaperu No leo wbds ni cojdcs. Quien con violencia actúa, se le debe reprimir de la misma forma, eso faculta la…',\n",
       "       'la vrd q yo si seria esta csm q editaria a mi pareja y a mi en este tipo de wbds \\npero no tengo, asi q lo hago bajo un precio modico\\nlleve casero https://t.co/1ikelqhZj0',\n",
       "       '@Curtyz4 @Kalutss No es eso, sino que el pavo lo hace sin un objetivo visto x eso lo deja, si el la tiene clara la va hacer bien, lo bueno al menos es q intenta bastantes wbds y eso es bueno',\n",
       "       'RT @ChocoBon_Adi: fakiu \\n\\nme imagine tremenda historia de loq sigue despeus de wbds x mc en la q akusi regresa de donde quiera q estuvo per…',\n",
       "       'Quem quiser mais detalhes, falei sobre isso no meetup @remix_run_br em jan.23 https://t.co/PsPqaaJXtT',\n",
       "       'É possível conhecer outras mulheres programadoras ao participar de eventos do MeetUp. Link: https://t.co/tGBOXcCmJz',\n",
       "       'Alô, galera do Rio! Dia 14 de março, na Impulse, vou levar a palavra do #Hashicorp #Nomad pra galera. Colem!!!!\\n\\nhttps://t.co/M36QYFKIrU',\n",
       "       '📣 Newsletter WBDS LA\\n\\n👉 Você pode assinar nossa newsletter GRATUITAMENTE e receber informações sobre  trabalhos, bolsas de estudo e todos os nossos projetos!\\n\\n✍️ Inscreva-se aqui: https://t.co/dFwdIyxasf https://t.co/Q1Umqrg58y',\n",
       "       '@ramonlopezpalop qué opinas? https://t.co/xaJt5SDjXV',\n",
       "       'RT @natayadev: ¿Comunidades favoritas a donde pueden sumarse a colaborar y a conocer a otras personas de IT? ✨\\n\\n@ComunidadMIT @SomosCodear…',\n",
       "       '📣 Newsletter WBDS LA\\n\\u200b\\n👉 ¡Puedes suscribirte a nuestro boletín GRATIS y recibir información sobre trabajos, becas y todos nuestros proyectos!\\n\\n✍️ Regístrate aquí: https://t.co/dFwdIyxasf https://t.co/LMfDyzOMSr',\n",
       "       'RT @WBDSLA: 📣 Newsletter WBDS LA\\n\\u200b\\n👉 ¡Puedes suscribirte a nuestro boletín GRATIS y recibir información sobre trabajos, becas y todos nuest…',\n",
       "       '📣 Newsletter WBDS LA\\n\\u200b\\n👉 ¡Puedes suscribirte a nuestro boletín GRATIS y recibir información sobre trabajos, becas y todos nuestros proyectos!\\n\\n✍️ Regístrate aquí: https://t.co/dFwdIyxIhN https://t.co/BpuWMk7xLZ',\n",
       "       'RT @WBDSLA: 📣 Newsletter WBDS LA\\n\\u200b\\n👉 ¡Puedes suscribirte a nuestro boletín GRATIS y recibir información sobre trabajos, becas y todos nuest…',\n",
       "       '🥳 Terminamos el séptimo encuentro sincrónico del #WBDS_LA_Camp!\\n\\n👉 ¡Esta estudiamos los Alineamientos de secuencias y BLAST !\\n\\nSeguimos creciendo juntxs 🤗 https://t.co/0uZOowXu4S',\n",
       "       'RT @WBDSLA: 🥳 Terminamos el séptimo encuentro sincrónico del #WBDS_LA_Camp!\\n\\n👉 ¡Esta estudiamos los Alineamientos de secuencias y BLAST !…',\n",
       "       'RT @WBDSLA: 🥳 Terminamos el séptimo encuentro sincrónico del #WBDS_LA_Camp!\\n\\n👉 ¡Esta estudiamos los Alineamientos de secuencias y BLAST !…',\n",
       "       'RT @WBDSLA: 🥳 Terminamos el séptimo encuentro sincrónico del #WBDS_LA_Camp!\\n\\n👉 ¡Esta estudiamos los Alineamientos de secuencias y BLAST !…',\n",
       "       'Copyfish Free OCR Software permite sacar el texto de una imagen mediante técnica OCR ...\\n\\nhttps://t.co/J2DOzHyP1R\\n#NoSinMisExtensionesChrome\\n\\nTodas las extensiones en https://t.co/PN1tCBlTlh https://t.co/vTLIjVZYgF',\n",
       "       'RT @ignprigar: Darktable: La plataforma de edición fotográfica OpenSource.\\n\\n#darktable #fotografia #raw #photography #free #software \\n\\nhttp…',\n",
       "       '¡He conseguido mis datos perdidos de  nuevo! Gracias por EaseUS : https://t.co/Jk99MzpvkI',\n",
       "       '@aryblack Yo uso clip studio paint, pero hay mas opciones, autodesk sketchbook, paintstorm, pero el imbatible en precio es krita, que es free software.',\n",
       "       'RT @fsfe: ¡Únete mañana a nuestra celebración del I ♥ Free Software Day en Madrid, España 🇪🇸 #ilovefs\\n⏰ 18:30 \\n📍MakeSpace Madrid, Calle de…',\n",
       "       '¡He conseguido mis datos perdidos de  nuevo! Gracias por EaseUS : https://t.co/ilHiPqnKpH',\n",
       "       '@miguelopezedu @imgende @joseluisserrano @mallemar @eneko_fc @sandboxeduca @flipped_primary @fernando_marti7 @FernandoBoillos @carmeniglesiasb @conticycorazon @BeatrizCerdan @jblasgarcia @maestrocarlosef @dchicapardo @vialap69 Efectivamente , la que aparece en la imagen es Touchcast de iPad, como dice @BeatrizCerdan , pero hay otras formas de hacerlo sin tener iPad. https://t.co/zN0BmGZUcH',\n",
       "       '@juanp944 @ArceYuliano Justamente, eso no es un software \"free\" 🤣',\n",
       "       '@Flamencantada Pasa x prv a unos cuantos,por si llaman 😅 ... A Servidor no, que tengo restringidas las llamadas con app de llamadas FOSS (Free Open Source Software) que no deja más que a conocidos y listas blancas',\n",
       "       'SIrena_del_Sur\\nReedición de proyecto de animación - composición en Blender y Color en DaVInci Resolve\\nCámaras. #HUAWEI, #ActionCamera (1080)\\nSoftware tools MBLab. #Mixamo @Blender 2.98, #DaVnciResolveStudio 18\\n Música Free Release P5.\\nhttps://t.co/fdi9Y0BX3f https://t.co/s6X7e8RklG',\n",
       "       'Copyfish Free OCR Software permite sacar el texto de una imagen mediante técnica OCR ...\\n\\nhttps://t.co/J2DOzHyP1R\\n#NoSinMisExtensionesChrome\\n\\nTodas las extensiones en https://t.co/PN1tCBlTlh https://t.co/NUDWPiG1et',\n",
       "       '¡Prueba el software educativo mozaBook! Regístrate para conseguir una prueba GRATUITA \\n\\n1) Descarga el software MozaBook: https://t.co/R0yN853s7N\\n\\n2) Utiliza la clave para registrarte: MOZ-MC-FREE-MOZA-DEMO-OPTO-IFPD-202303\\n\\nLa prueba gratuita expira el 31 de marzo de 2023. https://t.co/UTx6NxzvXD',\n",
       "       'RT @OptomaES: ¡Prueba el software educativo mozaBook! Regístrate para conseguir una prueba GRATUITA \\n\\n1) Descarga el software MozaBook: htt…',\n",
       "       '@grasatrans1 @fortunytomas @madorni De que poronga estas hablando? Desarrollo en varias comunidades floss y el capital y la ganancia son parte esencial de cualquier desarrollo floss o no floss (floss: free/libre open source software). Ya ni hablemos del open hardware... Sabes cuantos millones mueve linux?',\n",
       "       'Gaming &amp; Retrogaming Utilities: MAME (Multiple Arcade Machine Emulator) 0.252 | https://t.co/gKnlk6yog8\\n\\n#arcade #videogames #gamingpc #RETROGAMING #gaming #gamingcommunity #Software #free #Download https://t.co/3qujpBcFsy',\n",
       "       '¡He conseguido mis datos perdidos de  nuevo! Gracias por EaseUS : https://t.co/Jaq4ZtiMX0',\n",
       "       'Lanzada la primera actualización de 5.27 edición ‘KDE 💖 Free Software’ https://t.co/TysXTf0vEL #KDE',\n",
       "       'Lanzada la primera actualización de 5.27 edición ‘KDE � Free Software’ #kde https://t.co/wX6RlEBDeo',\n",
       "       'Lanzada la primera actualización de 5.27 edición ‘KDE 💖 Free Software’ https://t.co/sVelEd7tLN',\n",
       "       'Lanzada la primera actualización de 5.27 edición ‘KDE 💖 Free Software’\\n\\nCon un poco de retraso respecto al calendario de lanzamiento de los desarrolladores, la Comunidad KDE han comunicado que ha sido lanzada la primera actualización de Plasma 5.27. … https://t.co/mDiPIvQcOH',\n",
       "       'not es que set me free pt2 y like crazy siendo los titles cuando los conceptos se basan en software y hardware nos va a dar un poco de todo un poco de guarreria y un poco de llanto es que nadie conoce a su público como él',\n",
       "       'las versiones siendo software y hardware y una cancion llamandose like crazy y otra set me free me va a joder la vida por completo',\n",
       "       '¡He conseguido mis datos perdidos de  nuevo! Gracias por EaseUS : https://t.co/5JFnzz8jFR',\n",
       "       '¡He conseguido mis datos perdidos de  nuevo! Gracias por EaseUS : https://t.co/qgnDGfkeeZ',\n",
       "       'Copyfish Free OCR Software permite sacar el texto de una imagen mediante técnica OCR ...\\n\\nhttps://t.co/J2DOzHyP1R\\n#NoSinMisExtensionesChrome\\n\\nTodas las extensiones en https://t.co/PN1tCBlTlh https://t.co/FPNeUGf3LX',\n",
       "       'Todo sobre Testing y Debugging de Software Desde 0 a Experto | Free Udemy Course  https://t.co/PDlP8oif74 #development, #software-testing , #Testeo de software\\n\\nFollow @programmingBuddy\\n#Development #WebDevelopment #BigData #Analytics #AI #IoT #IIoT #Python #RStats #TensorFlow …',\n",
       "       '¡Hey coder! 🙋🏻 🙋🏻\\u200d♂️. ¿Sabías que Richard Stallman fundó la Free Software Foundation? Su visión de un mundo con software libre y gratuito es hoy más relevante que nunca 🙌🏼\\n\\nComparte tu opinión sobre Richard Stallman en los comentarios 👩🏻\\u200d💻👨🏻\\u200d💻\\n.\\n#mitocode #programacion #programador #tec https://t.co/FGyh7DVzuk',\n",
       "       'Clipe do Richard Stallman falando das diferenças ideológicas entre os movimentos open-source e free- software\\n\\nhttps://t.co/6Feud0ghL5',\n",
       "       'É uma realidade que na visão de Stallman, devs ganhariam menos, a natureza do serviço seria muito mais plural e holística e software seria uma realidade pra todas as pessoas. Nessa visão monopólios são impossíveis.\\n\\nEntendem quem o movimento free-software desafiava na época?',\n",
       "       'Únete a la comunidad de software libre de Loja, participa del #Flisol 2023\\n\\nPostula tu charla, taller, panel, demo o muestra artística en https://t.co/sm8awAOJeD\\n\\n¡No queremos llegar a abril sin contar con tu participación! #SoftwareLibre #FlisolLoja #ComunidadTecnológica https://t.co/vhmf8SCxvy',\n",
       "       'RT @loxalibre: Únete a la comunidad de software libre de Loja, participa del #Flisol 2023\\n\\nPostula tu charla, taller, panel, demo o muestra…',\n",
       "       'RT @loxalibre: Únete a la comunidad de software libre de Loja, participa del #Flisol 2023\\n\\nPostula tu charla, taller, panel, demo o muestra…',\n",
       "       'RT @loxalibre: Únete a la comunidad de software libre de Loja, participa del #Flisol 2023\\n\\nPostula tu charla, taller, panel, demo o muestra…',\n",
       "       'TecNM Campus Pánuco\\nInvita a #ComunidadTecnológica \\nPresentación del Libro Antología de la cuarta transformación \\n#AprenderParaTrascender\\n#TodosSomosTecNM https://t.co/25Lf219uxF',\n",
       "       'RT @loxalibre: Únete a la comunidad de software libre de Loja, participa del #Flisol 2023\\n\\nPostula tu charla, taller, panel, demo o muestra…',\n",
       "       'RT @loxalibre: Únete a la comunidad de software libre de Loja, participa del #Flisol 2023\\n\\nPostula tu charla, taller, panel, demo o muestra…',\n",
       "       'RT @loxalibre: Únete a la comunidad de software libre de Loja, participa del #Flisol 2023\\n\\nPostula tu charla, taller, panel, demo o muestra…',\n",
       "       'RT @loxalibre: Únete a la comunidad de software libre de Loja, participa del #Flisol 2023\\n\\nPostula tu charla, taller, panel, demo o muestra…',\n",
       "       'RT @loxalibre: Únete a la comunidad de software libre de Loja, participa del #Flisol 2023\\n\\nPostula tu charla, taller, panel, demo o muestra…',\n",
       "       'RT @loxalibre: Únete a la comunidad de software libre de Loja, participa del #Flisol 2023\\n\\nPostula tu charla, taller, panel, demo o muestra…',\n",
       "       'Estudia Ing. en Gestión Empresarial en el #TecNMcampusComitán🎥👉 https://t.co/YQZ2QbOy89 \\n¡Forma parte de nuestra #ComunidadTecnológica!\\nConoce la Convocatoria 2023👉 https://t.co/HixGzt5GxF\\n❓WhatsApp 9631920348 L-V 9-15  y 17-19 h\\n #SomosJaguaresTec Orgullo #TecNM'],\n",
       "      dtype=object)"
      ]
     },
     "execution_count": 36,
     "metadata": {},
     "output_type": "execute_result"
    }
   ],
   "source": [
    "df['text'].values"
   ]
  },
  {
   "cell_type": "code",
   "execution_count": 7,
   "id": "642a9094-908d-4709-aef7-cb2d95401948",
   "metadata": {},
   "outputs": [
    {
     "data": {
      "text/plain": [
       "['/home/okus/Desktop/csvconf/summary/all_3.csv',\n",
       " '/home/okus/Desktop/csvconf/summary/all_2.csv',\n",
       " '/home/okus/Desktop/csvconf/summary/all.csv']"
      ]
     },
     "execution_count": 7,
     "metadata": {},
     "output_type": "execute_result"
    }
   ],
   "source": [
    "\n",
    "csv_lists_all = glob.glob('/home/okus/Desktop/csvconf/summary/*.csv')\n",
    "csv_lists_all"
   ]
  },
  {
   "cell_type": "code",
   "execution_count": 9,
   "id": "8a408a01",
   "metadata": {},
   "outputs": [
    {
     "name": "stdout",
     "output_type": "stream",
     "text": [
      "(548, 21)\n",
      "(485, 21)\n",
      "(3652, 23)\n",
      "(4685, 23)\n",
      "(4685, 23)\n"
     ]
    }
   ],
   "source": [
    "df = pd.DataFrame()\n",
    "\n",
    "for i in csv_lists_all:\n",
    "    df_aux = pd.read_csv(i)\n",
    "    print(df_aux.shape)\n",
    "    df = pd.concat([df_aux, df])\n",
    "    \n",
    "df.id.unique().shape\n",
    "print(df.shape)\n",
    "df = df.drop_duplicates()\n",
    "print(df.shape)"
   ]
  },
  {
   "cell_type": "code",
   "execution_count": 10,
   "id": "0722f02d",
   "metadata": {},
   "outputs": [
    {
     "data": {
      "text/plain": [
       "(4685, 23)"
      ]
     },
     "execution_count": 10,
     "metadata": {},
     "output_type": "execute_result"
    }
   ],
   "source": [
    "df.shape"
   ]
  },
  {
   "cell_type": "code",
   "execution_count": 11,
   "id": "c5e815fc",
   "metadata": {},
   "outputs": [],
   "source": [
    "df.to_csv('/home/okus/Desktop/csvconf/merged_dataframes_mariela.csv')"
   ]
  },
  {
   "cell_type": "code",
   "execution_count": null,
   "id": "4a6d4f5c",
   "metadata": {},
   "outputs": [],
   "source": []
  }
 ],
 "metadata": {
  "kernelspec": {
   "display_name": "Python 3 (ipykernel)",
   "language": "python",
   "name": "python3"
  },
  "language_info": {
   "codemirror_mode": {
    "name": "ipython",
    "version": 3
   },
   "file_extension": ".py",
   "mimetype": "text/x-python",
   "name": "python",
   "nbconvert_exporter": "python",
   "pygments_lexer": "ipython3",
   "version": "3.11.0"
  }
 },
 "nbformat": 4,
 "nbformat_minor": 5
}
